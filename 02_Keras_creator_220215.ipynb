{
 "cells": [
  {
   "cell_type": "markdown",
   "metadata": {},
   "source": [
    "## 2.4.3 확률적 경사 하강법(Gradient Descent)"
   ]
  },
  {
   "cell_type": "code",
   "execution_count": 1,
   "metadata": {},
   "outputs": [
    {
     "ename": "NameError",
     "evalue": "name 'loss' is not defined",
     "output_type": "error",
     "traceback": [
      "\u001b[0;31m---------------------------------------------------------------------------\u001b[0m",
      "\u001b[0;31mNameError\u001b[0m                                 Traceback (most recent call last)",
      "\u001b[0;32m<ipython-input-1-49dd757232b6>\u001b[0m in \u001b[0;36m<module>\u001b[0;34m\u001b[0m\n\u001b[1;32m      2\u001b[0m \u001b[0mpast_velocity\u001b[0m \u001b[0;34m=\u001b[0m \u001b[0;36m0.\u001b[0m\u001b[0;34m\u001b[0m\u001b[0;34m\u001b[0m\u001b[0m\n\u001b[1;32m      3\u001b[0m \u001b[0mmomentum\u001b[0m \u001b[0;34m=\u001b[0m \u001b[0;36m0.1\u001b[0m\u001b[0;34m\u001b[0m\u001b[0;34m\u001b[0m\u001b[0m\n\u001b[0;32m----> 4\u001b[0;31m \u001b[0;32mwhile\u001b[0m \u001b[0mloss\u001b[0m \u001b[0;34m>\u001b[0m \u001b[0;36m0.01\u001b[0m\u001b[0;34m:\u001b[0m\u001b[0;34m\u001b[0m\u001b[0;34m\u001b[0m\u001b[0m\n\u001b[0m\u001b[1;32m      5\u001b[0m     \u001b[0mw\u001b[0m\u001b[0;34m,\u001b[0m \u001b[0mloss\u001b[0m\u001b[0;34m,\u001b[0m \u001b[0mgradient\u001b[0m  \u001b[0;34m=\u001b[0m \u001b[0mget_current_parameters\u001b[0m\u001b[0;34m(\u001b[0m\u001b[0;34m)\u001b[0m\u001b[0;34m\u001b[0m\u001b[0;34m\u001b[0m\u001b[0m\n\u001b[1;32m      6\u001b[0m     \u001b[0mvelocity\u001b[0m \u001b[0;34m=\u001b[0m \u001b[0mmomentum\u001b[0m \u001b[0;34m*\u001b[0m \u001b[0mpast_velocity\u001b[0m \u001b[0;34m-\u001b[0m \u001b[0mlearning_rate\u001b[0m \u001b[0;34m*\u001b[0m \u001b[0mgradient\u001b[0m\u001b[0;34m\u001b[0m\u001b[0;34m\u001b[0m\u001b[0m\n",
      "\u001b[0;31mNameError\u001b[0m: name 'loss' is not defined"
     ]
    }
   ],
   "source": [
    "# 물리학에서 영감을 얻은 모멘텀\n",
    "past_velocity = 0.\n",
    "momentum = 0.1\n",
    "while loss > 0.01:\n",
    "    w, loss, gradient  = get_current_parameters()\n",
    "    velocity = momentum * past_velocity - learning_rate * gradient\n",
    "    w = w + momentum * velocity - learning_rate * gradient\n",
    "    past_velocity = velocity\n",
    "    update_parameter(w)"
   ]
  },
  {
   "cell_type": "code",
   "execution_count": 2,
   "metadata": {},
   "outputs": [
    {
     "ename": "NameError",
     "evalue": "name 'network' is not defined",
     "output_type": "error",
     "traceback": [
      "\u001b[0;31m---------------------------------------------------------------------------\u001b[0m",
      "\u001b[0;31mNameError\u001b[0m                                 Traceback (most recent call last)",
      "\u001b[0;32m<ipython-input-2-2a64a531e127>\u001b[0m in \u001b[0;36m<module>\u001b[0;34m\u001b[0m\n\u001b[1;32m      1\u001b[0m \u001b[0;31m# 다시보는 앞선 코드\u001b[0m\u001b[0;34m\u001b[0m\u001b[0;34m\u001b[0m\u001b[0;34m\u001b[0m\u001b[0m\n\u001b[0;32m----> 2\u001b[0;31m \u001b[0mnetwork\u001b[0m\u001b[0;34m.\u001b[0m\u001b[0mcompile\u001b[0m\u001b[0;34m(\u001b[0m\u001b[0moptimizer\u001b[0m\u001b[0;34m=\u001b[0m\u001b[0;34m'rmsprop'\u001b[0m\u001b[0;34m,\u001b[0m\u001b[0mloss\u001b[0m\u001b[0;34m=\u001b[0m\u001b[0;34m'categorical_crossentropy'\u001b[0m\u001b[0;34m,\u001b[0m\u001b[0mmetrics\u001b[0m\u001b[0;34m=\u001b[0m\u001b[0;34m[\u001b[0m\u001b[0;34m'accuracy'\u001b[0m\u001b[0;34m]\u001b[0m\u001b[0;34m)\u001b[0m\u001b[0;34m\u001b[0m\u001b[0;34m\u001b[0m\u001b[0m\n\u001b[0m",
      "\u001b[0;31mNameError\u001b[0m: name 'network' is not defined"
     ]
    }
   ],
   "source": [
    "# 다시보는 앞선 코드\n",
    "network.compile(optimizer='rmsprop',loss='categorical_crossentropy',metrics=['accuracy'])"
   ]
  },
  {
   "cell_type": "markdown",
   "metadata": {},
   "source": [
    "# 3.1 신경망의 구조"
   ]
  },
  {
   "cell_type": "markdown",
   "metadata": {},
   "source": [
    "1. 네트워크(또는 모델)를 구성하는 층\n",
    "2. 입력 데이터와 그에 상응하는 타깃\n",
    "3. 학습에 사용할 피드백 신호를 정의하는 손실 함수\n",
    "4. 학습 진행 방식을 결정하는 옵티마이저"
   ]
  },
  {
   "cell_type": "markdown",
   "metadata": {},
   "source": [
    "## 3.1.1 층 : 딥러닝의 구성 단위\n",
    "\n",
    "완전 연결층(fully connected layer), 밀집층(dense layer), 밀집 연결 층(densely connected layer)  \n",
    "3D 텐서로 저장된 시퀀스 데이터는 보통 LSTM과 같은 순환 층(recurrent layer)에 의해 처리  \n",
    "4D 텐서로 저장되어 있는 이미지 데이터는 일반적으로 2D 합성곱 층(convolution layer)에 의해 처리  "
   ]
  },
  {
   "cell_type": "code",
   "execution_count": 18,
   "metadata": {},
   "outputs": [],
   "source": [
    "from keras import models\n",
    "from keras import layers\n",
    "\n",
    "model = models.Sequential()\n",
    "model.add(layers.Dense(32, activation='relu', input_shape=(784,)))\n",
    "model.add(layers.Dense(10, activation='softmax'))\n",
    "\n",
    "# 같은 모델을 함수형 API를 사용하여 만들어 보면,\n",
    "input_tensor = layers.Input(shape=(784,))\n",
    "x = layers.Dense(32,activation='relu')(input_tensor)\n",
    "output_tensor = layers.Dense(10, activation='softmax')(x)\n",
    "\n",
    "model = models.Model(inputs=input_tensor, outputs=output_tensor)"
   ]
  },
  {
   "cell_type": "code",
   "execution_count": 22,
   "metadata": {},
   "outputs": [],
   "source": [
    "from tensorflow import keras\n",
    "\n",
    "model.compile(optimizer=keras.optimizers.RMSprop(lr=0.001),loss='mse',metrics=['accuracy'])"
   ]
  },
  {
   "cell_type": "code",
   "execution_count": 23,
   "metadata": {},
   "outputs": [
    {
     "ename": "NameError",
     "evalue": "name 'target_tensor' is not defined",
     "output_type": "error",
     "traceback": [
      "\u001b[0;31m---------------------------------------------------------------------------\u001b[0m",
      "\u001b[0;31mNameError\u001b[0m                                 Traceback (most recent call last)",
      "\u001b[0;32m<ipython-input-23-c17b2397d844>\u001b[0m in \u001b[0;36m<module>\u001b[0;34m\u001b[0m\n\u001b[0;32m----> 1\u001b[0;31m \u001b[0mmodel\u001b[0m\u001b[0;34m.\u001b[0m\u001b[0mfit\u001b[0m\u001b[0;34m(\u001b[0m\u001b[0minput_tensor\u001b[0m\u001b[0;34m,\u001b[0m \u001b[0mtarget_tensor\u001b[0m\u001b[0;34m,\u001b[0m \u001b[0mbatch_size\u001b[0m\u001b[0;34m=\u001b[0m\u001b[0;36m128\u001b[0m\u001b[0;34m,\u001b[0m \u001b[0mepochs\u001b[0m\u001b[0;34m=\u001b[0m\u001b[0;36m10\u001b[0m\u001b[0;34m)\u001b[0m\u001b[0;34m\u001b[0m\u001b[0;34m\u001b[0m\u001b[0m\n\u001b[0m",
      "\u001b[0;31mNameError\u001b[0m: name 'target_tensor' is not defined"
     ]
    }
   ],
   "source": [
    "model.fit(input_tensor, target_tensor, batch_size=128, epochs=10)"
   ]
  },
  {
   "cell_type": "markdown",
   "metadata": {},
   "source": [
    "## 3.4.1 IMDB 데이터셋"
   ]
  },
  {
   "cell_type": "code",
   "execution_count": 78,
   "metadata": {},
   "outputs": [],
   "source": [
    "from keras.datasets import imdb\n",
    "(train_data, train_labels), (test_data, test_labels) = imdb.load_data(num_words=10000)"
   ]
  },
  {
   "cell_type": "code",
   "execution_count": 79,
   "metadata": {},
   "outputs": [
    {
     "data": {
      "text/plain": [
       "[1,\n",
       " 14,\n",
       " 22,\n",
       " 16,\n",
       " 43,\n",
       " 530,\n",
       " 973,\n",
       " 1622,\n",
       " 1385,\n",
       " 65,\n",
       " 458,\n",
       " 4468,\n",
       " 66,\n",
       " 3941,\n",
       " 4,\n",
       " 173,\n",
       " 36,\n",
       " 256,\n",
       " 5,\n",
       " 25,\n",
       " 100,\n",
       " 43,\n",
       " 838,\n",
       " 112,\n",
       " 50,\n",
       " 670,\n",
       " 2,\n",
       " 9,\n",
       " 35,\n",
       " 480,\n",
       " 284,\n",
       " 5,\n",
       " 150,\n",
       " 4,\n",
       " 172,\n",
       " 112,\n",
       " 167,\n",
       " 2,\n",
       " 336,\n",
       " 385,\n",
       " 39,\n",
       " 4,\n",
       " 172,\n",
       " 4536,\n",
       " 1111,\n",
       " 17,\n",
       " 546,\n",
       " 38,\n",
       " 13,\n",
       " 447,\n",
       " 4,\n",
       " 192,\n",
       " 50,\n",
       " 16,\n",
       " 6,\n",
       " 147,\n",
       " 2025,\n",
       " 19,\n",
       " 14,\n",
       " 22,\n",
       " 4,\n",
       " 1920,\n",
       " 4613,\n",
       " 469,\n",
       " 4,\n",
       " 22,\n",
       " 71,\n",
       " 87,\n",
       " 12,\n",
       " 16,\n",
       " 43,\n",
       " 530,\n",
       " 38,\n",
       " 76,\n",
       " 15,\n",
       " 13,\n",
       " 1247,\n",
       " 4,\n",
       " 22,\n",
       " 17,\n",
       " 515,\n",
       " 17,\n",
       " 12,\n",
       " 16,\n",
       " 626,\n",
       " 18,\n",
       " 2,\n",
       " 5,\n",
       " 62,\n",
       " 386,\n",
       " 12,\n",
       " 8,\n",
       " 316,\n",
       " 8,\n",
       " 106,\n",
       " 5,\n",
       " 4,\n",
       " 2223,\n",
       " 5244,\n",
       " 16,\n",
       " 480,\n",
       " 66,\n",
       " 3785,\n",
       " 33,\n",
       " 4,\n",
       " 130,\n",
       " 12,\n",
       " 16,\n",
       " 38,\n",
       " 619,\n",
       " 5,\n",
       " 25,\n",
       " 124,\n",
       " 51,\n",
       " 36,\n",
       " 135,\n",
       " 48,\n",
       " 25,\n",
       " 1415,\n",
       " 33,\n",
       " 6,\n",
       " 22,\n",
       " 12,\n",
       " 215,\n",
       " 28,\n",
       " 77,\n",
       " 52,\n",
       " 5,\n",
       " 14,\n",
       " 407,\n",
       " 16,\n",
       " 82,\n",
       " 2,\n",
       " 8,\n",
       " 4,\n",
       " 107,\n",
       " 117,\n",
       " 5952,\n",
       " 15,\n",
       " 256,\n",
       " 4,\n",
       " 2,\n",
       " 7,\n",
       " 3766,\n",
       " 5,\n",
       " 723,\n",
       " 36,\n",
       " 71,\n",
       " 43,\n",
       " 530,\n",
       " 476,\n",
       " 26,\n",
       " 400,\n",
       " 317,\n",
       " 46,\n",
       " 7,\n",
       " 4,\n",
       " 2,\n",
       " 1029,\n",
       " 13,\n",
       " 104,\n",
       " 88,\n",
       " 4,\n",
       " 381,\n",
       " 15,\n",
       " 297,\n",
       " 98,\n",
       " 32,\n",
       " 2071,\n",
       " 56,\n",
       " 26,\n",
       " 141,\n",
       " 6,\n",
       " 194,\n",
       " 7486,\n",
       " 18,\n",
       " 4,\n",
       " 226,\n",
       " 22,\n",
       " 21,\n",
       " 134,\n",
       " 476,\n",
       " 26,\n",
       " 480,\n",
       " 5,\n",
       " 144,\n",
       " 30,\n",
       " 5535,\n",
       " 18,\n",
       " 51,\n",
       " 36,\n",
       " 28,\n",
       " 224,\n",
       " 92,\n",
       " 25,\n",
       " 104,\n",
       " 4,\n",
       " 226,\n",
       " 65,\n",
       " 16,\n",
       " 38,\n",
       " 1334,\n",
       " 88,\n",
       " 12,\n",
       " 16,\n",
       " 283,\n",
       " 5,\n",
       " 16,\n",
       " 4472,\n",
       " 113,\n",
       " 103,\n",
       " 32,\n",
       " 15,\n",
       " 16,\n",
       " 5345,\n",
       " 19,\n",
       " 178,\n",
       " 32]"
      ]
     },
     "execution_count": 79,
     "metadata": {},
     "output_type": "execute_result"
    }
   ],
   "source": [
    "train_data[0]"
   ]
  },
  {
   "cell_type": "code",
   "execution_count": 80,
   "metadata": {},
   "outputs": [
    {
     "data": {
      "text/plain": [
       "1"
      ]
     },
     "execution_count": 80,
     "metadata": {},
     "output_type": "execute_result"
    }
   ],
   "source": [
    "train_labels[0]"
   ]
  },
  {
   "cell_type": "code",
   "execution_count": 81,
   "metadata": {},
   "outputs": [
    {
     "data": {
      "text/plain": [
       "9999"
      ]
     },
     "execution_count": 81,
     "metadata": {},
     "output_type": "execute_result"
    }
   ],
   "source": [
    "max([max(sequence) for sequence in train_data])"
   ]
  },
  {
   "cell_type": "code",
   "execution_count": 82,
   "metadata": {},
   "outputs": [],
   "source": [
    "word_index = imdb.get_word_index()\n",
    "reverse_word_index = dict([(value, key) for (key, value) in word_index.items()])\n",
    "decoded_review = ' '.join([reverse_word_index.get(i-3, '?') for i in train_data[0]])"
   ]
  },
  {
   "cell_type": "code",
   "execution_count": 83,
   "metadata": {},
   "outputs": [
    {
     "data": {
      "text/plain": [
       "[1,\n",
       " 14,\n",
       " 22,\n",
       " 16,\n",
       " 43,\n",
       " 530,\n",
       " 973,\n",
       " 1622,\n",
       " 1385,\n",
       " 65,\n",
       " 458,\n",
       " 4468,\n",
       " 66,\n",
       " 3941,\n",
       " 4,\n",
       " 173,\n",
       " 36,\n",
       " 256,\n",
       " 5,\n",
       " 25,\n",
       " 100,\n",
       " 43,\n",
       " 838,\n",
       " 112,\n",
       " 50,\n",
       " 670,\n",
       " 2,\n",
       " 9,\n",
       " 35,\n",
       " 480,\n",
       " 284,\n",
       " 5,\n",
       " 150,\n",
       " 4,\n",
       " 172,\n",
       " 112,\n",
       " 167,\n",
       " 2,\n",
       " 336,\n",
       " 385,\n",
       " 39,\n",
       " 4,\n",
       " 172,\n",
       " 4536,\n",
       " 1111,\n",
       " 17,\n",
       " 546,\n",
       " 38,\n",
       " 13,\n",
       " 447,\n",
       " 4,\n",
       " 192,\n",
       " 50,\n",
       " 16,\n",
       " 6,\n",
       " 147,\n",
       " 2025,\n",
       " 19,\n",
       " 14,\n",
       " 22,\n",
       " 4,\n",
       " 1920,\n",
       " 4613,\n",
       " 469,\n",
       " 4,\n",
       " 22,\n",
       " 71,\n",
       " 87,\n",
       " 12,\n",
       " 16,\n",
       " 43,\n",
       " 530,\n",
       " 38,\n",
       " 76,\n",
       " 15,\n",
       " 13,\n",
       " 1247,\n",
       " 4,\n",
       " 22,\n",
       " 17,\n",
       " 515,\n",
       " 17,\n",
       " 12,\n",
       " 16,\n",
       " 626,\n",
       " 18,\n",
       " 2,\n",
       " 5,\n",
       " 62,\n",
       " 386,\n",
       " 12,\n",
       " 8,\n",
       " 316,\n",
       " 8,\n",
       " 106,\n",
       " 5,\n",
       " 4,\n",
       " 2223,\n",
       " 5244,\n",
       " 16,\n",
       " 480,\n",
       " 66,\n",
       " 3785,\n",
       " 33,\n",
       " 4,\n",
       " 130,\n",
       " 12,\n",
       " 16,\n",
       " 38,\n",
       " 619,\n",
       " 5,\n",
       " 25,\n",
       " 124,\n",
       " 51,\n",
       " 36,\n",
       " 135,\n",
       " 48,\n",
       " 25,\n",
       " 1415,\n",
       " 33,\n",
       " 6,\n",
       " 22,\n",
       " 12,\n",
       " 215,\n",
       " 28,\n",
       " 77,\n",
       " 52,\n",
       " 5,\n",
       " 14,\n",
       " 407,\n",
       " 16,\n",
       " 82,\n",
       " 2,\n",
       " 8,\n",
       " 4,\n",
       " 107,\n",
       " 117,\n",
       " 5952,\n",
       " 15,\n",
       " 256,\n",
       " 4,\n",
       " 2,\n",
       " 7,\n",
       " 3766,\n",
       " 5,\n",
       " 723,\n",
       " 36,\n",
       " 71,\n",
       " 43,\n",
       " 530,\n",
       " 476,\n",
       " 26,\n",
       " 400,\n",
       " 317,\n",
       " 46,\n",
       " 7,\n",
       " 4,\n",
       " 2,\n",
       " 1029,\n",
       " 13,\n",
       " 104,\n",
       " 88,\n",
       " 4,\n",
       " 381,\n",
       " 15,\n",
       " 297,\n",
       " 98,\n",
       " 32,\n",
       " 2071,\n",
       " 56,\n",
       " 26,\n",
       " 141,\n",
       " 6,\n",
       " 194,\n",
       " 7486,\n",
       " 18,\n",
       " 4,\n",
       " 226,\n",
       " 22,\n",
       " 21,\n",
       " 134,\n",
       " 476,\n",
       " 26,\n",
       " 480,\n",
       " 5,\n",
       " 144,\n",
       " 30,\n",
       " 5535,\n",
       " 18,\n",
       " 51,\n",
       " 36,\n",
       " 28,\n",
       " 224,\n",
       " 92,\n",
       " 25,\n",
       " 104,\n",
       " 4,\n",
       " 226,\n",
       " 65,\n",
       " 16,\n",
       " 38,\n",
       " 1334,\n",
       " 88,\n",
       " 12,\n",
       " 16,\n",
       " 283,\n",
       " 5,\n",
       " 16,\n",
       " 4472,\n",
       " 113,\n",
       " 103,\n",
       " 32,\n",
       " 15,\n",
       " 16,\n",
       " 5345,\n",
       " 19,\n",
       " 178,\n",
       " 32]"
      ]
     },
     "execution_count": 83,
     "metadata": {},
     "output_type": "execute_result"
    }
   ],
   "source": [
    "train_data[0]"
   ]
  },
  {
   "cell_type": "code",
   "execution_count": 84,
   "metadata": {},
   "outputs": [],
   "source": [
    "import numpy as np\n",
    "\n",
    "def vectorize_sequences(sequences, dimension=10000):\n",
    "    results = np.zeros((len(sequences), dimension))\n",
    "    for i, sequence in enumerate(sequences):\n",
    "        results[i, sequence] = 1.\n",
    "    return results\n",
    "\n",
    "x_train = vectorize_sequences(train_data)\n",
    "x_test = vectorize_sequences(test_data)"
   ]
  },
  {
   "cell_type": "code",
   "execution_count": 85,
   "metadata": {},
   "outputs": [
    {
     "data": {
      "text/plain": [
       "array([[0., 1., 1., ..., 0., 0., 0.],\n",
       "       [0., 1., 1., ..., 0., 0., 0.],\n",
       "       [0., 1., 1., ..., 0., 0., 0.],\n",
       "       ...,\n",
       "       [0., 1., 1., ..., 0., 0., 0.],\n",
       "       [0., 1., 1., ..., 0., 0., 0.],\n",
       "       [0., 1., 1., ..., 0., 0., 0.]])"
      ]
     },
     "execution_count": 85,
     "metadata": {},
     "output_type": "execute_result"
    }
   ],
   "source": [
    "x_train"
   ]
  },
  {
   "cell_type": "code",
   "execution_count": 86,
   "metadata": {},
   "outputs": [
    {
     "data": {
      "text/plain": [
       "array([0., 1., 1., ..., 0., 0., 0.])"
      ]
     },
     "execution_count": 86,
     "metadata": {},
     "output_type": "execute_result"
    }
   ],
   "source": [
    "x_train[0]"
   ]
  },
  {
   "cell_type": "code",
   "execution_count": 87,
   "metadata": {},
   "outputs": [],
   "source": [
    "y_train = np.asarray(train_labels).astype('float32')\n",
    "y_test = np.asarray(test_labels).astype('float32')"
   ]
  },
  {
   "cell_type": "code",
   "execution_count": 88,
   "metadata": {},
   "outputs": [],
   "source": [
    "from keras import models\n",
    "from keras import layers\n",
    "\n",
    "model = models.Sequential()\n",
    "model.add(layers.Dense(16, activation='relu', input_shape=(10000,)))\n",
    "model.add(layers.Dense(16, activation='relu'))\n",
    "model.add(layers.Dense(1, activation='sigmoid'))"
   ]
  },
  {
   "cell_type": "code",
   "execution_count": 89,
   "metadata": {},
   "outputs": [],
   "source": [
    "model.compile(optimizer='rmsprop',loss='binary_crossentropy',metrics=['accuracy'])"
   ]
  },
  {
   "cell_type": "code",
   "execution_count": 90,
   "metadata": {},
   "outputs": [],
   "source": [
    "# 옵티마이저 직접 설정하기\n",
    "from tensorflow import keras\n",
    "\n",
    "model.compile(optimizer=keras.optimizers.RMSprop(lr=0.001),\n",
    "             loss='binary_crossentropy',\n",
    "             metrics=['accuracy'])"
   ]
  },
  {
   "cell_type": "code",
   "execution_count": 91,
   "metadata": {},
   "outputs": [],
   "source": [
    "# 손실과 측정을 함수 객체로 지정하기\n",
    "from tensorflow import keras\n",
    "\n",
    "model.compile(optimizer=keras.optimizers.RMSprop(lr=0.001),\n",
    "             loss=keras.losses.binary_crossentropy,\n",
    "             metrics=[keras.metrics.binary_accuracy])"
   ]
  },
  {
   "cell_type": "markdown",
   "metadata": {},
   "source": [
    "## 3.4.4 훈련 검증"
   ]
  },
  {
   "cell_type": "code",
   "execution_count": 92,
   "metadata": {},
   "outputs": [],
   "source": [
    "x_val = x_train[:10000]\n",
    "partial_x_train = x_train[10000:]\n",
    "y_val = y_train[:10000]\n",
    "partial_y_train = y_train[10000:]"
   ]
  },
  {
   "cell_type": "code",
   "execution_count": 93,
   "metadata": {},
   "outputs": [
    {
     "name": "stdout",
     "output_type": "stream",
     "text": [
      "Epoch 1/20\n",
      "30/30 [==============================] - 2s 43ms/step - loss: 0.5993 - acc: 0.7172 - val_loss: 0.5023 - val_acc: 0.8626\n",
      "Epoch 2/20\n",
      "30/30 [==============================] - 0s 15ms/step - loss: 0.3953 - acc: 0.8914 - val_loss: 0.3546 - val_acc: 0.8798\n",
      "Epoch 3/20\n",
      "30/30 [==============================] - 0s 15ms/step - loss: 0.2770 - acc: 0.9154 - val_loss: 0.2987 - val_acc: 0.8891\n",
      "Epoch 4/20\n",
      "30/30 [==============================] - 0s 14ms/step - loss: 0.2134 - acc: 0.9324 - val_loss: 0.2795 - val_acc: 0.8915\n",
      "Epoch 5/20\n",
      "30/30 [==============================] - 0s 14ms/step - loss: 0.1743 - acc: 0.9435 - val_loss: 0.2989 - val_acc: 0.8799\n",
      "Epoch 6/20\n",
      "30/30 [==============================] - 0s 14ms/step - loss: 0.1452 - acc: 0.9549 - val_loss: 0.3081 - val_acc: 0.8773\n",
      "Epoch 7/20\n",
      "30/30 [==============================] - 0s 15ms/step - loss: 0.1219 - acc: 0.9629 - val_loss: 0.2880 - val_acc: 0.8877\n",
      "Epoch 8/20\n",
      "30/30 [==============================] - 0s 14ms/step - loss: 0.1050 - acc: 0.9679 - val_loss: 0.3027 - val_acc: 0.8850\n",
      "Epoch 9/20\n",
      "30/30 [==============================] - 0s 14ms/step - loss: 0.0866 - acc: 0.9755 - val_loss: 0.3346 - val_acc: 0.8814\n",
      "Epoch 10/20\n",
      "30/30 [==============================] - 0s 14ms/step - loss: 0.0738 - acc: 0.9803 - val_loss: 0.3603 - val_acc: 0.8792\n",
      "Epoch 11/20\n",
      "30/30 [==============================] - 0s 14ms/step - loss: 0.0612 - acc: 0.9841 - val_loss: 0.3675 - val_acc: 0.8771\n",
      "Epoch 12/20\n",
      "30/30 [==============================] - 0s 14ms/step - loss: 0.0504 - acc: 0.9890 - val_loss: 0.4218 - val_acc: 0.8762\n",
      "Epoch 13/20\n",
      "30/30 [==============================] - 0s 14ms/step - loss: 0.0433 - acc: 0.9903 - val_loss: 0.4194 - val_acc: 0.8760\n",
      "Epoch 14/20\n",
      "30/30 [==============================] - 0s 14ms/step - loss: 0.0350 - acc: 0.9929 - val_loss: 0.4499 - val_acc: 0.8754\n",
      "Epoch 15/20\n",
      "30/30 [==============================] - 0s 14ms/step - loss: 0.0281 - acc: 0.9947 - val_loss: 0.4795 - val_acc: 0.8716\n",
      "Epoch 16/20\n",
      "30/30 [==============================] - 0s 14ms/step - loss: 0.0220 - acc: 0.9963 - val_loss: 0.5132 - val_acc: 0.8700\n",
      "Epoch 17/20\n",
      "30/30 [==============================] - 0s 14ms/step - loss: 0.0187 - acc: 0.9973 - val_loss: 0.5769 - val_acc: 0.8712\n",
      "Epoch 18/20\n",
      "30/30 [==============================] - 0s 14ms/step - loss: 0.0132 - acc: 0.9989 - val_loss: 0.5865 - val_acc: 0.8652\n",
      "Epoch 19/20\n",
      "30/30 [==============================] - 0s 14ms/step - loss: 0.0114 - acc: 0.9987 - val_loss: 0.6173 - val_acc: 0.8679\n",
      "Epoch 20/20\n",
      "30/30 [==============================] - 0s 15ms/step - loss: 0.0094 - acc: 0.9985 - val_loss: 0.6642 - val_acc: 0.8680\n"
     ]
    }
   ],
   "source": [
    "model.compile(optimizer='rmsprop', loss='binary_crossentropy',metrics=['acc'])\n",
    "\n",
    "history = model.fit(partial_x_train, partial_y_train, epochs=20, batch_size=512, validation_data=(x_val, y_val))"
   ]
  },
  {
   "cell_type": "code",
   "execution_count": 52,
   "metadata": {},
   "outputs": [],
   "source": [
    "history_dict = history.history"
   ]
  },
  {
   "cell_type": "code",
   "execution_count": 53,
   "metadata": {},
   "outputs": [
    {
     "data": {
      "text/plain": [
       "dict_keys(['loss', 'acc', 'val_loss', 'val_acc'])"
      ]
     },
     "execution_count": 53,
     "metadata": {},
     "output_type": "execute_result"
    }
   ],
   "source": [
    "history_dict.keys()"
   ]
  },
  {
   "cell_type": "code",
   "execution_count": 54,
   "metadata": {},
   "outputs": [
    {
     "data": {
      "image/png": "[encoded data removed]",
      "text/plain": [
       "<Figure size 432x288 with 1 Axes>"
      ]
     },
     "metadata": {
      "needs_background": "light"
     },
     "output_type": "display_data"
    }
   ],
   "source": [
    "import matplotlib.pyplot as plt\n",
    "\n",
    "history_dict = history.history\n",
    "loss = history_dict['loss']\n",
    "val_loss = history_dict['val_loss']\n",
    "\n",
    "epochs = range(1, len(loss) + 1)\n",
    "\n",
    "plt.plot(epochs, loss, 'bo', label='Training loss') # 'bo'는 파란점을 의미\n",
    "plt.plot(epochs, val_loss, 'b', label='Validation loss') # 'b'는 파란색 실선을 의미\n",
    "plt.title('Training and validation loss')\n",
    "plt.xlabel('Epochs')\n",
    "plt.ylabel('Loss')\n",
    "plt.legend()\n",
    "\n",
    "plt.show()"
   ]
  },
  {
   "cell_type": "code",
   "execution_count": 55,
   "metadata": {},
   "outputs": [
    {
     "data": {
      "image/png": "[encoded data removed]",
      "text/plain": [
       "<Figure size 432x288 with 1 Axes>"
      ]
     },
     "metadata": {
      "needs_background": "light"
     },
     "output_type": "display_data"
    }
   ],
   "source": [
    "plt.clf() # 그래프를 초기화\n",
    "acc = history_dict['acc']\n",
    "val_acc = history_dict['val_acc']\n",
    "\n",
    "plt.plot(epochs, acc, 'bo', label='Training acc')\n",
    "plt.plot(epochs, val_acc, 'b', label='Validation acc')\n",
    "plt.title('Training and validation accuracy')\n",
    "plt.xlabel('Epochs')\n",
    "plt.ylabel('Accuracy')\n",
    "plt.legend()\n",
    "\n",
    "plt.show()"
   ]
  },
  {
   "cell_type": "code",
   "execution_count": 58,
   "metadata": {},
   "outputs": [
    {
     "name": "stdout",
     "output_type": "stream",
     "text": [
      "Epoch 1/4\n",
      "49/49 [==============================] - 1s 9ms/step - loss: 0.4968 - accuracy: 0.8166\n",
      "Epoch 2/4\n",
      "49/49 [==============================] - 0s 8ms/step - loss: 0.2854 - accuracy: 0.9073\n",
      "Epoch 3/4\n",
      "49/49 [==============================] - 0s 8ms/step - loss: 0.2092 - accuracy: 0.9273\n",
      "Epoch 4/4\n",
      "49/49 [==============================] - 0s 8ms/step - loss: 0.1709 - accuracy: 0.9388\n",
      "782/782 [==============================] - 1s 703us/step - loss: 0.3008 - accuracy: 0.8829\n"
     ]
    }
   ],
   "source": [
    "# 모델을 처음부터 다시 훈련하기\n",
    "model = models.Sequential()\n",
    "model.add(layers.Dense(16, activation='relu', input_shape=(10000,)))\n",
    "model.add(layers.Dense(16, activation='relu'))\n",
    "model.add(layers.Dense(1, activation='sigmoid'))\n",
    "\n",
    "model.compile(optimizer='rmsprop',loss='binary_crossentropy', metrics=['accuracy'])\n",
    "\n",
    "model.fit(x_train, y_train, epochs=4, batch_size=512)\n",
    "rersults = model.evaluate(x_test, y_test)"
   ]
  },
  {
   "cell_type": "markdown",
   "metadata": {},
   "source": [
    "## 3.4.5 훈련된 모델로 새로운 데이터에 대해 예측하기"
   ]
  },
  {
   "cell_type": "code",
   "execution_count": 59,
   "metadata": {},
   "outputs": [
    {
     "data": {
      "text/plain": [
       "array([[0.12545499],\n",
       "       [0.99763656],\n",
       "       [0.5513122 ],\n",
       "       ...,\n",
       "       [0.05897111],\n",
       "       [0.04297864],\n",
       "       [0.5485426 ]], dtype=float32)"
      ]
     },
     "execution_count": 59,
     "metadata": {},
     "output_type": "execute_result"
    }
   ],
   "source": [
    "model.predict(x_test)"
   ]
  },
  {
   "cell_type": "markdown",
   "metadata": {},
   "source": [
    "# 3.5 뉴스 기사 분류: 다중 분류 문제"
   ]
  },
  {
   "cell_type": "markdown",
   "metadata": {},
   "source": [
    "## 3.5.1 로이터 데이터셋"
   ]
  },
  {
   "cell_type": "code",
   "execution_count": 113,
   "metadata": {},
   "outputs": [],
   "source": [
    "from keras.datasets import reuters\n",
    "\n",
    "(train_data, train_labels),(test_data, test_labels) = reuters.load_data(num_words=10000)"
   ]
  },
  {
   "cell_type": "code",
   "execution_count": 114,
   "metadata": {},
   "outputs": [
    {
     "data": {
      "text/plain": [
       "8982"
      ]
     },
     "execution_count": 114,
     "metadata": {},
     "output_type": "execute_result"
    }
   ],
   "source": [
    "len(train_data)"
   ]
  },
  {
   "cell_type": "code",
   "execution_count": 115,
   "metadata": {},
   "outputs": [
    {
     "data": {
      "text/plain": [
       "2246"
      ]
     },
     "execution_count": 115,
     "metadata": {},
     "output_type": "execute_result"
    }
   ],
   "source": [
    "len(test_data)"
   ]
  },
  {
   "cell_type": "markdown",
   "metadata": {},
   "source": [
    "## 3.5.2 데이터 준비"
   ]
  },
  {
   "cell_type": "code",
   "execution_count": 116,
   "metadata": {},
   "outputs": [],
   "source": [
    "import numpy as np\n",
    "\n",
    "def vectorize_sequences(sequences, dimension=10000):\n",
    "    results = np.zeros((len(sequences), dimension))\n",
    "    for i, sequence in enumerate(sequences):\n",
    "        results[i, sequence] = 1.\n",
    "    return results\n",
    "\n",
    "x_train = vectorize_sequences(train_data) # 훈련 데이터 벡터 변환\n",
    "x_test = vectorize_sequences(test_data) # 테스트 데이터 벡터 변환"
   ]
  },
  {
   "cell_type": "code",
   "execution_count": 117,
   "metadata": {},
   "outputs": [],
   "source": [
    "def to_one_hot(labels, dimension=46):\n",
    "    results = np.zeros((len(labels), dimension))\n",
    "    for i, label in enumerate(labels):\n",
    "        results[i, label] = 1.\n",
    "    return results\n",
    "\n",
    "one_hot_train_labels = to_one_hot(train_labels) # 훈련 레이블 벡터 변환\n",
    "one_hot_test_labels = to_one_hot(test_labels) # 테스트 레이블 벡터 변환"
   ]
  },
  {
   "cell_type": "code",
   "execution_count": 118,
   "metadata": {},
   "outputs": [
    {
     "name": "stdout",
     "output_type": "stream",
     "text": [
      "(8982, 46)\n"
     ]
    }
   ],
   "source": [
    "print(one_hot_train_labels.shape)"
   ]
  },
  {
   "cell_type": "code",
   "execution_count": 100,
   "metadata": {},
   "outputs": [],
   "source": [
    "# 이미 내장되어 있는 케라스 함수\n",
    "from keras.utils.np_utils import to_categorical\n",
    "\n",
    "one_hot_train_labels = to_categorical(train_labels)\n",
    "one_hot_test_labels = to_categorical(test_labels)"
   ]
  },
  {
   "cell_type": "code",
   "execution_count": 119,
   "metadata": {},
   "outputs": [],
   "source": [
    "from keras import models\n",
    "from keras import layers\n",
    "\n",
    "model = models.Sequential()\n",
    "model.add(layers.Dense(64, activation='relu',input_shape=(10000,)))\n",
    "model.add(layers.Dense(64, activation='relu'))\n",
    "model.add(layers.Dense(46, activation='softmax'))"
   ]
  },
  {
   "cell_type": "code",
   "execution_count": 120,
   "metadata": {},
   "outputs": [],
   "source": [
    "model.compile(optimizer='rmsprop',loss='categorical_crossentropy',metrics=['accuracy'])"
   ]
  },
  {
   "cell_type": "markdown",
   "metadata": {},
   "source": [
    "## 3.5.4 훈련 검증"
   ]
  },
  {
   "cell_type": "code",
   "execution_count": 121,
   "metadata": {},
   "outputs": [],
   "source": [
    "x_val = x_train[:1000]\n",
    "partial_x_train = x_train[1000:]\n",
    "\n",
    "y_val = one_hot_train_labels[:1000]\n",
    "partial_y_train = one_hot_train_labels[1000:]"
   ]
  },
  {
   "cell_type": "code",
   "execution_count": 122,
   "metadata": {},
   "outputs": [
    {
     "name": "stdout",
     "output_type": "stream",
     "text": [
      "Epoch 1/20\n",
      "16/16 [==============================] - 1s 33ms/step - loss: 2.6948 - accuracy: 0.5297 - val_loss: 1.8031 - val_accuracy: 0.6370\n",
      "Epoch 2/20\n",
      "16/16 [==============================] - 0s 15ms/step - loss: 1.4866 - accuracy: 0.7013 - val_loss: 1.3440 - val_accuracy: 0.7030\n",
      "Epoch 3/20\n",
      "16/16 [==============================] - 0s 14ms/step - loss: 1.0936 - accuracy: 0.7675 - val_loss: 1.1725 - val_accuracy: 0.7420\n",
      "Epoch 4/20\n",
      "16/16 [==============================] - 0s 14ms/step - loss: 0.8725 - accuracy: 0.8146 - val_loss: 1.0644 - val_accuracy: 0.7730\n",
      "Epoch 5/20\n",
      "16/16 [==============================] - 0s 15ms/step - loss: 0.7113 - accuracy: 0.8510 - val_loss: 1.0049 - val_accuracy: 0.7990\n",
      "Epoch 6/20\n",
      "16/16 [==============================] - 0s 15ms/step - loss: 0.5778 - accuracy: 0.8800 - val_loss: 0.9694 - val_accuracy: 0.7950\n",
      "Epoch 7/20\n",
      "16/16 [==============================] - 0s 14ms/step - loss: 0.4725 - accuracy: 0.9022 - val_loss: 0.9500 - val_accuracy: 0.7990\n",
      "Epoch 8/20\n",
      "16/16 [==============================] - 0s 14ms/step - loss: 0.3891 - accuracy: 0.9189 - val_loss: 0.9226 - val_accuracy: 0.8070\n",
      "Epoch 9/20\n",
      "16/16 [==============================] - 0s 14ms/step - loss: 0.3213 - accuracy: 0.9303 - val_loss: 0.9216 - val_accuracy: 0.8180\n",
      "Epoch 10/20\n",
      "16/16 [==============================] - 0s 14ms/step - loss: 0.2735 - accuracy: 0.9399 - val_loss: 0.9232 - val_accuracy: 0.8170\n",
      "Epoch 11/20\n",
      "16/16 [==============================] - 0s 14ms/step - loss: 0.2335 - accuracy: 0.9474 - val_loss: 0.9247 - val_accuracy: 0.8200\n",
      "Epoch 12/20\n",
      "16/16 [==============================] - 0s 14ms/step - loss: 0.2017 - accuracy: 0.9503 - val_loss: 0.9343 - val_accuracy: 0.8260\n",
      "Epoch 13/20\n",
      "16/16 [==============================] - 0s 15ms/step - loss: 0.1783 - accuracy: 0.9504 - val_loss: 0.9800 - val_accuracy: 0.8140\n",
      "Epoch 14/20\n",
      "16/16 [==============================] - 0s 14ms/step - loss: 0.1602 - accuracy: 0.9531 - val_loss: 0.9821 - val_accuracy: 0.8150\n",
      "Epoch 15/20\n",
      "16/16 [==============================] - 0s 14ms/step - loss: 0.1502 - accuracy: 0.9545 - val_loss: 1.0405 - val_accuracy: 0.8060\n",
      "Epoch 16/20\n",
      "16/16 [==============================] - 0s 15ms/step - loss: 0.1408 - accuracy: 0.9531 - val_loss: 0.9875 - val_accuracy: 0.8200\n",
      "Epoch 17/20\n",
      "16/16 [==============================] - 0s 14ms/step - loss: 0.1312 - accuracy: 0.9540 - val_loss: 1.0311 - val_accuracy: 0.8130\n",
      "Epoch 18/20\n",
      "16/16 [==============================] - 0s 14ms/step - loss: 0.1235 - accuracy: 0.9557 - val_loss: 1.0427 - val_accuracy: 0.8170\n",
      "Epoch 19/20\n",
      "16/16 [==============================] - 0s 14ms/step - loss: 0.1239 - accuracy: 0.9568 - val_loss: 1.1024 - val_accuracy: 0.8120\n",
      "Epoch 20/20\n",
      "16/16 [==============================] - 0s 15ms/step - loss: 0.1202 - accuracy: 0.9551 - val_loss: 1.0913 - val_accuracy: 0.8070\n"
     ]
    }
   ],
   "source": [
    "history = model.fit(partial_x_train, partial_y_train, epochs=20, batch_size=512, validation_data=(x_val, y_val))"
   ]
  },
  {
   "cell_type": "code",
   "execution_count": 123,
   "metadata": {},
   "outputs": [
    {
     "data": {
      "image/png": "[encoded data removed]",
      "text/plain": [
       "<Figure size 432x288 with 1 Axes>"
      ]
     },
     "metadata": {
      "needs_background": "light"
     },
     "output_type": "display_data"
    }
   ],
   "source": [
    "import matplotlib.pyplot as plt\n",
    "\n",
    "loss = history.history['loss']\n",
    "val_loss = history.history['val_loss']\n",
    "\n",
    "epochs = range(1, len(loss) + 1)\n",
    "\n",
    "plt.plot(epochs, loss, 'bo', label='Training loss')\n",
    "plt.plot(epochs, val_loss, 'b', label='Validation loss')\n",
    "plt.title('Training and validation loss')\n",
    "plt.xlabel('Epochs')\n",
    "plt.ylabel('Loss')\n",
    "plt.legend()\n",
    "\n",
    "plt.show()"
   ]
  },
  {
   "cell_type": "code",
   "execution_count": 127,
   "metadata": {},
   "outputs": [
    {
     "data": {
      "image/png": "[encoded data removed]",
      "text/plain": [
       "<Figure size 432x288 with 1 Axes>"
      ]
     },
     "metadata": {
      "needs_background": "light"
     },
     "output_type": "display_data"
    }
   ],
   "source": [
    "plt.clf() # 그래프를 초기화\n",
    "\n",
    "acc = history.history['accuracy']\n",
    "val_acc = history.history['val_accuracy']\n",
    "\n",
    "plt.plot(epochs, acc, 'bo', label='Training acc')\n",
    "\n",
    "plt.plot(epochs, val_acc, 'b', label='Validation acc')\n",
    "plt.title('Training and validation accuracy')\n",
    "plt.xlabel('Epochs')\n",
    "plt.ylabel('Accuracy')\n",
    "plt.legend()\n",
    "\n",
    "plt.show()"
   ]
  },
  {
   "cell_type": "code",
   "execution_count": 131,
   "metadata": {},
   "outputs": [
    {
     "name": "stdout",
     "output_type": "stream",
     "text": [
      "Epoch 1/9\n",
      "16/16 [==============================] - 1s 24ms/step - loss: 2.6673 - accuracy: 0.4748 - val_loss: 1.7962 - val_accuracy: 0.6310\n",
      "Epoch 2/9\n",
      "16/16 [==============================] - 0s 15ms/step - loss: 1.4733 - accuracy: 0.6962 - val_loss: 1.3644 - val_accuracy: 0.6910\n",
      "Epoch 3/9\n",
      "16/16 [==============================] - 0s 13ms/step - loss: 1.1073 - accuracy: 0.7666 - val_loss: 1.1749 - val_accuracy: 0.7510\n",
      "Epoch 4/9\n",
      "16/16 [==============================] - 0s 13ms/step - loss: 0.8811 - accuracy: 0.8160 - val_loss: 1.0814 - val_accuracy: 0.7720\n",
      "Epoch 5/9\n",
      "16/16 [==============================] - 0s 13ms/step - loss: 0.7027 - accuracy: 0.8535 - val_loss: 0.9829 - val_accuracy: 0.7890\n",
      "Epoch 6/9\n",
      "16/16 [==============================] - 0s 13ms/step - loss: 0.5552 - accuracy: 0.8849 - val_loss: 0.9316 - val_accuracy: 0.8070\n",
      "Epoch 7/9\n",
      "16/16 [==============================] - 0s 14ms/step - loss: 0.4470 - accuracy: 0.9087 - val_loss: 0.9828 - val_accuracy: 0.7850\n",
      "Epoch 8/9\n",
      "16/16 [==============================] - 0s 13ms/step - loss: 0.3616 - accuracy: 0.9262 - val_loss: 0.9314 - val_accuracy: 0.8080\n",
      "Epoch 9/9\n",
      "16/16 [==============================] - 0s 14ms/step - loss: 0.2958 - accuracy: 0.9381 - val_loss: 0.9115 - val_accuracy: 0.8100\n",
      "71/71 [==============================] - 0s 1ms/step - loss: 1.0115 - accuracy: 0.7823\n"
     ]
    }
   ],
   "source": [
    "model = models.Sequential()\n",
    "model.add(layers.Dense(64, activation='relu',input_shape=(10000,)))\n",
    "model.add(layers.Dense(64, activation='relu'))\n",
    "model.add(layers.Dense(46, activation='softmax'))\n",
    "\n",
    "model.compile(optimizer='rmsprop', loss='categorical_crossentropy',metrics=['accuracy'])\n",
    "\n",
    "model.fit(partial_x_train, partial_y_train, epochs=9, batch_size=512, validation_data=(x_val, y_val))\n",
    "\n",
    "results = model.evaluate(x_test, one_hot_test_labels)"
   ]
  },
  {
   "cell_type": "code",
   "execution_count": 132,
   "metadata": {},
   "outputs": [
    {
     "data": {
      "text/plain": [
       "[1.0114753246307373, 0.7822796106338501]"
      ]
     },
     "execution_count": 132,
     "metadata": {},
     "output_type": "execute_result"
    }
   ],
   "source": [
    "results"
   ]
  },
  {
   "cell_type": "markdown",
   "metadata": {},
   "source": [
    "## 3.5.5 새로운 데이터에 대해 예측하기"
   ]
  },
  {
   "cell_type": "code",
   "execution_count": 133,
   "metadata": {},
   "outputs": [],
   "source": [
    "predictions = model.predict(x_test)"
   ]
  },
  {
   "cell_type": "code",
   "execution_count": 135,
   "metadata": {},
   "outputs": [
    {
     "data": {
      "text/plain": [
       "(46,)"
      ]
     },
     "execution_count": 135,
     "metadata": {},
     "output_type": "execute_result"
    }
   ],
   "source": [
    "predictions[0].shape"
   ]
  },
  {
   "cell_type": "code",
   "execution_count": 136,
   "metadata": {},
   "outputs": [
    {
     "data": {
      "text/plain": [
       "1.0000001"
      ]
     },
     "execution_count": 136,
     "metadata": {},
     "output_type": "execute_result"
    }
   ],
   "source": [
    "np.sum(predictions[0])"
   ]
  },
  {
   "cell_type": "code",
   "execution_count": 137,
   "metadata": {},
   "outputs": [
    {
     "data": {
      "text/plain": [
       "3"
      ]
     },
     "execution_count": 137,
     "metadata": {},
     "output_type": "execute_result"
    }
   ],
   "source": [
    "np.argmax(predictions[0])"
   ]
  },
  {
   "cell_type": "code",
   "execution_count": 138,
   "metadata": {},
   "outputs": [
    {
     "name": "stdout",
     "output_type": "stream",
     "text": [
      "0.87323684\n"
     ]
    }
   ],
   "source": [
    "print(predictions[0][3])"
   ]
  },
  {
   "cell_type": "markdown",
   "metadata": {},
   "source": [
    "## 3.5.6 레이블과 손실을 다루는 다른 방법"
   ]
  },
  {
   "cell_type": "code",
   "execution_count": 139,
   "metadata": {},
   "outputs": [],
   "source": [
    "y_train = np.array(train_labels)\n",
    "y_test = np.array(test_labels)"
   ]
  },
  {
   "cell_type": "code",
   "execution_count": 140,
   "metadata": {},
   "outputs": [],
   "source": [
    "# 이 방식을 사용하려면 손실 함수 하나만 바꾸면 된다.\n",
    "# 앞서 사용된 손실 함수 categorical_crossentropy는 레이블이 범주형 인코딩되어 있을 것이라고 기대함\n",
    "model.compile(optimizer='rmsprop', loss='sparse_categorical_crossentropy',metrics=['acc'])"
   ]
  },
  {
   "cell_type": "markdown",
   "metadata": {},
   "source": [
    "## 3.5.7 충분히 큰 중간층을 두어야 하는 이유"
   ]
  },
  {
   "cell_type": "code",
   "execution_count": 141,
   "metadata": {},
   "outputs": [],
   "source": [
    "model = models.Sequential()\n",
    "model.add(layers.Dense(64, activation='relu', input_shape=(10000,)))\n",
    "model.add(layers.Dense(4, activation='relu'))\n",
    "model.add(layers.Dense(46, activation='softmax'))\n",
    "\n",
    "model.compile(optimizer='rmsprop',loss='categorical_crossentropy',metrics=['accuracy'])"
   ]
  },
  {
   "cell_type": "code",
   "execution_count": 142,
   "metadata": {},
   "outputs": [
    {
     "name": "stdout",
     "output_type": "stream",
     "text": [
      "Epoch 1/20\n",
      "63/63 [==============================] - 1s 10ms/step - loss: 2.8983 - accuracy: 0.3320 - val_loss: 2.0740 - val_accuracy: 0.4570\n",
      "Epoch 2/20\n",
      "63/63 [==============================] - 1s 8ms/step - loss: 1.6262 - accuracy: 0.6312 - val_loss: 1.4848 - val_accuracy: 0.6540\n",
      "Epoch 3/20\n",
      "63/63 [==============================] - 1s 8ms/step - loss: 1.2741 - accuracy: 0.6833 - val_loss: 1.3485 - val_accuracy: 0.6680\n",
      "Epoch 4/20\n",
      "63/63 [==============================] - 1s 8ms/step - loss: 1.1138 - accuracy: 0.7091 - val_loss: 1.2951 - val_accuracy: 0.6930\n",
      "Epoch 5/20\n",
      "63/63 [==============================] - 1s 8ms/step - loss: 0.9981 - accuracy: 0.7393 - val_loss: 1.2605 - val_accuracy: 0.6930\n",
      "Epoch 6/20\n",
      "63/63 [==============================] - 1s 8ms/step - loss: 0.9049 - accuracy: 0.7687 - val_loss: 1.2539 - val_accuracy: 0.7120\n",
      "Epoch 7/20\n",
      "63/63 [==============================] - 1s 8ms/step - loss: 0.8295 - accuracy: 0.7904 - val_loss: 1.2567 - val_accuracy: 0.7130\n",
      "Epoch 8/20\n",
      "63/63 [==============================] - 1s 8ms/step - loss: 0.7650 - accuracy: 0.8037 - val_loss: 1.2759 - val_accuracy: 0.7080\n",
      "Epoch 9/20\n",
      "63/63 [==============================] - 1s 8ms/step - loss: 0.7139 - accuracy: 0.8102 - val_loss: 1.2849 - val_accuracy: 0.7150\n",
      "Epoch 10/20\n",
      "63/63 [==============================] - 1s 8ms/step - loss: 0.6674 - accuracy: 0.8186 - val_loss: 1.3363 - val_accuracy: 0.7100\n",
      "Epoch 11/20\n",
      "63/63 [==============================] - 1s 8ms/step - loss: 0.6301 - accuracy: 0.8221 - val_loss: 1.3776 - val_accuracy: 0.7030\n",
      "Epoch 12/20\n",
      "63/63 [==============================] - 1s 8ms/step - loss: 0.5972 - accuracy: 0.8274 - val_loss: 1.4108 - val_accuracy: 0.7020\n",
      "Epoch 13/20\n",
      "63/63 [==============================] - 1s 8ms/step - loss: 0.5691 - accuracy: 0.8348 - val_loss: 1.4629 - val_accuracy: 0.7060\n",
      "Epoch 14/20\n",
      "63/63 [==============================] - 1s 8ms/step - loss: 0.5429 - accuracy: 0.8439 - val_loss: 1.4988 - val_accuracy: 0.7060\n",
      "Epoch 15/20\n",
      "63/63 [==============================] - 1s 8ms/step - loss: 0.5160 - accuracy: 0.8545 - val_loss: 1.5378 - val_accuracy: 0.7110\n",
      "Epoch 16/20\n",
      "63/63 [==============================] - 1s 8ms/step - loss: 0.4927 - accuracy: 0.8599 - val_loss: 1.5632 - val_accuracy: 0.7080\n",
      "Epoch 17/20\n",
      "63/63 [==============================] - 1s 8ms/step - loss: 0.4707 - accuracy: 0.8653 - val_loss: 1.6485 - val_accuracy: 0.7040\n",
      "Epoch 18/20\n",
      "63/63 [==============================] - 1s 8ms/step - loss: 0.4516 - accuracy: 0.8702 - val_loss: 1.6832 - val_accuracy: 0.7110\n",
      "Epoch 19/20\n",
      "63/63 [==============================] - 1s 8ms/step - loss: 0.4326 - accuracy: 0.8741 - val_loss: 1.7181 - val_accuracy: 0.7080\n",
      "Epoch 20/20\n",
      "63/63 [==============================] - 1s 8ms/step - loss: 0.4169 - accuracy: 0.8829 - val_loss: 1.8633 - val_accuracy: 0.7010\n"
     ]
    },
    {
     "data": {
      "text/plain": [
       "<keras.callbacks.History at 0x7f9ca4c73a60>"
      ]
     },
     "execution_count": 142,
     "metadata": {},
     "output_type": "execute_result"
    }
   ],
   "source": [
    "model.fit(partial_x_train, partial_y_train, epochs=20, batch_size=128, validation_data=(x_val, y_val))"
   ]
  },
  {
   "cell_type": "markdown",
   "metadata": {},
   "source": [
    "# 3.6 주택 가격 예측: 회귀 문제"
   ]
  },
  {
   "cell_type": "markdown",
   "metadata": {},
   "source": [
    "## 3.6.1 보스턴 주택 가격 데이터셋"
   ]
  },
  {
   "cell_type": "code",
   "execution_count": 164,
   "metadata": {},
   "outputs": [],
   "source": [
    "from keras.datasets import boston_housing\n",
    "\n",
    "(train_data, train_targets), (test_data, test_targets) = boston_housing.load_data()"
   ]
  },
  {
   "cell_type": "code",
   "execution_count": 145,
   "metadata": {},
   "outputs": [
    {
     "data": {
      "text/plain": [
       "(404, 13)"
      ]
     },
     "execution_count": 145,
     "metadata": {},
     "output_type": "execute_result"
    }
   ],
   "source": [
    "train_data.shape"
   ]
  },
  {
   "cell_type": "code",
   "execution_count": 146,
   "metadata": {},
   "outputs": [
    {
     "data": {
      "text/plain": [
       "(102, 13)"
      ]
     },
     "execution_count": 146,
     "metadata": {},
     "output_type": "execute_result"
    }
   ],
   "source": [
    "test_data.shape"
   ]
  },
  {
   "cell_type": "markdown",
   "metadata": {},
   "source": [
    "## 3.6.2 데이터 준비"
   ]
  },
  {
   "cell_type": "code",
   "execution_count": 165,
   "metadata": {},
   "outputs": [],
   "source": [
    "# 상이한 스케일을 가진 값을 신경망에 주입하면 문제가 된다.\n",
    "# 이런 데이터를 다룰 때 대표적인 방법은 특성별로 정규화를 하는 것\n",
    "# 입력 데이터에 있는 각 특성(입력 데이터 행렬의 열)에 대해서 특성의 평균을 빼고 표준 편차로 나눕니다.\n",
    "# 특성의 중앙이 0 근처에 맞추어지고 표준 편차가 1이 됩니다.\n",
    "mean = train_data.mean(axis=0)\n",
    "train_data -= mean\n",
    "std = train_data.std(axis=0)\n",
    "train_data /= std\n",
    "\n",
    "test_data -= mean\n",
    "test_data /= std"
   ]
  },
  {
   "cell_type": "markdown",
   "metadata": {},
   "source": [
    "## 3.6.3 모델 구성"
   ]
  },
  {
   "cell_type": "code",
   "execution_count": 194,
   "metadata": {},
   "outputs": [],
   "source": [
    "# 일반적으로 훈련 데이터의 개수가 적을수록 과대적합이 더 쉽게 일어나므로 작은 모델을 사용하는 것이 과대적합을 피하는 한 방법\n",
    "from keras import models\n",
    "from keras import layers\n",
    "from keras import metrics\n",
    "import tensorflow as tf\n",
    "\n",
    "def build_model():\n",
    "    model = models.Sequential()\n",
    "    model.add(layers.Dense(64, activation='relu', input_shape=(train_data.shape[1],)))\n",
    "    model.add(layers.Dense(64, activation='relu'))\n",
    "    model.add(layers.Dense(1))\n",
    "    model.compile(optimizer='Adam', loss='mse', metrics=[tf.keras.metrics.MeanAbsoluteError()])\n",
    "    return model"
   ]
  },
  {
   "cell_type": "markdown",
   "metadata": {},
   "source": [
    "## 3.6.4 K-겹 검증을 사용한 훈련 검증"
   ]
  },
  {
   "cell_type": "code",
   "execution_count": 175,
   "metadata": {},
   "outputs": [
    {
     "name": "stdout",
     "output_type": "stream",
     "text": [
      "처리중인 폴드 # 0\n",
      "처리중인 폴드 # 1\n",
      "처리중인 폴드 # 2\n",
      "처리중인 폴드 # 3\n"
     ]
    }
   ],
   "source": [
    "import numpy as np\n",
    "\n",
    "k=4\n",
    "num_val_samples = len(train_data) // k\n",
    "num_epochs = 100\n",
    "all_scores = []\n",
    "for i in range(k):\n",
    "    print('처리중인 폴드 #', i)\n",
    "    val_data = train_data[i * num_val_samples: (i+1) * num_val_samples]\n",
    "    val_targets = train_targets[i * num_val_samples: (i+1) * num_val_samples]\n",
    "    \n",
    "    partial_train_data = np.concatenate(\n",
    "    [train_data[:i * num_val_samples],\n",
    "    train_data[(i+1)*num_val_samples:]],\n",
    "    axis=0)\n",
    "    partial_train_targets = np.concatenate(\n",
    "    [train_targets[:i * num_val_samples],\n",
    "    train_targets[(i+1)*num_val_samples:]],\n",
    "    axis=0)\n",
    "    \n",
    "    model = build_model()\n",
    "    model.fit(partial_train_data, partial_train_targets, epochs=num_epochs, batch_size=1, verbose=0) # verbose=0 이므로 훈련 과정이 출력되지 않습니다.\n",
    "    val_mse, val_mae = model.evaluate(val_data, val_targets, verbose=0)\n",
    "    all_scores.append(val_mae)\n",
    "    "
   ]
  },
  {
   "cell_type": "code",
   "execution_count": 152,
   "metadata": {},
   "outputs": [
    {
     "data": {
      "text/plain": [
       "[2.106335401535034, 2.465151071548462, 2.397310733795166, 2.6179704666137695]"
      ]
     },
     "execution_count": 152,
     "metadata": {},
     "output_type": "execute_result"
    }
   ],
   "source": [
    "all_scores"
   ]
  },
  {
   "cell_type": "code",
   "execution_count": 153,
   "metadata": {},
   "outputs": [
    {
     "data": {
      "text/plain": [
       "2.396691918373108"
      ]
     },
     "execution_count": 153,
     "metadata": {},
     "output_type": "execute_result"
    }
   ],
   "source": [
    "np.mean(all_scores)"
   ]
  },
  {
   "cell_type": "code",
   "execution_count": 196,
   "metadata": {},
   "outputs": [
    {
     "name": "stdout",
     "output_type": "stream",
     "text": [
      "처리중인 폴드 # 0\n",
      "{'loss': [182.0057830810547, 27.707666397094727, 19.949230194091797, 17.24190330505371, 14.377364158630371, 13.778841018676758, 12.903166770935059, 12.309954643249512, 11.874228477478027, 11.156414985656738, 10.911545753479004, 10.786978721618652, 10.503364562988281, 9.745031356811523, 9.443133354187012, 10.358607292175293, 8.87762451171875, 9.946221351623535, 9.196964263916016, 8.552582740783691, 8.138361930847168, 8.594075202941895, 7.621814250946045, 7.596047401428223, 7.8601484298706055, 7.553920269012451, 6.6182541847229, 7.674192905426025, 7.276654243469238, 6.95509672164917, 6.870674133300781, 6.435372829437256, 6.92135763168335, 7.08510684967041, 5.931488990783691, 6.929211139678955, 6.788881301879883, 5.776501178741455, 5.560570240020752, 5.760097026824951, 5.610322952270508, 5.688902378082275, 5.704094886779785, 5.324585914611816, 5.457444667816162, 5.314098834991455, 4.750439167022705, 5.196347713470459, 5.186272621154785, 4.898769378662109, 4.557724952697754, 4.795614719390869, 4.18793249130249, 4.74626350402832, 4.82514762878418, 4.424934387207031, 4.566120147705078, 4.300593376159668, 4.041879177093506, 4.36199426651001, 4.211461544036865, 4.341593265533447, 3.8058416843414307, 3.5763423442840576, 3.9597980976104736, 3.7569072246551514, 3.695155382156372, 3.9704246520996094, 3.7582857608795166, 3.4715843200683594, 3.6314094066619873, 3.43721604347229, 3.574031352996826, 3.4211275577545166, 3.227471113204956, 3.475163221359253, 3.3884506225585938, 3.260009527206421, 3.1245293617248535, 3.098626136779785, 3.7568185329437256, 2.869920253753662, 2.9793739318847656, 2.9812674522399902, 2.781236171722412, 3.0418701171875, 3.2102344036102295, 3.0947492122650146, 2.695378303527832, 2.4656331539154053, 3.1491200923919678, 2.8546793460845947, 2.751006841659546, 2.6582767963409424, 2.712503671646118, 2.369040012359619, 2.6207103729248047, 2.2412776947021484, 2.9442501068115234, 2.545332908630371, 2.6627464294433594, 2.8169634342193604, 2.494547128677368, 2.5623109340667725, 2.9274728298187256, 2.5953423976898193, 2.1508452892303467, 2.3940176963806152, 2.473961591720581, 2.542562961578369, 1.9704729318618774, 2.3006017208099365, 2.2771472930908203, 2.356196880340576, 2.253084659576416, 2.701913595199585, 2.2013304233551025, 2.008214235305786, 2.321453809738159, 2.0689656734466553, 1.8794015645980835, 2.1472175121307373, 2.453481674194336, 1.9756673574447632, 2.1820602416992188, 2.2863354682922363, 1.8623175621032715, 1.8980839252471924, 1.9878870248794556, 1.8793227672576904, 2.019547462463379, 2.01513409614563, 1.5459474325180054, 1.723662257194519, 2.1162824630737305, 1.8898624181747437, 1.6589574813842773, 1.8224250078201294, 1.7026396989822388, 1.7629441022872925, 1.6937600374221802, 1.8834123611450195, 1.7051095962524414, 1.5189348459243774, 1.6618586778640747, 1.8187434673309326, 1.3964074850082397, 1.6289308071136475, 1.8934491872787476, 1.8417810201644897, 1.5990285873413086, 1.6846234798431396, 1.532348394393921, 1.6629470586776733, 1.6445395946502686, 1.6903076171875, 1.666833758354187, 1.3990442752838135, 1.5965936183929443, 1.6644549369812012, 1.4596425294876099, 1.4424173831939697, 1.4983588457107544, 1.5418504476547241, 1.8067822456359863, 1.3316384553909302, 1.374313473701477, 1.525525450706482, 1.5519897937774658, 1.8325977325439453, 1.4272558689117432, 1.307655692100525, 1.601770281791687, 1.5326428413391113, 1.363114595413208, 1.4845569133758545, 1.242935299873352, 1.3681460618972778, 1.6674625873565674, 1.3545259237289429, 1.4494571685791016, 1.4195430278778076, 1.2149558067321777, 1.2143425941467285, 1.3449726104736328, 1.467546820640564, 1.4211679697036743, 1.406370997428894, 1.1867687702178955, 1.27806556224823, 1.1698081493377686, 1.4696894884109497, 1.3354859352111816, 1.0027825832366943, 1.3617297410964966, 1.422218918800354, 1.6953513622283936, 1.268994688987732, 0.9952955842018127, 1.5490463972091675, 1.1924163103103638, 1.0372146368026733, 0.8743213415145874, 1.3711203336715698, 1.0935461521148682, 1.823585033416748, 1.2078027725219727, 1.1406818628311157, 1.0476917028427124, 0.9858627915382385, 1.1317968368530273, 1.213710904121399, 0.9053055644035339, 1.2747396230697632, 1.0767754316329956, 1.0414470434188843, 1.360603928565979, 1.152177333831787, 0.9382699728012085, 1.0985782146453857, 0.9364078044891357, 1.2859814167022705, 1.2125189304351807, 0.9698058366775513, 1.2109063863754272, 1.1366714239120483, 1.1401445865631104, 1.2439939975738525, 1.1712424755096436, 1.2508788108825684, 1.1199921369552612, 1.1554523706436157, 0.7900552749633789, 1.1261446475982666, 1.1987862586975098, 1.3290777206420898, 0.9978830218315125, 0.8587258458137512, 1.150475025177002, 1.0755199193954468, 1.1181461811065674, 1.0691136121749878, 0.9349057078361511, 0.8471088409423828, 1.104453682899475, 1.405014157295227, 1.005509614944458, 1.2042847871780396, 0.9594566226005554, 0.8744069933891296, 1.0551098585128784, 1.0504958629608154, 0.775299072265625, 0.7637535333633423, 1.009925365447998, 0.8304458260536194, 1.3210439682006836, 0.9344766736030579, 0.9904139637947083, 0.7656326293945312, 0.8598767518997192, 0.9724817276000977, 1.0865974426269531, 0.7144008278846741, 1.0769298076629639, 0.9235383868217468, 0.8446945548057556, 1.0612461566925049, 1.3048155307769775, 0.8057113885879517, 0.8036461472511292, 0.8696489334106445, 0.9987266063690186, 1.106612205505371, 0.9553954601287842, 0.8952625393867493, 0.7284005284309387, 1.1722532510757446, 1.3015105724334717, 0.8520038723945618, 0.7081244587898254, 0.7263405919075012, 0.7938708066940308, 0.863491952419281, 0.7784375548362732, 0.7440560460090637, 0.9281582236289978, 0.8439313173294067, 0.9723823070526123, 0.7893555164337158, 0.9375414848327637, 0.9572963118553162, 1.0864109992980957, 1.311722755432129, 0.9831992983818054, 0.7533913254737854, 0.7656450867652893, 0.5701094269752502, 0.8692551255226135, 0.9229385852813721, 1.0933444499969482, 0.8076623678207397, 0.5895807147026062, 0.753827691078186, 0.7397235631942749, 0.9511002898216248, 1.012243390083313, 0.7501097917556763, 1.095015048980713, 0.9773610830307007, 0.6732701063156128, 0.45004066824913025, 0.712029755115509, 0.5386966466903687, 0.7250814437866211, 0.9448667168617249, 0.8641980886459351, 0.8325674533843994, 1.0019012689590454, 0.5693634748458862, 0.8596391677856445, 0.7995323538780212, 0.8615583777427673, 1.0161184072494507, 0.7283908128738403, 0.6728532314300537, 1.0642321109771729, 0.9545183181762695, 0.5857335329055786, 0.5684160590171814, 0.7270135879516602, 0.9057917594909668, 0.7507169842720032, 0.5533047914505005, 0.8100264072418213, 0.660178005695343, 0.6876106262207031, 0.7013934254646301, 1.2787975072860718, 0.5901939868927002, 0.5715624094009399, 0.6474097967147827, 0.6103150248527527, 0.8049522638320923, 0.4919707477092743, 0.768183171749115, 0.710594117641449, 1.2522618770599365, 0.9452962875366211, 0.5505210757255554, 0.4941234886646271, 0.5848016738891602, 0.7538507580757141, 0.8979227542877197, 0.7924156785011292, 0.8186898827552795, 0.6604562401771545, 0.5766583681106567, 0.6315991878509521, 0.5592307448387146, 1.0310475826263428, 1.030285358428955, 0.6340173482894897, 0.5506578087806702, 0.5638495087623596, 0.6334052681922913, 0.5357899069786072, 0.7481666207313538, 0.5390750169754028, 0.6452617645263672, 0.6998746991157532, 0.5956693887710571, 1.021457314491272, 0.6167436838150024, 0.670337975025177, 0.7659433484077454, 0.6188791990280151, 1.037146806716919, 0.7164554595947266, 0.5438079833984375, 0.6603112816810608, 0.6222134232521057, 0.6903091669082642, 0.6587340235710144, 0.6330378651618958, 0.6206586360931396, 0.5416903495788574, 0.7120050191879272, 0.737221360206604, 0.5203481912612915, 0.9140142798423767, 0.6230918765068054, 0.8922441601753235, 0.5247461795806885, 0.5000688433647156, 0.8980571031570435, 0.5146341919898987, 0.4496796429157257, 0.6582398414611816, 0.5408802032470703, 0.6695508360862732, 0.8689870238304138, 0.6482013463973999, 0.5338581204414368, 0.6739320755004883, 0.5732443928718567, 0.5272691249847412, 0.6796934604644775, 0.7630689740180969, 0.6976677179336548, 0.4816582202911377, 0.4945486783981323, 0.4419930875301361, 0.8501754403114319, 0.44872498512268066, 0.6607390642166138, 0.8185528516769409, 0.7655528783798218, 0.4346379041671753, 0.48222294449806213, 0.7162584662437439, 0.4826354384422302, 0.7442983388900757, 0.6468534469604492, 1.0634313821792603, 0.6131734848022461, 0.43263038992881775, 0.6363204121589661, 0.5891073346138, 0.6511622667312622, 0.5924006104469299, 0.52164226770401, 0.5518068075180054, 0.6130371689796448, 0.5250594019889832, 1.0523178577423096, 0.5067341327667236, 0.7608985304832458, 0.6188228130340576, 0.47069254517555237, 0.6186733841896057, 0.48058053851127625, 0.5081292986869812, 0.41991904377937317, 0.6162578463554382, 0.7458633780479431, 0.9799721240997314, 0.6650668978691101, 0.44889071583747864, 0.5784452557563782, 0.43098142743110657, 0.6640840768814087, 0.4046277105808258, 0.4232049286365509, 0.4303542673587799, 0.5611175894737244, 0.819262683391571, 0.5331881046295166, 0.5055707097053528, 0.4085281789302826, 0.8020774126052856, 0.8040186166763306, 0.49826911091804504, 0.5477436184883118, 0.522731363773346, 0.4428018629550934, 0.5146807432174683, 0.4394310712814331, 0.6507079601287842, 0.6612011790275574, 0.6834216713905334, 0.3520279824733734, 0.42871391773223877, 0.6281619668006897, 0.7807255983352661, 0.8749229311943054, 0.462191641330719, 0.5147903561592102, 0.4860108196735382, 0.38278207182884216, 0.5769405364990234, 0.5755792856216431, 0.6944535374641418, 0.5264098644256592, 0.4322555661201477, 0.6335517168045044, 1.016121745109558, 0.7741003036499023, 0.4605410099029541, 0.37533998489379883, 0.5245031118392944, 0.9893200397491455, 0.738358199596405, 0.4001903831958771, 0.3721240162849426, 0.3878147304058075, 0.577928900718689, 0.6211079955101013, 0.4021463394165039, 0.4703071117401123], 'mean_absolute_error': [10.38270378112793, 3.699028491973877, 3.098219394683838, 2.859400510787964, 2.615607261657715, 2.6170692443847656, 2.4738550186157227, 2.448897361755371, 2.4620532989501953, 2.3795015811920166, 2.349027156829834, 2.3962512016296387, 2.2923312187194824, 2.2959988117218018, 2.200040340423584, 2.2732808589935303, 2.205723762512207, 2.2414023876190186, 2.1522483825683594, 2.1314446926116943, 2.072810411453247, 2.0940213203430176, 1.8683135509490967, 2.046889066696167, 2.0030651092529297, 1.9909472465515137, 1.86468505859375, 1.9725569486618042, 1.8827093839645386, 1.8612700700759888, 1.8788440227508545, 1.793149471282959, 1.9628465175628662, 1.9294586181640625, 1.7915302515029907, 1.91751229763031, 1.8322246074676514, 1.7427440881729126, 1.7453616857528687, 1.7036819458007812, 1.7693185806274414, 1.7073194980621338, 1.6953779458999634, 1.6579855680465698, 1.7063101530075073, 1.6666808128356934, 1.5973005294799805, 1.6484001874923706, 1.6366803646087646, 1.6343802213668823, 1.572959303855896, 1.6119582653045654, 1.492490291595459, 1.5691972970962524, 1.661988377571106, 1.5242427587509155, 1.5620101690292358, 1.5468400716781616, 1.485080599784851, 1.55782949924469, 1.5106406211853027, 1.5174022912979126, 1.442522406578064, 1.4401013851165771, 1.4128481149673462, 1.4148459434509277, 1.418209433555603, 1.4638862609863281, 1.394103765487671, 1.361989974975586, 1.3941736221313477, 1.3896939754486084, 1.4072072505950928, 1.340146541595459, 1.319976568222046, 1.3417725563049316, 1.3640093803405762, 1.3174160718917847, 1.328089952468872, 1.293013334274292, 1.477850079536438, 1.2238980531692505, 1.3120423555374146, 1.3154677152633667, 1.2078837156295776, 1.2767149209976196, 1.337780237197876, 1.345984697341919, 1.244636058807373, 1.1826213598251343, 1.3654636144638062, 1.2559986114501953, 1.239134430885315, 1.264228105545044, 1.2540053129196167, 1.1535556316375732, 1.2151225805282593, 1.1424453258514404, 1.2685520648956299, 1.2395530939102173, 1.2515852451324463, 1.2417595386505127, 1.1683367490768433, 1.1812522411346436, 1.2936382293701172, 1.2293356657028198, 1.1091816425323486, 1.1921793222427368, 1.1391572952270508, 1.1647157669067383, 1.0599244832992554, 1.1558191776275635, 1.1651498079299927, 1.1197096109390259, 1.1396691799163818, 1.2059589624404907, 1.0997295379638672, 1.0587888956069946, 1.1621623039245605, 1.075439453125, 1.0223379135131836, 1.060438632965088, 1.1991764307022095, 1.0558196306228638, 1.0936872959136963, 1.1296110153198242, 1.0347398519515991, 1.0426560640335083, 1.0660755634307861, 1.0293008089065552, 1.0469354391098022, 1.0506391525268555, 0.9412378668785095, 0.9806643724441528, 1.0932506322860718, 1.0466927289962769, 0.9882794618606567, 1.0052480697631836, 0.9445312023162842, 0.9610816240310669, 0.9927834272384644, 1.0252618789672852, 0.9867226481437683, 0.9374150037765503, 0.9927176833152771, 1.002400279045105, 0.8945028185844421, 0.9467173218727112, 1.0331391096115112, 1.0067965984344482, 0.9679210186004639, 0.9760481119155884, 0.9394620060920715, 0.9898795485496521, 0.9765700697898865, 0.9475573897361755, 0.9769178628921509, 0.8916773200035095, 0.9545327425003052, 0.9971240758895874, 0.898248553276062, 0.9047280550003052, 0.9066866040229797, 0.9257473349571228, 1.0189580917358398, 0.8756232261657715, 0.9246817231178284, 0.9152140021324158, 0.9447881579399109, 0.9855430126190186, 0.8896433115005493, 0.8657507300376892, 0.9030818939208984, 0.9279858469963074, 0.8896811604499817, 0.8981242775917053, 0.8481096029281616, 0.8447892069816589, 1.0005773305892944, 0.857052743434906, 0.8635982275009155, 0.8813098669052124, 0.8132075667381287, 0.8278355598449707, 0.8668837547302246, 0.8921573162078857, 0.8719913363456726, 0.8737515807151794, 0.8502144813537598, 0.867366373538971, 0.7886129021644592, 0.9261757731437683, 0.8741976022720337, 0.7449398636817932, 0.8842183947563171, 0.8668954372406006, 0.9516682028770447, 0.8419932723045349, 0.7480304837226868, 0.8954466581344604, 0.8303845524787903, 0.7738257050514221, 0.6986277103424072, 0.8568110466003418, 0.759483277797699, 1.0225809812545776, 0.8093075752258301, 0.7862439751625061, 0.7423405051231384, 0.7432868480682373, 0.7879772782325745, 0.7938739061355591, 0.7350265383720398, 0.8015017509460449, 0.8020492792129517, 0.7622488737106323, 0.8902612328529358, 0.7902802228927612, 0.715381920337677, 0.7914611101150513, 0.7252539992332458, 0.8311368823051453, 0.7739208340644836, 0.7538203001022339, 0.8053027391433716, 0.8037432432174683, 0.8217676877975464, 0.8069062829017639, 0.7675359845161438, 0.8127295970916748, 0.7603651285171509, 0.7706784009933472, 0.6646511554718018, 0.7711619734764099, 0.7864837646484375, 0.8547919392585754, 0.7273433804512024, 0.668120265007019, 0.7677257061004639, 0.7663373947143555, 0.8002239465713501, 0.7816251516342163, 0.7314717173576355, 0.671928882598877, 0.7517759799957275, 0.8658588528633118, 0.7352684736251831, 0.7839917540550232, 0.7651008367538452, 0.6835532784461975, 0.7537776231765747, 0.7803828120231628, 0.6534967422485352, 0.6635099053382874, 0.7765737771987915, 0.6635071635246277, 0.8638439774513245, 0.7242805361747742, 0.7642866373062134, 0.664449155330658, 0.6807249784469604, 0.7225977778434753, 0.7569820284843445, 0.6266445517539978, 0.7600620985031128, 0.712893009185791, 0.6884767413139343, 0.7451439499855042, 0.8598843216896057, 0.673385500907898, 0.6594146490097046, 0.6939505934715271, 0.7482569217681885, 0.739138662815094, 0.7343180179595947, 0.7247791290283203, 0.6376893520355225, 0.7811930179595947, 0.7811020612716675, 0.6973491907119751, 0.5985732674598694, 0.6407446265220642, 0.6622517108917236, 0.686359167098999, 0.6323326826095581, 0.6427525877952576, 0.6880984902381897, 0.6790303587913513, 0.7132540345191956, 0.6698808670043945, 0.6976481080055237, 0.7465526461601257, 0.7511976361274719, 0.7790729403495789, 0.7110302448272705, 0.6296895742416382, 0.6476844549179077, 0.5500920414924622, 0.6820836663246155, 0.7200835347175598, 0.7440410852432251, 0.6472440958023071, 0.5550732016563416, 0.6076295375823975, 0.6332696676254272, 0.7257383465766907, 0.7273509502410889, 0.6425041556358337, 0.7392528057098389, 0.7356598973274231, 0.6220460534095764, 0.4859616756439209, 0.6195043325424194, 0.562678873538971, 0.6326341032981873, 0.6950290203094482, 0.6944286823272705, 0.6486757397651672, 0.7054409384727478, 0.5639325380325317, 0.6644383072853088, 0.660719096660614, 0.7211167812347412, 0.7534782290458679, 0.6052531599998474, 0.6197819709777832, 0.754035472869873, 0.6879028677940369, 0.5684749484062195, 0.562816858291626, 0.6187875270843506, 0.6805986166000366, 0.6611381769180298, 0.555480420589447, 0.6576811671257019, 0.5966067910194397, 0.6207357048988342, 0.6123396158218384, 0.7704679369926453, 0.5622981786727905, 0.5700652003288269, 0.5676165819168091, 0.5748032927513123, 0.6165061593055725, 0.5150771141052246, 0.6788036227226257, 0.6383776068687439, 0.7916079759597778, 0.7282206416130066, 0.5485675930976868, 0.5380986332893372, 0.5416409969329834, 0.6190890669822693, 0.6730182766914368, 0.6731192469596863, 0.6460334062576294, 0.6117607355117798, 0.5692203044891357, 0.5747393369674683, 0.5305070877075195, 0.7388104200363159, 0.7268769145011902, 0.5984967350959778, 0.5515230894088745, 0.5229880809783936, 0.6012284159660339, 0.5462871193885803, 0.6475093960762024, 0.5274530649185181, 0.6025229096412659, 0.5940307974815369, 0.5502721667289734, 0.7338259816169739, 0.581504225730896, 0.595679521560669, 0.6408500075340271, 0.5809641480445862, 0.7563136219978333, 0.6200933456420898, 0.556908130645752, 0.6045241951942444, 0.5843256115913391, 0.585555911064148, 0.6064377427101135, 0.5859231948852539, 0.6042742133140564, 0.5258037447929382, 0.6425274014472961, 0.6413041353225708, 0.5451989769935608, 0.7161753177642822, 0.5768716931343079, 0.6834543943405151, 0.5260571837425232, 0.5343911647796631, 0.6619004607200623, 0.5475698113441467, 0.4786553680896759, 0.6086104512214661, 0.5390110611915588, 0.575758695602417, 0.605640709400177, 0.5991969108581543, 0.506732702255249, 0.5775589346885681, 0.5453512072563171, 0.5401330590248108, 0.6333248019218445, 0.6199325919151306, 0.5816286206245422, 0.5287330150604248, 0.5121257305145264, 0.5061702132225037, 0.6774061918258667, 0.4928281307220459, 0.5992355346679688, 0.6569611430168152, 0.5962967276573181, 0.49022001028060913, 0.4955485165119171, 0.5719321966171265, 0.5217344760894775, 0.6246271133422852, 0.5909183621406555, 0.7257538437843323, 0.5761121511459351, 0.46376869082450867, 0.5826287865638733, 0.5514835715293884, 0.5801190137863159, 0.5800622701644897, 0.5275512933731079, 0.5353552103042603, 0.5483013987541199, 0.5045770406723022, 0.7339645028114319, 0.4973600208759308, 0.6108843088150024, 0.5717330574989319, 0.516818642616272, 0.5737344026565552, 0.5031330585479736, 0.5200586915016174, 0.48653364181518555, 0.5625606179237366, 0.6251097321510315, 0.6768261194229126, 0.5914658308029175, 0.49586501717567444, 0.5623752474784851, 0.47915583848953247, 0.5884303450584412, 0.4799019694328308, 0.4723391830921173, 0.49790436029434204, 0.5557050704956055, 0.6590471267700195, 0.5407200455665588, 0.5307430624961853, 0.45504578948020935, 0.6538705229759216, 0.6652947068214417, 0.5258182883262634, 0.5431398153305054, 0.5552372336387634, 0.47650548815727234, 0.5389207005500793, 0.47704625129699707, 0.5909722447395325, 0.5853661298751831, 0.6034467816352844, 0.44856926798820496, 0.4727933406829834, 0.5554242730140686, 0.5943117141723633, 0.6564056873321533, 0.5117036700248718, 0.5215950012207031, 0.5042575001716614, 0.4617641568183899, 0.5704959034919739, 0.5693773627281189, 0.5956556797027588, 0.5399056077003479, 0.4754226803779602, 0.5632380843162537, 0.7016671299934387, 0.6380307078361511, 0.5113218426704407, 0.4382011890411377, 0.5161568522453308, 0.7198536992073059, 0.603121817111969, 0.47846683859825134, 0.43980416655540466, 0.45077377557754517, 0.5674148201942444, 0.5600671768188477, 0.4863373041152954, 0.4821416139602661], 'val_loss': [29.387653350830078, 20.718416213989258, 17.213375091552734, 13.003517150878906, 14.383956909179688, 14.3129301071167, 10.59903621673584, 11.239986419677734, 11.681852340698242, 12.555110931396484, 9.951114654541016, 8.458937644958496, 8.371707916259766, 7.924164295196533, 10.0704927444458, 11.285459518432617, 9.519916534423828, 8.30515193939209, 9.439729690551758, 7.808357238769531, 7.826322555541992, 7.323578834533691, 8.388686180114746, 7.582851409912109, 8.392334938049316, 7.238430023193359, 7.859338283538818, 9.63828182220459, 9.044021606445312, 9.938138008117676, 9.387765884399414, 8.440153121948242, 7.550028324127197, 7.496763229370117, 12.780344009399414, 7.65474271774292, 8.886303901672363, 9.800763130187988, 8.67788028717041, 9.09986400604248, 8.592982292175293, 8.811172485351562, 9.90480899810791, 9.466267585754395, 8.435641288757324, 9.549208641052246, 8.810100555419922, 8.92904281616211, 11.511833190917969, 8.341492652893066, 8.656818389892578, 8.481693267822266, 9.649484634399414, 8.851961135864258, 10.492602348327637, 8.411433219909668, 11.249181747436523, 8.650755882263184, 9.964020729064941, 9.767574310302734, 8.89213752746582, 9.398242950439453, 9.72683048248291, 9.11075496673584, 8.178068161010742, 8.909280776977539, 8.614779472351074, 10.282517433166504, 9.859142303466797, 9.117342948913574, 10.858485221862793, 10.16102409362793, 8.970952987670898, 11.139195442199707, 9.697860717773438, 10.220697402954102, 8.709601402282715, 9.736783981323242, 10.009566307067871, 10.98790454864502, 9.750232696533203, 12.059216499328613, 9.004608154296875, 9.235085487365723, 10.257979393005371, 8.814298629760742, 9.029470443725586, 11.049541473388672, 9.367002487182617, 10.64054012298584, 10.95556926727295, 10.830775260925293, 10.050658226013184, 9.661789894104004, 9.41524887084961, 11.2448091506958, 8.953264236450195, 10.911710739135742, 11.668551445007324, 10.289934158325195, 11.3634672164917, 9.689047813415527, 11.08900260925293, 12.599396705627441, 10.218921661376953, 10.993727684020996, 9.565447807312012, 10.33265495300293, 9.673995018005371, 11.913005828857422, 10.82031536102295, 9.467853546142578, 10.058494567871094, 10.294705390930176, 9.425765991210938, 9.496482849121094, 9.833128929138184, 10.999542236328125, 10.607467651367188, 9.995388984680176, 10.018757820129395, 9.921757698059082, 9.319716453552246, 10.685415267944336, 8.523405075073242, 9.074713706970215, 9.442741394042969, 10.451461791992188, 9.964731216430664, 9.582695007324219, 9.723819732666016, 11.557896614074707, 10.18717098236084, 9.693801879882812, 10.579894065856934, 10.663494110107422, 12.072369575500488, 9.919092178344727, 10.311392784118652, 10.322071075439453, 9.71318244934082, 10.698933601379395, 10.31010913848877, 10.067192077636719, 10.163602828979492, 10.13680362701416, 9.845048904418945, 9.758968353271484, 9.820257186889648, 9.945343017578125, 9.898157119750977, 10.095422744750977, 9.427072525024414, 10.606365203857422, 10.545637130737305, 10.409011840820312, 9.955594062805176, 10.149458885192871, 9.673566818237305, 9.375547409057617, 10.110940933227539, 9.98157787322998, 10.101794242858887, 10.26884937286377, 10.276521682739258, 9.808014869689941, 10.165228843688965, 9.84140682220459, 11.804908752441406, 9.328109741210938, 11.05962085723877, 10.862639427185059, 10.906598091125488, 10.641505241394043, 9.565860748291016, 9.646405220031738, 10.773738861083984, 11.355130195617676, 11.751447677612305, 10.522465705871582, 10.34327507019043, 10.355481147766113, 11.354175567626953, 10.631979942321777, 10.2312650680542, 10.817774772644043, 11.491010665893555, 10.62524700164795, 11.50183391571045, 10.717617988586426, 9.951248168945312, 10.2706298828125, 9.959704399108887, 10.681196212768555, 8.577439308166504, 9.809754371643066, 10.626940727233887, 9.133856773376465, 10.131345748901367, 10.239339828491211, 10.773624420166016, 8.913776397705078, 11.013908386230469, 10.268856048583984, 14.30947494506836, 9.16926097869873, 10.85091495513916, 10.200249671936035, 10.81959342956543, 10.062878608703613, 9.87160587310791, 10.627355575561523, 9.616537094116211, 9.810407638549805, 10.428385734558105, 9.651727676391602, 9.822735786437988, 10.278740882873535, 10.777673721313477, 9.963727951049805, 9.213479995727539, 11.017789840698242, 9.565803527832031, 10.70289421081543, 10.152713775634766, 10.309311866760254, 9.604310035705566, 10.511868476867676, 10.138298988342285, 9.699689865112305, 11.931926727294922, 9.61829948425293, 9.59502124786377, 9.539789199829102, 10.839537620544434, 9.896100997924805, 9.694193840026855, 11.109763145446777, 9.31960678100586, 9.309349060058594, 9.612577438354492, 10.11687183380127, 9.561053276062012, 9.783473014831543, 10.01806354522705, 10.30051326751709, 9.756409645080566, 9.986700057983398, 9.946171760559082, 10.343274116516113, 10.046307563781738, 10.986005783081055, 10.253059387207031, 9.425905227661133, 10.059764862060547, 10.594664573669434, 12.293668746948242, 9.894824028015137, 11.319232940673828, 10.581771850585938, 10.754239082336426, 10.376005172729492, 10.051652908325195, 10.989542961120605, 10.441917419433594, 10.771541595458984, 10.4362154006958, 12.555343627929688, 10.060702323913574, 9.549160957336426, 9.58958625793457, 10.4459228515625, 11.918072700500488, 9.818930625915527, 10.590012550354004, 10.396759986877441, 10.170869827270508, 10.045148849487305, 9.360169410705566, 8.784186363220215, 9.445099830627441, 9.786370277404785, 9.946033477783203, 10.868349075317383, 9.586060523986816, 9.323651313781738, 9.925312995910645, 10.438457489013672, 9.979586601257324, 9.510229110717773, 10.26498794555664, 9.726256370544434, 10.573010444641113, 10.293688774108887, 10.150744438171387, 9.593775749206543, 10.042256355285645, 10.74022388458252, 9.91583251953125, 10.050466537475586, 10.662070274353027, 9.410417556762695, 9.824070930480957, 10.13955307006836, 10.43935775756836, 10.607810974121094, 10.366122245788574, 10.040833473205566, 10.09398078918457, 9.575300216674805, 9.544737815856934, 10.6470947265625, 10.385872840881348, 9.72347354888916, 9.379714965820312, 10.296472549438477, 9.247798919677734, 10.602551460266113, 9.2620210647583, 10.198620796203613, 9.75732135772705, 10.435851097106934, 10.934028625488281, 9.845096588134766, 10.756685256958008, 10.233427047729492, 12.737899780273438, 11.480180740356445, 9.649781227111816, 10.582719802856445, 9.574894905090332, 10.496767044067383, 9.773741722106934, 9.407197952270508, 9.50154972076416, 9.553512573242188, 11.06511402130127, 10.609966278076172, 9.722320556640625, 10.163945198059082, 9.868790626525879, 11.518903732299805, 9.519600868225098, 9.724520683288574, 10.177534103393555, 9.767036437988281, 10.135421752929688, 10.982277870178223, 9.770339965820312, 10.494746208190918, 11.250520706176758, 10.87092113494873, 9.26852798461914, 10.769047737121582, 9.365306854248047, 9.625689506530762, 10.348677635192871, 11.485405921936035, 10.274288177490234, 11.460506439208984, 9.62199592590332, 9.112539291381836, 10.716176986694336, 9.861772537231445, 10.141682624816895, 9.788416862487793, 9.835346221923828, 10.153989791870117, 9.841832160949707, 10.669198989868164, 10.243837356567383, 9.972851753234863, 10.54482364654541, 10.205009460449219, 9.803238868713379, 9.8923921585083, 10.010586738586426, 12.119277954101562, 9.794694900512695, 9.818876266479492, 11.003973007202148, 9.239209175109863, 9.55854606628418, 10.271980285644531, 10.853878021240234, 10.368581771850586, 11.313539505004883, 10.603687286376953, 10.010826110839844, 9.808150291442871, 9.9425687789917, 10.133317947387695, 9.624695777893066, 11.323609352111816, 10.536883354187012, 9.916999816894531, 9.622293472290039, 9.999431610107422, 10.301522254943848, 10.464653015136719, 10.199219703674316, 10.111401557922363, 9.80205249786377, 11.423526763916016, 10.697596549987793, 9.32893180847168, 9.701691627502441, 9.983110427856445, 9.935445785522461, 9.84970760345459, 10.378636360168457, 10.686594009399414, 10.54297924041748, 10.037248611450195, 11.433870315551758, 10.568181991577148, 11.938969612121582, 10.04630184173584, 10.108248710632324, 10.468048095703125, 10.044650077819824, 10.307944297790527, 9.768850326538086, 9.956228256225586, 9.556883811950684, 10.418286323547363, 10.849247932434082, 10.076920509338379, 10.225386619567871, 10.062393188476562, 10.4691162109375, 10.520421981811523, 10.803376197814941, 10.33847713470459, 10.2066011428833, 9.910604476928711, 11.363814353942871, 9.675336837768555, 9.424960136413574, 10.991682052612305, 10.410436630249023, 10.441021919250488, 10.316965103149414, 9.841632843017578, 10.05893611907959, 11.322257995605469, 10.100028991699219, 9.638262748718262, 10.517723083496094, 10.095125198364258, 10.735396385192871, 10.00725269317627, 10.294560432434082, 9.284744262695312, 9.397207260131836, 9.802497863769531, 10.010672569274902, 9.359880447387695, 10.369776725769043, 9.757582664489746, 11.225708961486816, 9.547564506530762, 9.784334182739258, 10.859161376953125, 9.649388313293457, 10.32273006439209, 9.711471557617188, 10.426079750061035, 9.937716484069824, 10.708224296569824, 10.01329517364502, 9.0886812210083, 9.883424758911133, 9.460210800170898, 9.798705101013184, 9.894156455993652, 10.048379898071289, 9.735262870788574, 9.831130027770996, 10.522890090942383, 10.030943870544434, 9.649529457092285, 10.852892875671387, 9.002415657043457, 10.139195442199707, 10.088534355163574, 10.227226257324219, 9.802168846130371, 10.994258880615234, 10.029740333557129, 10.884635925292969, 9.952603340148926, 9.895604133605957, 9.471872329711914, 9.611011505126953, 10.499724388122559, 9.641160011291504, 9.956793785095215, 10.419461250305176, 11.058345794677734], 'val_mean_absolute_error': [3.4278414249420166, 2.8651938438415527, 2.8970961570739746, 2.4577865600585938, 2.647416114807129, 2.752182960510254, 2.1823313236236572, 2.3913612365722656, 2.367431879043579, 2.5153911113739014, 2.2333950996398926, 2.0767245292663574, 2.045295238494873, 1.937151312828064, 2.3521218299865723, 2.487687349319458, 2.3765320777893066, 2.066147565841675, 2.2679293155670166, 2.1087563037872314, 1.921912431716919, 1.8985286951065063, 2.047823667526245, 2.04498291015625, 2.175302267074585, 1.9114121198654175, 2.038545608520508, 2.3493587970733643, 2.194558620452881, 2.316420555114746, 2.2983837127685547, 2.114741325378418, 1.9756908416748047, 1.9371548891067505, 2.6349196434020996, 2.0216948986053467, 2.210422992706299, 2.1798672676086426, 2.0624425411224365, 2.1925652027130127, 2.146057367324829, 2.071185827255249, 2.408172369003296, 2.2118637561798096, 2.10017991065979, 2.1784393787384033, 2.26865553855896, 2.1674084663391113, 2.484092950820923, 2.0181827545166016, 2.0556530952453613, 2.0957751274108887, 2.195317029953003, 2.2036943435668945, 2.449798822402954, 2.071665048599243, 2.4023852348327637, 2.0842437744140625, 2.4429008960723877, 2.2956507205963135, 2.1974663734436035, 2.2134838104248047, 2.2046520709991455, 2.121173143386841, 2.139375686645508, 2.077725648880005, 2.065495491027832, 2.3602452278137207, 2.3438055515289307, 2.216702461242676, 2.379218816757202, 2.347140073776245, 2.082939863204956, 2.3330416679382324, 2.2317891120910645, 2.287787914276123, 2.0223894119262695, 2.113776683807373, 2.256049156188965, 2.291377305984497, 2.2438952922821045, 2.4942116737365723, 2.0272293090820312, 2.1903505325317383, 2.170132875442505, 2.049548625946045, 2.0777368545532227, 2.1951189041137695, 2.1336722373962402, 2.293958902359009, 2.2212934494018555, 2.4834418296813965, 2.084392786026001, 2.078016757965088, 2.0540430545806885, 2.270575761795044, 2.0190396308898926, 2.3239784240722656, 2.3143885135650635, 2.200340986251831, 2.2075817584991455, 2.174128770828247, 2.1929118633270264, 2.5469300746917725, 2.2412238121032715, 2.2852861881256104, 2.058622360229492, 2.232668161392212, 2.163818836212158, 2.5750904083251953, 2.2142224311828613, 2.1743674278259277, 2.1718251705169678, 2.2265095710754395, 2.155339002609253, 2.2630269527435303, 2.216437816619873, 2.3367724418640137, 2.355800151824951, 2.1646602153778076, 2.2309272289276123, 2.225318431854248, 2.068912982940674, 2.129317283630371, 2.0527682304382324, 2.0820236206054688, 2.039813756942749, 2.159710645675659, 2.116828680038452, 2.146209478378296, 2.154202938079834, 2.5121562480926514, 2.2162985801696777, 2.107651472091675, 2.2684988975524902, 2.25530743598938, 2.383453369140625, 2.0849945545196533, 2.1811647415161133, 2.241584062576294, 2.273860454559326, 2.1794891357421875, 2.2907185554504395, 2.193800926208496, 2.1932430267333984, 2.118730068206787, 2.141815185546875, 2.136932849884033, 2.1059134006500244, 2.1106696128845215, 2.1424882411956787, 2.2149345874786377, 2.2119624614715576, 2.205474853515625, 2.3541252613067627, 2.184713840484619, 2.2084879875183105, 2.175981283187866, 2.2209041118621826, 2.0536179542541504, 2.2277979850769043, 2.198474884033203, 2.2451820373535156, 2.197782516479492, 2.231132745742798, 2.1183881759643555, 2.2067902088165283, 2.1021647453308105, 2.4402637481689453, 2.1213858127593994, 2.2627601623535156, 2.2379157543182373, 2.346083879470825, 2.1926703453063965, 2.177388906478882, 2.084639310836792, 2.2291507720947266, 2.2926480770111084, 2.389486789703369, 2.2365658283233643, 2.2781877517700195, 2.2195048332214355, 2.31607985496521, 2.3045902252197266, 2.1518807411193848, 2.2333760261535645, 2.4050257205963135, 2.312694549560547, 2.35787296295166, 2.325361728668213, 2.1341145038604736, 2.210637092590332, 2.128154754638672, 2.237761974334717, 2.03450345993042, 2.1923351287841797, 2.2442855834960938, 2.1516501903533936, 2.1696202754974365, 2.256328582763672, 2.319127082824707, 1.9829113483428955, 2.3834190368652344, 2.2379651069641113, 2.6660914421081543, 2.0552256107330322, 2.3258845806121826, 2.234936237335205, 2.375582456588745, 2.2243309020996094, 2.2271671295166016, 2.3373985290527344, 2.1576907634735107, 2.209205150604248, 2.195204734802246, 2.164825916290283, 2.1811885833740234, 2.2057676315307617, 2.3444342613220215, 2.1321003437042236, 2.133655548095703, 2.2405803203582764, 2.0964696407318115, 2.2703568935394287, 2.2515406608581543, 2.353372812271118, 2.2395756244659424, 2.2636826038360596, 2.1911203861236572, 2.1439661979675293, 2.4120724201202393, 2.096622943878174, 2.1453893184661865, 2.1388087272644043, 2.213529109954834, 2.0734381675720215, 2.1452066898345947, 2.282289981842041, 2.1608142852783203, 2.0607829093933105, 2.149623155593872, 2.1031582355499268, 2.16873836517334, 2.1174895763397217, 2.2159817218780518, 2.132533550262451, 2.1728224754333496, 2.2169628143310547, 2.1797001361846924, 2.229485034942627, 2.2909367084503174, 2.278609275817871, 2.1107494831085205, 2.0271050930023193, 2.2078757286071777, 2.2891016006469727, 2.3995795249938965, 2.1619348526000977, 2.371866464614868, 2.2202157974243164, 2.2968673706054688, 2.1680402755737305, 2.1417782306671143, 2.3358335494995117, 2.2498369216918945, 2.2669386863708496, 2.2553322315216064, 2.505741596221924, 2.1033239364624023, 2.1550045013427734, 2.171381950378418, 2.2375094890594482, 2.5405123233795166, 2.1637067794799805, 2.277927875518799, 2.290919542312622, 2.1748228073120117, 2.1585452556610107, 2.2122135162353516, 2.0602922439575195, 2.1858019828796387, 2.2152109146118164, 2.170560121536255, 2.371951103210449, 2.1912801265716553, 2.147563934326172, 2.1959316730499268, 2.2423202991485596, 2.2414255142211914, 2.135052442550659, 2.1753451824188232, 2.153799295425415, 2.283714771270752, 2.2885401248931885, 2.303252935409546, 2.189347267150879, 2.2329049110412598, 2.226980686187744, 2.2358150482177734, 2.2013816833496094, 2.2437620162963867, 2.1057138442993164, 2.1803905963897705, 2.141960859298706, 2.1976816654205322, 2.2861921787261963, 2.211426019668579, 2.3573148250579834, 2.1784629821777344, 2.182159423828125, 2.2204396724700928, 2.3439831733703613, 2.2895848751068115, 2.152303695678711, 2.1554737091064453, 2.283179759979248, 2.131284236907959, 2.210425853729248, 2.1302528381347656, 2.20892333984375, 2.21117901802063, 2.2591419219970703, 2.324761390686035, 2.262326955795288, 2.2572314739227295, 2.229659080505371, 2.5521457195281982, 2.4225449562072754, 2.139204502105713, 2.245990514755249, 2.1656253337860107, 2.317275285720825, 2.1897025108337402, 2.1646060943603516, 2.077812671661377, 2.1290459632873535, 2.4184632301330566, 2.2439186573028564, 2.186378002166748, 2.2786240577697754, 2.2233126163482666, 2.3391973972320557, 2.1525564193725586, 2.208956003189087, 2.1804394721984863, 2.225249767303467, 2.2999749183654785, 2.4234731197357178, 2.2316112518310547, 2.2879528999328613, 2.3653712272644043, 2.3101658821105957, 2.081984043121338, 2.310058116912842, 2.204833984375, 2.177435874938965, 2.4079976081848145, 2.3563523292541504, 2.3216872215270996, 2.254807949066162, 2.2250685691833496, 2.184616804122925, 2.41580867767334, 2.2582004070281982, 2.1718263626098633, 2.219782829284668, 2.2334907054901123, 2.2229208946228027, 2.1668567657470703, 2.365217685699463, 2.177893877029419, 2.1996188163757324, 2.389927625656128, 2.2855820655822754, 2.287296772003174, 2.155954599380493, 2.1933019161224365, 2.402491569519043, 2.2334706783294678, 2.1844022274017334, 2.2524445056915283, 2.1309680938720703, 2.0861282348632812, 2.119633674621582, 2.311577320098877, 2.2998180389404297, 2.4080989360809326, 2.2436068058013916, 2.1681416034698486, 2.1992111206054688, 2.242177963256836, 2.251659631729126, 2.1983845233917236, 2.3126139640808105, 2.2802700996398926, 2.147916793823242, 2.1627821922302246, 2.255448341369629, 2.275315999984741, 2.2914397716522217, 2.1753013134002686, 2.3236889839172363, 2.2543692588806152, 2.32645320892334, 2.2807905673980713, 2.1821818351745605, 2.142409324645996, 2.3111062049865723, 2.2460200786590576, 2.1824090480804443, 2.295363664627075, 2.2424280643463135, 2.2929654121398926, 2.324812412261963, 2.3731257915496826, 2.298065185546875, 2.39155650138855, 2.1820003986358643, 2.2333896160125732, 2.353797197341919, 2.2359795570373535, 2.268580913543701, 2.224877119064331, 2.2125675678253174, 2.116894483566284, 2.28623366355896, 2.2558748722076416, 2.2352123260498047, 2.220170497894287, 2.3082587718963623, 2.298919916152954, 2.2352373600006104, 2.3173716068267822, 2.223689317703247, 2.3013558387756348, 2.214928388595581, 2.310793876647949, 2.247107982635498, 2.139442205429077, 2.3325610160827637, 2.2409818172454834, 2.3937065601348877, 2.295755624771118, 2.230475902557373, 2.258899688720703, 2.3316116333007812, 2.257169008255005, 2.1876845359802246, 2.2153759002685547, 2.233537197113037, 2.3567299842834473, 2.2000045776367188, 2.228463649749756, 2.158576011657715, 2.1873526573181152, 2.2585983276367188, 2.24072527885437, 2.193354845046997, 2.2587778568267822, 2.1906161308288574, 2.3939337730407715, 2.2112679481506348, 2.196293830871582, 2.417936086654663, 2.238067865371704, 2.2434744834899902, 2.232964277267456, 2.2416467666625977, 2.243720531463623, 2.3743860721588135, 2.170879602432251, 2.1747379302978516, 2.2637996673583984, 2.2158641815185547, 2.198580503463745, 2.2784457206726074, 2.2823362350463867, 2.1330599784851074, 2.1819090843200684, 2.196150302886963, 2.234130620956421, 2.201033592224121, 2.2555668354034424, 2.0770411491394043, 2.2138378620147705, 2.298919916152954, 2.2267768383026123, 2.1668477058410645, 2.1648807525634766, 2.189002513885498, 2.2380449771881104, 2.175868511199951, 2.2648110389709473, 2.188042640686035, 2.1508877277374268, 2.3172101974487305, 2.1276886463165283, 2.200282335281372, 2.2808520793914795, 2.286090135574341]}\n",
      "처리중인 폴드 # 1\n"
     ]
    },
    {
     "name": "stdout",
     "output_type": "stream",
     "text": [
      "{'loss': [180.8654022216797, 23.258474349975586, 17.75937271118164, 14.324578285217285, 13.212387084960938, 11.653531074523926, 10.816910743713379, 10.938274383544922, 10.79686164855957, 10.753467559814453, 10.301034927368164, 9.065394401550293, 9.580607414245605, 9.456174850463867, 9.126836776733398, 8.910781860351562, 8.595274925231934, 8.360528945922852, 8.591819763183594, 7.927896499633789, 8.20208740234375, 7.874309539794922, 7.87283182144165, 7.737827777862549, 6.880801200866699, 6.666444778442383, 6.868560314178467, 7.032328128814697, 6.9165754318237305, 6.992640495300293, 6.1533684730529785, 6.366804599761963, 6.0356340408325195, 5.906609058380127, 5.94266939163208, 5.991966724395752, 5.361102104187012, 5.9329352378845215, 5.5981950759887695, 5.26763391494751, 5.974562168121338, 5.199019908905029, 5.004117012023926, 4.877920150756836, 5.383365631103516, 5.0480637550354, 4.528004169464111, 4.293905258178711, 4.561324596405029, 4.399277687072754, 4.420772552490234, 4.288398742675781, 4.589211463928223, 4.615309238433838, 3.9288949966430664, 4.1905035972595215, 3.6213412284851074, 3.5911784172058105, 3.8447470664978027, 3.6802217960357666, 4.211479187011719, 3.909864664077759, 3.8797659873962402, 4.020158290863037, 3.5390398502349854, 3.3803815841674805, 3.6917760372161865, 3.2801740169525146, 3.3724591732025146, 3.2394216060638428, 3.2724359035491943, 3.185070514678955, 3.1079483032226562, 3.1855897903442383, 3.2911598682403564, 3.0548267364501953, 3.031510829925537, 2.852980136871338, 3.5373659133911133, 3.0939276218414307, 3.272390604019165, 2.812521457672119, 2.7270679473876953, 2.975015163421631, 2.6806278228759766, 3.1568074226379395, 2.57519793510437, 2.389604091644287, 2.6341350078582764, 2.5596671104431152, 2.851982355117798, 2.9572017192840576, 2.860684633255005, 2.0243563652038574, 2.410123825073242, 2.4945409297943115, 2.935983896255493, 2.3145012855529785, 2.1319737434387207, 2.530787467956543, 2.4065945148468018, 2.786348819732666, 2.2174782752990723, 2.1263997554779053, 2.2035393714904785, 2.120976209640503, 2.1965136528015137, 2.26928973197937, 2.126087188720703, 2.064030647277832, 2.029981851577759, 2.220233917236328, 2.1865761280059814, 1.878606915473938, 1.9341883659362793, 2.1106646060943604, 2.0634329319000244, 1.9277160167694092, 1.953230381011963, 1.8567031621932983, 1.8695807456970215, 1.927478551864624, 1.7859480381011963, 1.5865660905838013, 1.8872058391571045, 2.1127922534942627, 2.4620938301086426, 1.572893500328064, 1.925182819366455, 1.5373085737228394, 1.7975554466247559, 1.7467210292816162, 1.6728909015655518, 1.7385820150375366, 1.7654173374176025, 1.7985944747924805, 1.7361037731170654, 1.6728439331054688, 1.7708135843276978, 1.480086088180542, 1.516040325164795, 1.7331023216247559, 1.51601243019104, 1.4900399446487427, 2.106229066848755, 1.5423985719680786, 1.4327472448349, 1.3614002466201782, 1.6243795156478882, 1.6817635297775269, 1.4109424352645874, 1.7205848693847656, 1.2825530767440796, 1.3062247037887573, 1.6375633478164673, 1.414712905883789, 1.6298449039459229, 1.9382894039154053, 1.5911940336227417, 1.4691227674484253, 1.4898295402526855, 1.4670779705047607, 1.40007746219635, 1.5367708206176758, 1.5077080726623535, 1.5828354358673096, 1.5373082160949707, 1.4513591527938843, 1.5334161520004272, 1.4387332201004028, 1.11208176612854, 1.2787063121795654, 1.5758070945739746, 1.2016292810440063, 1.4961795806884766, 1.4436590671539307, 1.6240737438201904, 1.0050853490829468, 1.2718031406402588, 1.3931223154067993, 1.4499605894088745, 1.2282551527023315, 0.987325131893158, 1.245894193649292, 1.1171483993530273, 1.2908927202224731, 1.6082324981689453, 1.674304485321045, 1.3152098655700684, 1.280760407447815, 1.2169129848480225, 1.2502233982086182, 1.1237659454345703, 1.1282070875167847, 1.2732948064804077, 1.0668689012527466, 1.0724682807922363, 1.2385579347610474, 1.157227635383606, 1.6978058815002441, 1.1557811498641968, 1.4661141633987427, 1.1710740327835083, 0.9919416308403015, 1.189131498336792, 1.3005433082580566, 1.5076059103012085, 1.4729994535446167, 1.127876877784729, 1.1753044128417969, 1.2507911920547485, 1.1130971908569336, 1.0206243991851807, 1.1820993423461914, 1.1799123287200928, 1.4636752605438232, 1.249698519706726, 1.265621304512024, 0.9411924481391907, 0.931848406791687, 0.9579482078552246, 1.3162503242492676, 1.2809926271438599, 1.030448079109192, 0.8206126689910889, 1.3746474981307983, 1.0339981317520142, 1.1861438751220703, 1.0790241956710815, 1.060020089149475, 1.2929346561431885, 1.0497007369995117, 1.1126576662063599, 0.9322404265403748, 1.115536093711853, 1.1071677207946777, 0.9959555864334106, 1.1598066091537476, 1.0751867294311523, 1.0775353908538818, 1.006886601448059, 1.4525552988052368, 0.9653344750404358, 1.3338143825531006, 1.0369846820831299, 1.0423517227172852, 0.9213688969612122, 0.8360444903373718, 0.7974929213523865, 1.2280906438827515, 1.061087965965271, 0.8898956179618835, 0.8881927728652954, 1.1256781816482544, 0.9988881945610046, 0.870635986328125, 1.0647865533828735, 0.9830164313316345, 1.0264617204666138, 1.1487501859664917, 0.9280874133110046, 0.8676905632019043, 1.0684083700180054, 0.9039295315742493, 1.310463547706604, 0.7981687784194946, 0.9950887560844421, 0.973558783531189, 0.9402123093605042, 1.093783974647522, 0.8947860598564148, 1.00443696975708, 0.8675315380096436, 0.7393015027046204, 1.1899703741073608, 1.0498807430267334, 0.6149404048919678, 0.8202608823776245, 0.8404627442359924, 0.8754745721817017, 0.6961665153503418, 0.7985310554504395, 1.5695149898529053, 1.198320984840393, 1.511904001235962, 1.0352014303207397, 1.0332049131393433, 0.657279908657074, 0.6886699795722961, 0.9908118844032288, 1.119128704071045, 0.8273830413818359, 0.8629661202430725, 0.6960346698760986, 0.7044877409934998, 0.8294481635093689, 1.1577911376953125, 0.9325323104858398, 0.7765243053436279, 0.6902718544006348, 0.7881468534469604, 0.6912857294082642, 1.4982448816299438, 0.8354381322860718, 0.8748196363449097, 0.6836774349212646, 0.7796846628189087, 1.0691815614700317, 0.6061107516288757, 0.6747567653656006, 0.7003048062324524, 1.173996925354004, 1.2249424457550049, 0.8059449195861816, 0.6619799733161926, 0.6792640089988708, 0.6619338393211365, 0.6497362852096558, 0.6438010334968567, 1.0833345651626587, 0.9382719993591309, 0.8287414908409119, 1.145073413848877, 0.9315109252929688, 1.2852144241333008, 0.6224242448806763, 0.4316846430301666, 0.5664379000663757, 0.5999153256416321, 0.9436137676239014, 0.8645959496498108, 0.9428816437721252, 0.6511213183403015, 0.8123287558555603, 0.9075247645378113, 0.6039423942565918, 0.7941582798957825, 0.8404478430747986, 1.0116949081420898, 0.8651232719421387, 0.7592461109161377, 0.6131778359413147, 0.6696017384529114, 0.7522852420806885, 0.663662850856781, 0.5862180590629578, 0.5321283936500549, 0.9843497276306152, 1.0324931144714355, 1.0591232776641846, 0.9309249520301819, 0.8398589491844177, 0.8106518983840942, 0.5224697589874268, 0.7109519839286804, 1.038450837135315, 0.9046696424484253, 0.7904829978942871, 0.8079335689544678, 0.8935799598693848, 0.5228074193000793, 0.47085288166999817, 0.7700661420822144, 1.0387990474700928, 0.7871270179748535, 0.6793552041053772, 0.5634662508964539, 0.64996337890625, 0.8838814496994019, 0.7901857495307922, 0.5707217454910278, 0.6151484251022339, 0.7216976284980774, 0.5526137351989746, 0.7050536274909973, 0.8958452343940735, 0.9453944563865662, 1.01495361328125, 0.7661833763122559, 0.6874028444290161, 0.6207571029663086, 0.7496468424797058, 0.6223669052124023, 0.6516006588935852, 0.5446327328681946, 0.6929327249526978, 0.8732942342758179, 0.8551626801490784, 0.5973081588745117, 0.7225545048713684, 0.8511766195297241, 0.6369138360023499, 0.5157400965690613, 0.5722824931144714, 0.49143096804618835, 0.4937959611415863, 0.6546701788902283, 0.5509210824966431, 0.6051760911941528, 1.0123827457427979, 1.2207491397857666, 0.7836532592773438, 0.5044099688529968, 0.5057873129844666, 0.582638680934906, 0.8087758421897888, 1.1149864196777344, 0.5518823266029358, 0.4704645872116089, 0.6263724565505981, 0.501629650592804, 0.7175467014312744, 0.6427977085113525, 0.9865214824676514, 0.6897307634353638, 0.6716814637184143, 0.5378744006156921, 0.4468362033367157, 0.6293986439704895, 0.5729238390922546, 0.4793391823768616, 0.6088740825653076, 0.6372804045677185, 0.5429162383079529, 0.5347267389297485, 0.6257374882698059, 0.7195284366607666, 1.0569958686828613, 0.5795061588287354, 0.47183555364608765, 0.5598403215408325, 0.7228989005088806, 0.5496286749839783, 0.4849671721458435, 0.5127840638160706, 0.8598421216011047, 0.6057237386703491, 0.7656083106994629, 0.4534412622451782, 0.7106225490570068, 1.0392481088638306, 0.5687416791915894, 0.7220495939254761, 0.44244465231895447, 0.540368914604187, 0.5146726369857788, 0.845935583114624, 0.8961291313171387, 0.425355464220047, 0.4304230511188507, 0.5850360989570618, 0.6518437266349792, 0.4398147463798523, 0.594821572303772, 0.41935494542121887, 0.6029991507530212, 0.6330548524856567, 0.5619274377822876, 0.5797804594039917, 0.5749899744987488, 0.620820939540863, 0.4679059684276581, 0.7032654285430908, 0.9656032919883728, 0.7008599638938904, 0.6026099920272827, 0.42805540561676025, 0.7704557180404663, 0.4831010699272156, 0.5788407921791077, 0.43877100944519043, 0.48952311277389526, 0.4953894317150116, 0.6192570328712463, 0.5416327714920044, 0.7645654082298279, 0.7179328799247742, 0.6643601059913635, 0.6469799876213074, 0.6195104718208313, 0.5555915236473083, 0.40499940514564514, 0.4408326745033264, 0.5207980871200562, 0.4402884840965271, 0.5292201042175293, 0.5641350150108337, 0.6248896718025208, 0.49978888034820557, 0.7000718712806702, 0.6574379205703735, 0.8251650929450989, 0.3304070830345154, 0.7474974989891052, 0.6442422866821289, 0.9086207151412964, 0.5478023886680603, 0.37991729378700256, 0.32383081316947937, 0.42476993799209595], 'mean_absolute_error': [9.779953956604004, 3.139523506164551, 2.8084845542907715, 2.517096757888794, 2.47261643409729, 2.371314287185669, 2.3621816635131836, 2.2856478691101074, 2.261260986328125, 2.2807860374450684, 2.2129149436950684, 2.2019476890563965, 2.152674436569214, 2.188034772872925, 2.087897539138794, 2.115935802459717, 2.0714051723480225, 2.011044502258301, 2.0661821365356445, 1.9719650745391846, 2.0622670650482178, 1.9947019815444946, 1.9880262613296509, 2.0084269046783447, 1.8912941217422485, 1.8585429191589355, 1.9158105850219727, 1.8738888502120972, 1.8999119997024536, 1.9367907047271729, 1.8018804788589478, 1.8708486557006836, 1.8694125413894653, 1.7667933702468872, 1.828202724456787, 1.8621037006378174, 1.6897637844085693, 1.7413192987442017, 1.7573645114898682, 1.6638225317001343, 1.763454556465149, 1.6450715065002441, 1.6437028646469116, 1.6397818326950073, 1.7577897310256958, 1.681890845298767, 1.567319393157959, 1.5727812051773071, 1.609649896621704, 1.5532759428024292, 1.5998215675354004, 1.5443274974822998, 1.5721497535705566, 1.6123555898666382, 1.4341758489608765, 1.5224353075027466, 1.392054557800293, 1.4087753295898438, 1.4710544347763062, 1.435553789138794, 1.5096899271011353, 1.4718927145004272, 1.5069615840911865, 1.4904693365097046, 1.3446611166000366, 1.4140114784240723, 1.4552135467529297, 1.339111566543579, 1.3992890119552612, 1.3410112857818604, 1.366787314414978, 1.3339574337005615, 1.3329308032989502, 1.3773109912872314, 1.3742170333862305, 1.2791632413864136, 1.2994322776794434, 1.27942955493927, 1.4137687683105469, 1.3585383892059326, 1.3323465585708618, 1.2974863052368164, 1.2532647848129272, 1.3041232824325562, 1.2147917747497559, 1.3212783336639404, 1.2228962182998657, 1.151352882385254, 1.2345243692398071, 1.2402842044830322, 1.3000500202178955, 1.2734088897705078, 1.281416893005371, 1.0470532178878784, 1.1882305145263672, 1.2109885215759277, 1.3164228200912476, 1.1610952615737915, 1.1377917528152466, 1.1503921747207642, 1.2155380249023438, 1.2747440338134766, 1.1485010385513306, 1.1214085817337036, 1.1119776964187622, 1.0987954139709473, 1.0867072343826294, 1.1089489459991455, 1.0944417715072632, 1.1019755601882935, 1.107581615447998, 1.1176741123199463, 1.1165987253189087, 1.022907018661499, 1.0358246564865112, 1.1332520246505737, 1.0817965269088745, 1.0723748207092285, 1.056523323059082, 1.0700136423110962, 1.0042555332183838, 1.0456891059875488, 1.0227735042572021, 0.9578602313995361, 1.0071340799331665, 1.0791398286819458, 1.1405034065246582, 0.9791255593299866, 1.0676461458206177, 0.9435445666313171, 1.0594335794448853, 1.0371631383895874, 0.9782418608665466, 1.0279924869537354, 1.010669469833374, 1.0031636953353882, 0.9793720245361328, 0.9642614126205444, 0.9993274211883545, 0.9448093175888062, 0.9399787783622742, 0.9848346710205078, 0.952831506729126, 0.9354314804077148, 1.0547115802764893, 0.9587123394012451, 0.9009901285171509, 0.8778032064437866, 0.9761367440223694, 0.9868969917297363, 0.9083362817764282, 0.9710886478424072, 0.8849985003471375, 0.8451299667358398, 0.9810321927070618, 0.9115416407585144, 0.9963009357452393, 1.0206340551376343, 0.9381083250045776, 0.9040239453315735, 0.9181926250457764, 0.9364979267120361, 0.9115064740180969, 0.9307763576507568, 0.9207414388656616, 0.9447129964828491, 0.9078097343444824, 0.9195400476455688, 0.9231536984443665, 0.8951935768127441, 0.8084516525268555, 0.8665043115615845, 0.9541573524475098, 0.8449127078056335, 0.9096225500106812, 0.9019268751144409, 0.9775205254554749, 0.7650423049926758, 0.8680953979492188, 0.8838346600532532, 0.9153876304626465, 0.82960045337677, 0.7534723877906799, 0.8361421823501587, 0.8190380334854126, 0.8323606252670288, 0.9377195835113525, 0.9942836165428162, 0.8342185616493225, 0.8532530665397644, 0.8186290860176086, 0.8292259573936462, 0.8091088533401489, 0.8004865646362305, 0.852443277835846, 0.7819575071334839, 0.7945317625999451, 0.8487364649772644, 0.8002626299858093, 0.9640394449234009, 0.7981455326080322, 0.8483274579048157, 0.8248387575149536, 0.7444789409637451, 0.8161563873291016, 0.8286716341972351, 0.9205913543701172, 0.909005343914032, 0.8194320797920227, 0.8264304399490356, 0.83782559633255, 0.8098385334014893, 0.7644655108451843, 0.8129642009735107, 0.819046139717102, 0.9442354440689087, 0.8385425806045532, 0.8476046919822693, 0.7029137015342712, 0.7069103717803955, 0.7379605174064636, 0.8966742157936096, 0.869564950466156, 0.7856780290603638, 0.690869927406311, 0.8750460147857666, 0.7428849339485168, 0.8486149907112122, 0.7684569358825684, 0.7673153281211853, 0.8825973868370056, 0.7960673570632935, 0.7659611105918884, 0.7436419725418091, 0.7862727642059326, 0.7902035713195801, 0.7332956790924072, 0.7984422445297241, 0.7709857821464539, 0.7559679746627808, 0.7474244832992554, 0.9148768782615662, 0.7511696815490723, 0.8502458930015564, 0.7347043752670288, 0.7622356414794922, 0.7109165787696838, 0.6862688064575195, 0.6736959218978882, 0.8178313374519348, 0.7565812468528748, 0.7199143767356873, 0.7166675329208374, 0.7336840033531189, 0.7254425883293152, 0.7161633372306824, 0.8046730756759644, 0.7075455188751221, 0.7700840830802917, 0.8035815358161926, 0.7469920516014099, 0.6686702370643616, 0.7697762846946716, 0.696460485458374, 0.8322191834449768, 0.6728510856628418, 0.7166597247123718, 0.7277292609214783, 0.7245500087738037, 0.7650672197341919, 0.7295676469802856, 0.748411238193512, 0.702583372592926, 0.6610836982727051, 0.7815108299255371, 0.7275518774986267, 0.5704651474952698, 0.6928215622901917, 0.7035461068153381, 0.7073394656181335, 0.6289969682693481, 0.6649436354637146, 0.9173344373703003, 0.7825446724891663, 0.8618136644363403, 0.7660422921180725, 0.7253344655036926, 0.6173599362373352, 0.602809727191925, 0.7271409034729004, 0.7899755239486694, 0.6992419362068176, 0.6806584000587463, 0.6362849473953247, 0.6110461354255676, 0.6991391777992249, 0.8276703953742981, 0.7493077516555786, 0.6808086037635803, 0.637444794178009, 0.675287127494812, 0.6238165497779846, 0.8609610199928284, 0.700133204460144, 0.716179609298706, 0.6518176198005676, 0.6595357656478882, 0.7633501887321472, 0.5605278015136719, 0.589454710483551, 0.6454913020133972, 0.8208569884300232, 0.7957266569137573, 0.6648630499839783, 0.61572265625, 0.6470309495925903, 0.6087158918380737, 0.6017000079154968, 0.611612856388092, 0.7612408995628357, 0.7608219981193542, 0.6580799221992493, 0.8154959082603455, 0.7118344902992249, 0.8049184679985046, 0.5933182835578918, 0.47395551204681396, 0.5535204410552979, 0.5843907594680786, 0.726577877998352, 0.6964192986488342, 0.7203397154808044, 0.6074700951576233, 0.6792035102844238, 0.6949039697647095, 0.5858439803123474, 0.680264949798584, 0.6552242040634155, 0.7339980602264404, 0.690676212310791, 0.6557826399803162, 0.5736290216445923, 0.5968421101570129, 0.6415556073188782, 0.6188220977783203, 0.5745123624801636, 0.5216916799545288, 0.6681238412857056, 0.7525094151496887, 0.7608212232589722, 0.6710609793663025, 0.6735296249389648, 0.6818235516548157, 0.527046263217926, 0.6061169505119324, 0.7321814894676208, 0.6989526748657227, 0.6536443829536438, 0.6796249747276306, 0.6759156584739685, 0.5502999424934387, 0.5097095966339111, 0.6525871753692627, 0.7112263441085815, 0.6131058931350708, 0.6085165739059448, 0.5561899542808533, 0.6057141423225403, 0.6769416332244873, 0.6742659211158752, 0.5553855895996094, 0.5828059315681458, 0.6207666397094727, 0.5853754878044128, 0.6069830656051636, 0.6909437775611877, 0.7150164842605591, 0.7615600228309631, 0.6423385143280029, 0.62618488073349, 0.5704821348190308, 0.6347163915634155, 0.5607221722602844, 0.5732296705245972, 0.5413849353790283, 0.6314146518707275, 0.6933587789535522, 0.6941395401954651, 0.5869039297103882, 0.6067380905151367, 0.6927438378334045, 0.5934492349624634, 0.5269343852996826, 0.5400012731552124, 0.5104406476020813, 0.5020662546157837, 0.5976302623748779, 0.5712168216705322, 0.5886450409889221, 0.749609112739563, 0.8115165829658508, 0.6367511749267578, 0.5550931692123413, 0.5113868117332458, 0.5616587400436401, 0.6564696431159973, 0.7666374444961548, 0.5434966683387756, 0.517403781414032, 0.5899435877799988, 0.5034762024879456, 0.6338484883308411, 0.5825521349906921, 0.7295923233032227, 0.6153531074523926, 0.5861498713493347, 0.5277701020240784, 0.4840755760669708, 0.578982412815094, 0.5335181951522827, 0.5291380286216736, 0.5989816188812256, 0.6143391132354736, 0.5663955211639404, 0.5346043705940247, 0.5813507437705994, 0.5996770858764648, 0.7390061020851135, 0.5756161212921143, 0.49476638436317444, 0.5376439094543457, 0.6341286897659302, 0.5760071873664856, 0.5066362619400024, 0.523385226726532, 0.6827583312988281, 0.5748047828674316, 0.6322042346000671, 0.5062143802642822, 0.6225029826164246, 0.7106888294219971, 0.5707438588142395, 0.6244713068008423, 0.5060390830039978, 0.5520831942558289, 0.5222686529159546, 0.6139041185379028, 0.7202600240707397, 0.4942137598991394, 0.4846193492412567, 0.5609515309333801, 0.5720944404602051, 0.48557037115097046, 0.5851766467094421, 0.48814156651496887, 0.5571818947792053, 0.5879999399185181, 0.5775898694992065, 0.5573407411575317, 0.5647859573364258, 0.5645960569381714, 0.523510754108429, 0.6057475209236145, 0.6766825318336487, 0.6095503568649292, 0.5799918174743652, 0.4888004660606384, 0.6252957582473755, 0.4990718960762024, 0.5894601345062256, 0.48603060841560364, 0.5022965669631958, 0.5207746028900146, 0.5736229419708252, 0.549091637134552, 0.6196328401565552, 0.6156246066093445, 0.5904569029808044, 0.5639072060585022, 0.5711511969566345, 0.5710914134979248, 0.44526082277297974, 0.4690040647983551, 0.5139531493186951, 0.510987401008606, 0.5544831156730652, 0.5421320199966431, 0.5769065022468567, 0.5075986385345459, 0.6414543390274048, 0.5742953419685364, 0.657012939453125, 0.4115127921104431, 0.6100007891654968, 0.5916879773139954, 0.6664721965789795, 0.5310080051422119, 0.4536272883415222, 0.41263747215270996, 0.4697728455066681], 'val_loss': [21.89735221862793, 16.14128875732422, 14.669838905334473, 13.39671516418457, 12.9229154586792, 12.431344985961914, 13.556344985961914, 12.067699432373047, 10.778694152832031, 10.365633964538574, 11.313177108764648, 10.33916187286377, 13.07370662689209, 9.62833309173584, 10.268016815185547, 9.85351276397705, 10.49829387664795, 14.450044631958008, 9.7665433883667, 12.064910888671875, 9.869770050048828, 9.624024391174316, 8.894575119018555, 9.65750789642334, 10.828269958496094, 10.620240211486816, 13.685242652893066, 9.69128131866455, 8.979430198669434, 10.341869354248047, 9.868059158325195, 9.153822898864746, 9.667763710021973, 11.4068603515625, 8.429350852966309, 8.296282768249512, 11.201299667358398, 8.21827507019043, 9.924333572387695, 11.390972137451172, 9.198959350585938, 8.547375679016113, 8.69881534576416, 12.849578857421875, 11.45400333404541, 8.840864181518555, 7.753585338592529, 8.704805374145508, 8.691328048706055, 9.241096496582031, 8.292974472045898, 8.982405662536621, 9.110563278198242, 10.212936401367188, 10.403985023498535, 8.466989517211914, 8.880131721496582, 9.785041809082031, 8.153342247009277, 9.331722259521484, 10.93393611907959, 8.94820499420166, 10.671598434448242, 8.893413543701172, 8.83204460144043, 10.183609008789062, 10.926854133605957, 8.199960708618164, 10.567156791687012, 9.172136306762695, 10.015620231628418, 8.05933952331543, 7.31573486328125, 9.414681434631348, 8.236576080322266, 11.3082275390625, 10.09595775604248, 8.784591674804688, 10.803773880004883, 8.454948425292969, 8.670323371887207, 9.517364501953125, 8.67006778717041, 7.299316883087158, 9.37142276763916, 8.567039489746094, 11.3143949508667, 9.65900707244873, 11.051887512207031, 10.758979797363281, 10.042596817016602, 10.74551010131836, 10.581849098205566, 9.181135177612305, 9.819847106933594, 11.293971061706543, 9.452942848205566, 9.663376808166504, 10.579363822937012, 9.845951080322266, 12.878565788269043, 9.985074043273926, 13.443674087524414, 8.294645309448242, 12.446545600891113, 10.245920181274414, 10.838753700256348, 9.89466381072998, 8.953757286071777, 8.313505172729492, 9.34605598449707, 10.071939468383789, 10.18176555633545, 9.591876983642578, 10.648112297058105, 10.851901054382324, 10.395402908325195, 10.387577056884766, 9.125380516052246, 11.647115707397461, 11.447979927062988, 8.702271461486816, 11.270944595336914, 9.528054237365723, 10.608551025390625, 11.084798812866211, 9.307278633117676, 9.70804214477539, 11.471939086914062, 11.082174301147461, 10.731858253479004, 10.68544864654541, 11.500618934631348, 12.364696502685547, 10.245223999023438, 8.75710391998291, 10.40456485748291, 9.403546333312988, 11.396666526794434, 11.217972755432129, 11.494582176208496, 10.416047096252441, 12.139693260192871, 9.032753944396973, 10.65664005279541, 10.620030403137207, 11.051275253295898, 9.170804023742676, 13.145825386047363, 10.48882007598877, 10.548253059387207, 10.297272682189941, 10.776554107666016, 10.026734352111816, 11.72120189666748, 9.868865966796875, 11.297070503234863, 12.310935020446777, 11.414381980895996, 11.923425674438477, 10.657257080078125, 11.241012573242188, 11.346099853515625, 11.324092864990234, 11.6109037399292, 11.667588233947754, 10.124570846557617, 12.719464302062988, 9.707796096801758, 10.119152069091797, 11.641751289367676, 12.587249755859375, 9.513423919677734, 9.676377296447754, 9.071090698242188, 10.893509864807129, 8.83321762084961, 10.601544380187988, 10.741779327392578, 10.849410057067871, 11.20966625213623, 9.548567771911621, 10.69106674194336, 11.873015403747559, 12.281471252441406, 10.020665168762207, 10.910087585449219, 9.416482925415039, 10.5524320602417, 10.985102653503418, 10.377799987792969, 10.955662727355957, 10.105596542358398, 10.178919792175293, 9.613875389099121, 11.434297561645508, 10.00100040435791, 10.088518142700195, 10.864889144897461, 11.435949325561523, 10.230056762695312, 11.585875511169434, 12.360194206237793, 9.920469284057617, 13.600468635559082, 10.467562675476074, 15.666377067565918, 10.833844184875488, 12.6908597946167, 12.126776695251465, 13.37716007232666, 11.731539726257324, 9.250444412231445, 10.942424774169922, 11.618684768676758, 10.428922653198242, 13.888245582580566, 10.005733489990234, 10.660508155822754, 10.346678733825684, 9.442548751831055, 14.485099792480469, 11.400651931762695, 11.106914520263672, 11.251672744750977, 10.313274383544922, 10.10328483581543, 12.021496772766113, 10.919002532958984, 10.491792678833008, 10.479705810546875, 11.984360694885254, 10.755598068237305, 10.608243942260742, 8.3336763381958, 10.931649208068848, 9.998817443847656, 11.089536666870117, 11.70516300201416, 10.294886589050293, 12.336713790893555, 11.806594848632812, 8.902524948120117, 11.511340141296387, 10.922454833984375, 10.209254264831543, 11.317702293395996, 11.7650146484375, 10.954883575439453, 10.969541549682617, 11.607176780700684, 9.947751998901367, 10.426419258117676, 11.792860984802246, 10.322375297546387, 11.455859184265137, 11.931107521057129, 11.33669662475586, 12.35849380493164, 9.362909317016602, 9.647695541381836, 10.69444465637207, 11.447074890136719, 10.5009765625, 10.345134735107422, 10.96798038482666, 11.004990577697754, 9.765863418579102, 11.718153953552246, 11.62496280670166, 11.159741401672363, 8.955790519714355, 10.437902450561523, 9.793098449707031, 11.010972023010254, 9.475615501403809, 11.42600154876709, 10.9242582321167, 11.893080711364746, 10.886872291564941, 9.726940155029297, 9.649890899658203, 8.749716758728027, 12.692275047302246, 9.923293113708496, 11.238945007324219, 10.197916984558105, 10.27084732055664, 11.226499557495117, 11.137999534606934, 10.113912582397461, 11.25523853302002, 10.095735549926758, 10.279340744018555, 14.289179801940918, 10.531195640563965, 10.361414909362793, 10.005709648132324, 9.623960494995117, 9.640253067016602, 9.92214584350586, 9.610891342163086, 9.606851577758789, 9.067012786865234, 10.027298927307129, 10.30173397064209, 9.67913818359375, 8.649906158447266, 11.578104019165039, 10.188640594482422, 10.335105895996094, 9.446725845336914, 10.484366416931152, 10.524052619934082, 11.181413650512695, 8.987688064575195, 10.26223373413086, 11.165719985961914, 9.092386245727539, 9.519588470458984, 8.089566230773926, 10.70920181274414, 10.182974815368652, 10.955023765563965, 11.501165390014648, 9.95590877532959, 10.24826431274414, 10.042533874511719, 9.401677131652832, 10.432056427001953, 9.674123764038086, 9.468730926513672, 9.445711135864258, 9.276174545288086, 9.294057846069336, 9.732268333435059, 10.171041488647461, 11.487364768981934, 8.852839469909668, 9.58253002166748, 9.626553535461426, 9.091140747070312, 9.76440143585205, 11.228092193603516, 8.944210052490234, 10.704752922058105, 10.346647262573242, 9.150081634521484, 11.220948219299316, 9.208541870117188, 9.311355590820312, 9.17899227142334, 9.531852722167969, 9.648415565490723, 8.581464767456055, 10.258907318115234, 9.701396942138672, 10.778368949890137, 10.144368171691895, 10.029888153076172, 9.003954887390137, 9.358428001403809, 8.872847557067871, 9.733306884765625, 9.301529884338379, 10.299577713012695, 11.007526397705078, 10.424769401550293, 10.60682487487793, 10.320569038391113, 9.215532302856445, 9.589994430541992, 9.523115158081055, 9.372048377990723, 9.441439628601074, 9.675113677978516, 11.053436279296875, 9.428277969360352, 10.203753471374512, 8.657816886901855, 8.627310752868652, 8.870132446289062, 10.488470077514648, 10.468420028686523, 9.188965797424316, 10.527975082397461, 10.522324562072754, 9.174844741821289, 9.510610580444336, 10.458133697509766, 10.030887603759766, 9.951233863830566, 10.38425350189209, 11.34033203125, 9.761775016784668, 10.483686447143555, 9.500408172607422, 9.805145263671875, 11.01491641998291, 11.724912643432617, 10.324606895446777, 9.273733139038086, 9.933363914489746, 9.411070823669434, 10.490922927856445, 10.517151832580566, 10.583861351013184, 9.278193473815918, 10.285630226135254, 10.401647567749023, 9.193941116333008, 9.818222999572754, 10.881401062011719, 8.824857711791992, 9.324613571166992, 9.502735137939453, 11.2125244140625, 13.594143867492676, 9.874112129211426, 9.364657402038574, 10.08906364440918, 11.723036766052246, 10.747851371765137, 9.478658676147461, 10.016491889953613, 10.927132606506348, 9.655281066894531, 9.798007011413574, 12.042557716369629, 10.60571002960205, 10.228549003601074, 10.299271583557129, 11.951878547668457, 10.014305114746094, 9.413833618164062, 8.756965637207031, 13.181572914123535, 11.39096450805664, 10.808650970458984, 9.318767547607422, 8.460794448852539, 9.8366117477417, 9.513524055480957, 9.732398986816406, 8.683833122253418, 9.381149291992188, 8.176301002502441, 10.647926330566406, 9.381821632385254, 9.871946334838867, 9.801085472106934, 9.814640045166016, 9.197715759277344, 9.865397453308105, 11.313414573669434, 9.495992660522461, 10.063718795776367, 9.256623268127441, 9.550816535949707, 10.258951187133789, 11.085638046264648, 9.627938270568848, 10.692370414733887, 9.436415672302246, 9.731912612915039, 10.034607887268066, 9.79587459564209, 9.478316307067871, 9.599469184875488, 9.903045654296875, 8.802224159240723, 9.314221382141113, 8.337539672851562, 8.92294979095459, 8.334646224975586, 9.425915718078613, 10.487896919250488, 9.566875457763672, 11.18950366973877, 10.756049156188965, 10.406515121459961, 10.599803924560547, 9.91801929473877, 9.998279571533203, 9.976217269897461, 11.049055099487305, 9.993162155151367, 10.032991409301758, 9.25744342803955, 8.919961929321289, 9.985498428344727, 9.618886947631836, 11.550708770751953, 11.285273551940918, 10.254435539245605, 9.401394844055176, 8.663392066955566, 9.613100051879883, 10.409903526306152, 9.565906524658203], 'val_mean_absolute_error': [3.5890309810638428, 2.989609479904175, 2.9352612495422363, 2.746046304702759, 2.8029987812042236, 2.8005073070526123, 2.979449510574341, 2.728461265563965, 2.6359543800354004, 2.529752254486084, 2.6756060123443604, 2.472301959991455, 2.9269864559173584, 2.432337760925293, 2.512632131576538, 2.5063204765319824, 2.5232317447662354, 3.0571300983428955, 2.4647350311279297, 2.7140743732452393, 2.4629666805267334, 2.441819667816162, 2.3425488471984863, 2.4452173709869385, 2.562626838684082, 2.560288429260254, 2.943570613861084, 2.4390830993652344, 2.2801589965820312, 2.4987637996673584, 2.4262123107910156, 2.3874409198760986, 2.3863251209259033, 2.6552622318267822, 2.3053112030029297, 2.2555689811706543, 2.5716047286987305, 2.228137731552124, 2.4791646003723145, 2.6162784099578857, 2.348741054534912, 2.2409939765930176, 2.273682117462158, 2.752310276031494, 2.6392159461975098, 2.341887950897217, 2.1409215927124023, 2.291863203048706, 2.231809616088867, 2.3231122493743896, 2.1903021335601807, 2.273197889328003, 2.2653629779815674, 2.451314687728882, 2.4731781482696533, 2.226923704147339, 2.2614388465881348, 2.3861544132232666, 2.1878037452697754, 2.302198886871338, 2.5535945892333984, 2.249450445175171, 2.4981229305267334, 2.328464984893799, 2.273458957672119, 2.4856503009796143, 2.5290584564208984, 2.183246374130249, 2.5150363445281982, 2.34169340133667, 2.452859401702881, 2.152390718460083, 2.045076847076416, 2.3464157581329346, 2.210386037826538, 2.629304885864258, 2.387549877166748, 2.2396814823150635, 2.4636266231536865, 2.2295563220977783, 2.2078323364257812, 2.3554446697235107, 2.2781200408935547, 2.093416690826416, 2.3820366859436035, 2.1664090156555176, 2.5955722332000732, 2.373098134994507, 2.5107667446136475, 2.504326581954956, 2.3213462829589844, 2.441835880279541, 2.5268993377685547, 2.27169132232666, 2.3153512477874756, 2.5608482360839844, 2.3100767135620117, 2.3437576293945312, 2.4461312294006348, 2.278198003768921, 2.6552069187164307, 2.3300554752349854, 2.8669369220733643, 2.1083767414093018, 2.6011385917663574, 2.4458565711975098, 2.3744144439697266, 2.272578716278076, 2.2578887939453125, 2.1118786334991455, 2.1978049278259277, 2.3247432708740234, 2.352900505065918, 2.190871000289917, 2.3771417140960693, 2.4235167503356934, 2.2704999446868896, 2.3095667362213135, 2.14810848236084, 2.5503995418548584, 2.5252602100372314, 2.1846001148223877, 2.477329730987549, 2.2601916790008545, 2.3965654373168945, 2.470944881439209, 2.2521607875823975, 2.381563663482666, 2.559352159500122, 2.4877262115478516, 2.357888698577881, 2.4399635791778564, 2.467865228652954, 2.5668785572052, 2.314754009246826, 2.0823464393615723, 2.342529296875, 2.258368968963623, 2.579397439956665, 2.4571125507354736, 2.618622064590454, 2.3399696350097656, 2.5230531692504883, 2.232069492340088, 2.3279330730438232, 2.4183664321899414, 2.4544761180877686, 2.297283411026001, 2.6757357120513916, 2.375307559967041, 2.428602695465088, 2.4307379722595215, 2.371952772140503, 2.3045401573181152, 2.6123485565185547, 2.4392051696777344, 2.4198691844940186, 2.703752040863037, 2.5145819187164307, 2.6270694732666016, 2.4288201332092285, 2.4520435333251953, 2.4541304111480713, 2.3714988231658936, 2.5025718212127686, 2.537724018096924, 2.3487234115600586, 2.584765672683716, 2.2894487380981445, 2.3438267707824707, 2.544071912765503, 2.603992223739624, 2.321657657623291, 2.2834956645965576, 2.160473108291626, 2.3959617614746094, 2.240039110183716, 2.4451959133148193, 2.4652512073516846, 2.4126198291778564, 2.4813008308410645, 2.3313770294189453, 2.3825948238372803, 2.6941165924072266, 2.599774122238159, 2.441394567489624, 2.5297751426696777, 2.285390853881836, 2.489773988723755, 2.4964065551757812, 2.417213201522827, 2.503251314163208, 2.3882737159729004, 2.4030697345733643, 2.300715446472168, 2.5725536346435547, 2.2888643741607666, 2.362959384918213, 2.5304276943206787, 2.5283713340759277, 2.381486415863037, 2.481412172317505, 2.6505463123321533, 2.373906135559082, 2.8167269229888916, 2.457904100418091, 2.939445972442627, 2.495537519454956, 2.67187237739563, 2.599900960922241, 2.8409414291381836, 2.558335304260254, 2.169969081878662, 2.585732936859131, 2.601438283920288, 2.4457852840423584, 2.9376323223114014, 2.337674617767334, 2.358288049697876, 2.2875187397003174, 2.2985100746154785, 2.852642059326172, 2.4872732162475586, 2.4160406589508057, 2.608830213546753, 2.405510425567627, 2.3362648487091064, 2.532093048095703, 2.4772725105285645, 2.398563861846924, 2.486497402191162, 2.5150320529937744, 2.4921088218688965, 2.3690409660339355, 2.1087706089019775, 2.443208932876587, 2.338062286376953, 2.4791769981384277, 2.6350255012512207, 2.4624366760253906, 2.666227102279663, 2.5938892364501953, 2.174607753753662, 2.471548080444336, 2.521423101425171, 2.325136661529541, 2.489006519317627, 2.4985969066619873, 2.4243297576904297, 2.5155394077301025, 2.5336477756500244, 2.3523976802825928, 2.3597991466522217, 2.5742857456207275, 2.3904244899749756, 2.553176164627075, 2.547785758972168, 2.4713287353515625, 2.6166210174560547, 2.2992119789123535, 2.3537192344665527, 2.3680875301361084, 2.5401182174682617, 2.357684373855591, 2.397725820541382, 2.4165189266204834, 2.45277738571167, 2.3225643634796143, 2.4885849952697754, 2.610044240951538, 2.4732940196990967, 2.2007033824920654, 2.3651387691497803, 2.3528406620025635, 2.4921159744262695, 2.342189073562622, 2.5659992694854736, 2.4811325073242188, 2.7196102142333984, 2.3745036125183105, 2.3393964767456055, 2.325300693511963, 2.1524453163146973, 2.7714688777923584, 2.3609628677368164, 2.4293465614318848, 2.350402593612671, 2.2903382778167725, 2.3978586196899414, 2.5001916885375977, 2.324369430541992, 2.58182430267334, 2.352201461791992, 2.3012099266052246, 2.8764803409576416, 2.404745578765869, 2.4245612621307373, 2.370063066482544, 2.3182318210601807, 2.385956287384033, 2.411498785018921, 2.3038227558135986, 2.2334489822387695, 2.2396466732025146, 2.385287046432495, 2.3904576301574707, 2.391385555267334, 2.1942543983459473, 2.624807119369507, 2.4543800354003906, 2.4345643520355225, 2.417210578918457, 2.43091082572937, 2.504506826400757, 2.5371956825256348, 2.2522401809692383, 2.4348442554473877, 2.472046375274658, 2.2722418308258057, 2.317671298980713, 2.0926120281219482, 2.404103994369507, 2.3683524131774902, 2.4965147972106934, 2.5542714595794678, 2.330022096633911, 2.3820176124572754, 2.3405919075012207, 2.3570399284362793, 2.4052138328552246, 2.3315489292144775, 2.3176469802856445, 2.2467806339263916, 2.22873854637146, 2.2711920738220215, 2.3236377239227295, 2.439119815826416, 2.5035834312438965, 2.2521378993988037, 2.367344856262207, 2.375974655151367, 2.2988805770874023, 2.2830657958984375, 2.499840497970581, 2.2349588871002197, 2.5065360069274902, 2.440020799636841, 2.3373188972473145, 2.5201239585876465, 2.2828421592712402, 2.3243675231933594, 2.253774881362915, 2.3012611865997314, 2.3601901531219482, 2.179666757583618, 2.4365394115448, 2.3001437187194824, 2.4065511226654053, 2.394597291946411, 2.4154834747314453, 2.241455316543579, 2.3239545822143555, 2.2225937843322754, 2.3129472732543945, 2.2726211547851562, 2.469167709350586, 2.496098518371582, 2.503535032272339, 2.4299049377441406, 2.4625775814056396, 2.2838284969329834, 2.317624807357788, 2.3635449409484863, 2.3019144535064697, 2.2984979152679443, 2.3230106830596924, 2.4034876823425293, 2.310807943344116, 2.3671298027038574, 2.2249035835266113, 2.1900811195373535, 2.245844602584839, 2.3436503410339355, 2.4904165267944336, 2.243116617202759, 2.496398687362671, 2.4145328998565674, 2.2393715381622314, 2.2728989124298096, 2.4431545734405518, 2.437455892562866, 2.3069941997528076, 2.4330861568450928, 2.457326650619507, 2.2609283924102783, 2.310490608215332, 2.3222527503967285, 2.304314136505127, 2.4924793243408203, 2.593669891357422, 2.377842903137207, 2.2847001552581787, 2.2989120483398438, 2.3383536338806152, 2.3843295574188232, 2.4281041622161865, 2.4131040573120117, 2.2449684143066406, 2.360136032104492, 2.350454092025757, 2.256129741668701, 2.3523173332214355, 2.431140899658203, 2.2967307567596436, 2.213428497314453, 2.287465810775757, 2.5246777534484863, 2.7807955741882324, 2.348442792892456, 2.2992489337921143, 2.346405267715454, 2.67620587348938, 2.386892080307007, 2.241750717163086, 2.250124454498291, 2.449430227279663, 2.2906899452209473, 2.289646863937378, 2.5832359790802, 2.416673421859741, 2.3013057708740234, 2.4192721843719482, 2.5238327980041504, 2.407987594604492, 2.3014466762542725, 2.223353385925293, 2.632704019546509, 2.5295047760009766, 2.4923765659332275, 2.2659695148468018, 2.200615167617798, 2.361697196960449, 2.2710328102111816, 2.3176605701446533, 2.1889595985412598, 2.279453754425049, 2.0875542163848877, 2.466688871383667, 2.3038740158081055, 2.2998127937316895, 2.3069710731506348, 2.295426845550537, 2.265040397644043, 2.3075451850891113, 2.5746116638183594, 2.283752679824829, 2.371513843536377, 2.299915313720703, 2.315612554550171, 2.3610501289367676, 2.5069868564605713, 2.2653074264526367, 2.4999489784240723, 2.293881893157959, 2.347625970840454, 2.389648675918579, 2.271259307861328, 2.337536096572876, 2.3366894721984863, 2.3601057529449463, 2.1701533794403076, 2.2891416549682617, 2.156593084335327, 2.2365317344665527, 2.182755470275879, 2.295330286026001, 2.4165704250335693, 2.292006015777588, 2.433070659637451, 2.4161150455474854, 2.3811068534851074, 2.416898250579834, 2.3248186111450195, 2.290318250656128, 2.372654914855957, 2.4499640464782715, 2.3009514808654785, 2.36047101020813, 2.283562660217285, 2.203937292098999, 2.3344714641571045, 2.3154356479644775, 2.5748541355133057, 2.389866352081299, 2.332618236541748, 2.292954921722412, 2.1905312538146973, 2.2669692039489746, 2.3954896926879883, 2.3259713649749756]}\n",
      "처리중인 폴드 # 2\n"
     ]
    },
    {
     "name": "stdout",
     "output_type": "stream",
     "text": [
      "{'loss': [195.39369201660156, 23.658382415771484, 15.733865737915039, 13.387636184692383, 11.871474266052246, 10.774578094482422, 10.94440746307373, 9.710200309753418, 9.92597770690918, 8.729109764099121, 8.444830894470215, 8.711407661437988, 8.411504745483398, 7.755359172821045, 7.481606483459473, 8.095837593078613, 7.024786472320557, 7.117192268371582, 6.750515937805176, 7.1804118156433105, 6.670149326324463, 6.3621826171875, 6.330438137054443, 6.159755706787109, 6.013905048370361, 6.425091743469238, 5.272948741912842, 5.594099521636963, 5.242649555206299, 5.396603107452393, 5.391570091247559, 5.6097893714904785, 4.78060245513916, 4.842162132263184, 4.974442481994629, 4.510818958282471, 4.372734069824219, 4.620792388916016, 4.484337329864502, 4.036503314971924, 3.989285707473755, 4.083321571350098, 4.375354766845703, 3.3211686611175537, 3.820908784866333, 3.4686646461486816, 3.2439935207366943, 3.563755750656128, 3.663536310195923, 3.5325706005096436, 3.2655086517333984, 3.325507164001465, 2.845808506011963, 4.0841474533081055, 2.7422120571136475, 2.9172074794769287, 3.040262460708618, 2.829305648803711, 2.8225064277648926, 2.8873162269592285, 2.847179889678955, 2.5953524112701416, 2.720508575439453, 2.6342835426330566, 2.513148307800293, 2.1500492095947266, 2.462949752807617, 2.2290351390838623, 2.7688956260681152, 2.7488677501678467, 2.5042760372161865, 2.246473550796509, 2.536142587661743, 2.1920015811920166, 1.9786912202835083, 2.2348573207855225, 2.575638771057129, 2.02679705619812, 2.224410057067871, 2.3630974292755127, 2.120312452316284, 1.9699598550796509, 2.2912096977233887, 1.9851211309432983, 1.6799321174621582, 1.9845041036605835, 1.9827959537506104, 2.2331936359405518, 2.072683095932007, 2.0255393981933594, 1.9969698190689087, 1.9666368961334229, 1.7493523359298706, 1.946794033050537, 1.925438404083252, 1.5295442342758179, 1.8514153957366943, 1.8664066791534424, 1.857709527015686, 1.5626678466796875, 1.6669409275054932, 1.710571527481079, 1.681087851524353, 2.1561052799224854, 1.579050064086914, 1.7024562358856201, 1.5717172622680664, 1.595474362373352, 1.4192970991134644, 1.6787742376327515, 1.4979580640792847, 1.583226203918457, 1.3842310905456543, 1.500722885131836, 1.8661859035491943, 1.3575351238250732, 1.558784008026123, 1.4052374362945557, 1.5845566987991333, 1.4311455488204956, 1.1755510568618774, 1.2735567092895508, 1.6061123609542847, 1.4939775466918945, 1.4000017642974854, 1.5186046361923218, 1.4023324251174927, 2.0764801502227783, 1.7017103433609009, 1.3959240913391113, 1.2929885387420654, 1.6563698053359985, 1.3738242387771606, 1.0930328369140625, 1.2534565925598145, 1.3569564819335938, 1.6812506914138794, 1.4442765712738037, 1.3428621292114258, 1.2332671880722046, 1.1902397871017456, 1.0895984172821045, 1.1673895120620728, 1.0482836961746216, 1.0924712419509888, 1.261865496635437, 1.2551618814468384, 1.098318099975586, 0.9460339546203613, 1.4475212097167969, 1.146824598312378, 1.3912434577941895, 1.0507264137268066, 0.9609981179237366, 1.1510467529296875, 1.0202058553695679, 0.9791887402534485, 1.243680715560913, 1.287931203842163, 1.332701325416565, 1.2753238677978516, 1.255486249923706, 1.0259562730789185, 1.023589849472046, 0.8536975383758545, 1.043596625328064, 1.0936697721481323, 1.1077404022216797, 1.160219669342041, 1.0499552488327026, 1.1578223705291748, 1.1148878335952759, 0.7985640168190002, 1.1731406450271606, 1.2026969194412231, 1.175639033317566, 1.083784580230713, 1.1578402519226074, 1.119693636894226, 0.888375461101532, 0.9526373147964478, 0.8277420401573181, 0.9001729488372803, 0.8103881478309631, 0.9374716877937317, 1.0344126224517822, 1.2754487991333008, 1.1580092906951904, 1.0391122102737427, 0.9117839336395264, 0.7840052843093872, 1.35435152053833, 0.9115793108940125, 1.1502079963684082, 0.724154531955719, 0.6367848515510559, 1.0234874486923218, 0.8392882943153381, 0.7872898578643799, 1.2144160270690918, 1.2239961624145508, 1.1715331077575684, 0.9883778095245361, 0.6797617077827454, 0.8307876586914062, 0.7845562696456909, 0.7823088765144348, 0.8387131094932556, 1.084823489189148, 0.9145992994308472, 0.9594177603721619, 0.9262670278549194, 1.1404742002487183, 1.1816319227218628, 0.7728123068809509, 0.7966338992118835, 1.1263600587844849, 0.8008301258087158, 0.7371939420700073, 0.83333420753479, 0.9700981378555298, 0.9368744492530823, 1.0852677822113037, 1.0926108360290527, 0.720924437046051, 0.7509029507637024, 0.7633841037750244, 0.8579695820808411, 0.8465301990509033, 0.9012429118156433, 0.6630235314369202, 0.7541970014572144, 0.790066659450531, 0.9196320176124573, 0.9292294383049011, 0.9064304828643799, 0.814967930316925, 0.62937992811203, 0.9037106037139893, 0.6134042739868164, 0.6076219081878662, 1.045582890510559, 0.9532670378684998, 1.0204070806503296, 0.5604190230369568, 0.8218497037887573, 0.9894349575042725, 0.8919814825057983, 1.106429100036621, 0.8484965562820435, 0.6385053992271423, 0.7215321660041809, 0.6513966917991638, 0.6217799782752991, 0.7890632748603821, 0.7826962471008301, 0.7350029945373535, 0.8245359063148499, 0.9007479548454285, 0.6607562303543091, 0.6412108540534973, 0.9213482737541199, 0.7959120869636536, 0.7435956001281738, 0.5238156914710999, 0.6303578615188599, 0.7355023622512817, 0.7694067358970642, 0.8303191661834717, 0.9833660125732422, 0.678310215473175, 0.5492575168609619, 0.7328605055809021, 0.684770405292511, 0.5867276191711426, 0.593483567237854, 0.7080243229866028, 0.9217075109481812, 0.8408509492874146, 0.6105691194534302, 0.49499979615211487, 0.6278122067451477, 0.6365413069725037, 0.60980623960495, 0.9270198941230774, 0.6365916132926941, 0.6548089981079102, 0.47347795963287354, 0.7039092183113098, 0.6820439100265503, 0.7583012580871582, 0.8437283039093018, 0.7419811487197876, 0.8112747669219971, 0.8019074201583862, 0.6063381433486938, 0.559889554977417, 0.5511501431465149, 0.7585330605506897, 0.5740309357643127, 0.6291654706001282, 0.5479333996772766, 0.9124621152877808, 0.6270184516906738, 0.9004894495010376, 0.5352184772491455, 0.4482421875, 0.7330358028411865, 0.8471977710723877, 0.6806238889694214, 0.6526075005531311, 0.6314021944999695, 0.7286748290061951, 0.6758349537849426, 0.6552603244781494, 0.5792515277862549, 0.6090883612632751, 0.623454749584198, 0.4057115614414215, 0.5945326089859009, 0.4450087249279022, 0.500030517578125, 0.9715379476547241, 0.7968642711639404, 0.4770701825618744, 0.45128411054611206, 0.4328111708164215, 0.4155665338039398, 0.8622711300849915, 0.6272629499435425, 0.5184677839279175, 0.49404314160346985, 0.6733525395393372, 0.5445471405982971, 0.6972785592079163, 0.7927403450012207, 0.8346624374389648, 0.630092442035675, 0.6183394193649292, 0.5065380930900574, 0.5148062109947205, 0.3921598792076111, 0.6300407648086548, 0.5261638760566711, 0.4185955822467804, 0.45889610052108765, 0.6965404748916626, 0.6083385348320007, 0.5675809979438782, 0.5188766121864319, 0.4819653630256653, 0.5533494353294373, 0.7196679711341858, 0.7063018083572388, 0.7392178177833557, 0.5580036044120789, 0.6808260679244995, 0.6725379228591919, 0.5390720963478088, 0.5069567561149597, 0.4852951169013977, 0.44364914298057556, 0.5090271234512329, 0.508874237537384, 0.8236695528030396, 0.5802218317985535, 0.5940400958061218, 0.4867505431175232, 0.49556174874305725, 0.35453155636787415, 0.5012661218643188, 0.620384931564331, 0.5696277022361755, 0.6115474104881287, 0.42578962445259094, 0.6189697980880737, 0.5090863108634949, 0.4382043778896332, 0.6111664772033691, 0.7054415941238403, 0.6293154358863831, 0.6113656163215637, 0.722046971321106, 0.7145395278930664, 0.3596091568470001, 0.4191996455192566, 0.47245118021965027, 0.5214709639549255, 0.3996632695198059, 0.44747215509414673, 0.5532663464546204, 0.48997417092323303, 0.4546293616294861, 0.5144021511077881, 0.6347168684005737, 1.1750377416610718, 0.6843715310096741, 0.4186592996120453, 0.32926803827285767, 0.4441050887107849, 0.3983800709247589, 0.5424251556396484, 0.4957786500453949, 0.66304612159729, 0.4706258177757263, 0.41670483350753784, 0.7262484431266785, 0.4126147925853729, 0.6383879780769348, 0.43979671597480774, 0.36743074655532837, 0.3923761248588562, 0.3851705491542816, 0.44645828008651733, 0.6665627956390381, 0.4915880858898163, 0.7194553017616272, 0.5420153141021729, 0.4886128008365631, 0.5940520167350769, 0.44766971468925476, 0.3322736918926239, 0.3091038763523102, 0.34338095784187317, 0.46120360493659973, 0.589637041091919, 0.5925711989402771, 0.44462403655052185, 0.3433399200439453, 0.41726231575012207, 0.5043251514434814, 0.3954603374004364, 0.38311344385147095, 0.4480019211769104, 0.7968426942825317, 0.5255547165870667, 0.3768986165523529, 0.8403447866439819, 0.4208277463912964, 0.3307138979434967, 0.3005436956882477, 0.4394473731517792, 0.5056044459342957, 0.4541891813278198, 0.5634772181510925, 0.33624911308288574, 0.4211007356643677, 0.38711440563201904, 0.7922486066818237, 0.5705443024635315, 0.3355070948600769, 0.32284486293792725, 0.3617469370365143, 0.464316189289093, 0.3263836205005646, 0.2945233881473541, 0.4063968360424042, 0.6337165832519531, 0.5042597055435181, 0.7070258855819702, 0.4996545910835266, 0.5492302775382996, 0.5233593583106995, 0.3445776402950287, 0.3816882371902466, 0.8055048584938049, 0.4486657977104187, 0.397568017244339, 0.35923057794570923, 0.34891292452812195, 0.4534286558628082, 0.44241026043891907, 0.6070083379745483, 0.3821626603603363, 0.4269837737083435, 0.492739737033844, 0.42343664169311523, 0.5144489407539368, 0.4287099242210388, 0.2729634940624237, 0.3303774893283844, 0.4053521454334259, 0.34167635440826416, 0.49609431624412537, 0.41592347621917725, 0.46857333183288574, 0.6326631307601929, 0.3853396475315094, 0.24497398734092712, 0.29897433519363403, 0.5428189039230347, 0.45376935601234436, 0.3425280451774597, 0.505548894405365, 0.49200087785720825, 0.43422383069992065, 0.6438789963722229, 0.3795582354068756, 0.2927916944026947, 0.360874205827713], 'mean_absolute_error': [10.231645584106445, 3.415496826171875, 2.8775975704193115, 2.6064088344573975, 2.4596121311187744, 2.365488290786743, 2.4345288276672363, 2.362645387649536, 2.286130905151367, 2.222761869430542, 2.151824474334717, 2.1646602153778076, 2.1332316398620605, 2.0378732681274414, 2.0338189601898193, 2.1102418899536133, 1.976900339126587, 1.9599766731262207, 1.9185749292373657, 1.99978768825531, 1.9113624095916748, 1.9128388166427612, 1.8338673114776611, 1.8137636184692383, 1.8321688175201416, 1.8398175239562988, 1.7467178106307983, 1.7415229082107544, 1.7135766744613647, 1.714605689048767, 1.7331939935684204, 1.7477881908416748, 1.5812073945999146, 1.5917026996612549, 1.6547907590866089, 1.6042580604553223, 1.5359967947006226, 1.5791444778442383, 1.5692495107650757, 1.481795310974121, 1.5231884717941284, 1.4748361110687256, 1.5625931024551392, 1.349854826927185, 1.447404146194458, 1.443466067314148, 1.350638747215271, 1.415993094444275, 1.455878496170044, 1.4055854082107544, 1.3760818243026733, 1.3945897817611694, 1.2961864471435547, 1.504943609237671, 1.2697397470474243, 1.2962303161621094, 1.3260844945907593, 1.3024080991744995, 1.3330166339874268, 1.299359917640686, 1.2866374254226685, 1.2346426248550415, 1.2246147394180298, 1.2268750667572021, 1.2701890468597412, 1.1370444297790527, 1.1872971057891846, 1.1479300260543823, 1.2485828399658203, 1.2234841585159302, 1.2120449542999268, 1.1421372890472412, 1.207371473312378, 1.1215704679489136, 1.0568267107009888, 1.1375735998153687, 1.2557021379470825, 1.0665324926376343, 1.1407452821731567, 1.1685699224472046, 1.0999574661254883, 1.0658761262893677, 1.149522066116333, 1.0762267112731934, 0.9817266464233398, 1.085357904434204, 1.1053099632263184, 1.1293587684631348, 1.1185814142227173, 1.0782184600830078, 1.0527044534683228, 1.0828747749328613, 1.0161374807357788, 1.0323787927627563, 1.0028038024902344, 0.9312820434570312, 1.0457136631011963, 1.0292199850082397, 0.9973487854003906, 0.9681495428085327, 0.9630154371261597, 0.9991927742958069, 0.9977126121520996, 1.0998830795288086, 0.9690179824829102, 1.0027284622192383, 0.9390047192573547, 0.9798204302787781, 0.8984474539756775, 0.9735365509986877, 0.9235056042671204, 0.9338750839233398, 0.873678982257843, 0.9379175901412964, 1.014780879020691, 0.8937222957611084, 0.9402676224708557, 0.9021403193473816, 0.9759302139282227, 0.8940011858940125, 0.8411774039268494, 0.8486729860305786, 0.9632059931755066, 0.9380744695663452, 0.8756005764007568, 0.9490157961845398, 0.9119241833686829, 1.0742170810699463, 1.0072845220565796, 0.9056001901626587, 0.8525856137275696, 0.9428070187568665, 0.9099981188774109, 0.7888955473899841, 0.8121073246002197, 0.8875890374183655, 0.9788731932640076, 0.9030774831771851, 0.8414614796638489, 0.8460509777069092, 0.8021646738052368, 0.7742005586624146, 0.8216040134429932, 0.8019181489944458, 0.7781344652175903, 0.8663455247879028, 0.8459412455558777, 0.81156325340271, 0.7395743727684021, 0.8787548542022705, 0.7937349081039429, 0.8769956231117249, 0.7939534187316895, 0.7623196840286255, 0.8264508843421936, 0.7827523946762085, 0.7875357866287231, 0.8319593071937561, 0.8406548500061035, 0.8397042155265808, 0.877788782119751, 0.8363868594169617, 0.7828975319862366, 0.76532381772995, 0.7292801141738892, 0.7751190662384033, 0.7733754515647888, 0.7603312134742737, 0.8073514699935913, 0.7902320027351379, 0.8280502557754517, 0.8149757981300354, 0.6869486570358276, 0.8412930965423584, 0.8255616426467896, 0.808282196521759, 0.7752898335456848, 0.7877560257911682, 0.8215481638908386, 0.7064954042434692, 0.7281394600868225, 0.6838993430137634, 0.7199170589447021, 0.6730591654777527, 0.7514311075210571, 0.8004629015922546, 0.8193411231040955, 0.8319020867347717, 0.7507634162902832, 0.7066947221755981, 0.6895263195037842, 0.8523850440979004, 0.7474562525749207, 0.7912908792495728, 0.6546593308448792, 0.603204607963562, 0.7686864733695984, 0.7147796154022217, 0.6739989519119263, 0.8595351576805115, 0.7772951722145081, 0.7798641920089722, 0.7700670957565308, 0.6396070718765259, 0.6736981272697449, 0.6705663204193115, 0.6688201427459717, 0.6833125948905945, 0.774474561214447, 0.7307549118995667, 0.7641184329986572, 0.732805073261261, 0.7793999314308167, 0.7994420528411865, 0.6645899415016174, 0.6538557410240173, 0.773036539554596, 0.6815409064292908, 0.6469313502311707, 0.701658308506012, 0.7481399178504944, 0.7094462513923645, 0.7697238326072693, 0.7964729070663452, 0.6402171850204468, 0.6548359394073486, 0.6489459872245789, 0.6936224699020386, 0.6686620712280273, 0.7313857078552246, 0.592527449131012, 0.6283610463142395, 0.6583351492881775, 0.718816339969635, 0.7142291069030762, 0.712392270565033, 0.6942403316497803, 0.6026093363761902, 0.7053391933441162, 0.5796111226081848, 0.5995793342590332, 0.7827418446540833, 0.7149592041969299, 0.7854180932044983, 0.5697624087333679, 0.6713554859161377, 0.7047008872032166, 0.694673478603363, 0.748482346534729, 0.715420663356781, 0.5860387682914734, 0.6565369367599487, 0.6117262244224548, 0.5864662528038025, 0.6696444153785706, 0.6749312281608582, 0.6395378708839417, 0.6871247887611389, 0.7092567086219788, 0.6030407547950745, 0.5895510911941528, 0.7008104920387268, 0.6768918633460999, 0.6092993021011353, 0.5466092228889465, 0.6048965454101562, 0.6302884817123413, 0.6609604954719543, 0.696144700050354, 0.7371366620063782, 0.6118726134300232, 0.571921706199646, 0.6412975788116455, 0.6234982013702393, 0.5585734844207764, 0.588397741317749, 0.6333651542663574, 0.7164275646209717, 0.6678971648216248, 0.5835224986076355, 0.5374618768692017, 0.5767601728439331, 0.5736023187637329, 0.6012486219406128, 0.7109196782112122, 0.5710631012916565, 0.5715017914772034, 0.5202847123146057, 0.6052507162094116, 0.614941418170929, 0.6657771468162537, 0.6804139018058777, 0.6305748224258423, 0.6447158455848694, 0.6452590227127075, 0.5807987451553345, 0.5644052624702454, 0.5349109768867493, 0.6275640726089478, 0.5768179893493652, 0.5994240641593933, 0.5481669902801514, 0.726372241973877, 0.5838679671287537, 0.690712571144104, 0.5242454409599304, 0.5261186957359314, 0.6175593733787537, 0.6512274146080017, 0.6242622137069702, 0.6031585335731506, 0.5946859121322632, 0.6089401245117188, 0.5848541259765625, 0.6028600335121155, 0.5736263990402222, 0.5750356912612915, 0.5855978727340698, 0.45505163073539734, 0.5785952210426331, 0.5118619799613953, 0.5274097919464111, 0.6851145625114441, 0.6446658968925476, 0.4972110092639923, 0.4938587248325348, 0.5197586417198181, 0.4968067407608032, 0.6967092156410217, 0.5725858211517334, 0.5368696451187134, 0.5239571332931519, 0.6069549918174744, 0.5612452626228333, 0.6129637956619263, 0.6310172080993652, 0.6758553385734558, 0.5882576704025269, 0.5674099922180176, 0.5333701372146606, 0.5259894132614136, 0.4639410078525543, 0.5649754405021667, 0.5459972023963928, 0.48832350969314575, 0.5005701780319214, 0.6092844605445862, 0.5650745630264282, 0.5632901787757874, 0.5445465445518494, 0.5256850719451904, 0.5566991567611694, 0.6313059329986572, 0.6107724905014038, 0.6531595587730408, 0.5600540637969971, 0.6086221933364868, 0.577835738658905, 0.5613368153572083, 0.5107022523880005, 0.5319477319717407, 0.4967699348926544, 0.5159950852394104, 0.5351489186286926, 0.6589105725288391, 0.5844823718070984, 0.5877352952957153, 0.5431841015815735, 0.5193656086921692, 0.44781750440597534, 0.49918800592422485, 0.5788946151733398, 0.5397674441337585, 0.6007949709892273, 0.4866862893104553, 0.5886605381965637, 0.5394769310951233, 0.49329468607902527, 0.588557243347168, 0.6108598709106445, 0.587386429309845, 0.5824338793754578, 0.6160411834716797, 0.6097617745399475, 0.4386241137981415, 0.4965035319328308, 0.5001332759857178, 0.5344759225845337, 0.4832015335559845, 0.4795833230018616, 0.5574517846107483, 0.5203146934509277, 0.5130268335342407, 0.5457245707511902, 0.6048884987831116, 0.7284916639328003, 0.6385414600372314, 0.5016838312149048, 0.43339377641677856, 0.49655669927597046, 0.48683372139930725, 0.5315001010894775, 0.5464950203895569, 0.5988652110099792, 0.5058325529098511, 0.45322179794311523, 0.623713493347168, 0.47075125575065613, 0.6086987853050232, 0.49246156215667725, 0.4483555555343628, 0.4304582476615906, 0.46817755699157715, 0.5136054754257202, 0.5998796224594116, 0.5330620408058167, 0.6119233965873718, 0.5376670360565186, 0.5011650919914246, 0.5506836175918579, 0.4960501492023468, 0.42546191811561584, 0.40968483686447144, 0.42685675621032715, 0.4894367456436157, 0.5450201630592346, 0.561251699924469, 0.49222618341445923, 0.4316883087158203, 0.4713578522205353, 0.5323532223701477, 0.46924886107444763, 0.4665662348270416, 0.5070533752441406, 0.6689878106117249, 0.532061755657196, 0.43390512466430664, 0.6461198329925537, 0.4904646575450897, 0.40748339891433716, 0.3927229344844818, 0.46657228469848633, 0.5332605242729187, 0.5138913989067078, 0.5560272336006165, 0.44616931676864624, 0.46755754947662354, 0.4566258490085602, 0.6323071122169495, 0.5478103756904602, 0.4184924364089966, 0.41301658749580383, 0.42477700114250183, 0.5002021193504333, 0.40829402208328247, 0.4126313626766205, 0.47934454679489136, 0.5805959701538086, 0.5559171438217163, 0.5936795473098755, 0.5118484497070312, 0.5193960070610046, 0.5297519564628601, 0.43399477005004883, 0.4541790783405304, 0.5906942486763, 0.5031563639640808, 0.46373116970062256, 0.4287894070148468, 0.44840314984321594, 0.510269820690155, 0.5024333000183105, 0.5783704519271851, 0.46772298216819763, 0.4774893522262573, 0.5260443091392517, 0.4762505292892456, 0.5319617986679077, 0.47341668605804443, 0.3777245283126831, 0.439364492893219, 0.47843071818351746, 0.44677436351776123, 0.5146836042404175, 0.4747408628463745, 0.5054300427436829, 0.5990216135978699, 0.46769437193870544, 0.38644176721572876, 0.41627198457717896, 0.5388916730880737, 0.4992721974849701, 0.4346511960029602, 0.5140642523765564, 0.49907541275024414, 0.4643442928791046, 0.581752598285675, 0.4537302553653717, 0.4162186086177826, 0.4450235366821289], 'val_loss': [32.82146453857422, 19.91855812072754, 16.745763778686523, 15.93152141571045, 15.40858268737793, 14.764522552490234, 15.368081092834473, 15.297924995422363, 14.5803861618042, 15.084531784057617, 15.874217987060547, 14.44066333770752, 14.470422744750977, 14.043089866638184, 14.316268920898438, 14.663268089294434, 15.315638542175293, 13.535423278808594, 14.201034545898438, 13.673849105834961, 14.831330299377441, 14.81921672821045, 14.525836944580078, 13.12123966217041, 14.50615406036377, 14.472238540649414, 14.609878540039062, 14.251361846923828, 13.84403133392334, 13.351274490356445, 12.282425880432129, 13.300686836242676, 12.455804824829102, 12.492270469665527, 13.131773948669434, 12.746424674987793, 14.122236251831055, 12.266204833984375, 12.95357608795166, 12.128342628479004, 13.539460182189941, 13.163052558898926, 12.211609840393066, 12.826146125793457, 12.51747989654541, 12.248007774353027, 11.124750137329102, 11.588074684143066, 11.700956344604492, 12.524679183959961, 12.517263412475586, 12.012134552001953, 12.23298168182373, 11.101653099060059, 12.573486328125, 11.707536697387695, 11.876307487487793, 12.32137393951416, 12.484027862548828, 11.614309310913086, 11.72934627532959, 11.662492752075195, 10.9593505859375, 12.405401229858398, 11.945099830627441, 12.814576148986816, 13.068119049072266, 12.307232856750488, 13.146258354187012, 13.700438499450684, 13.917421340942383, 11.961716651916504, 11.796833992004395, 11.876317024230957, 12.676363945007324, 11.652080535888672, 12.151942253112793, 11.903450965881348, 12.336212158203125, 11.402488708496094, 12.913512229919434, 11.874605178833008, 13.250605583190918, 11.420064926147461, 11.508333206176758, 12.180487632751465, 12.529802322387695, 12.587624549865723, 11.736254692077637, 11.805394172668457, 12.853672981262207, 12.1493501663208, 12.68787956237793, 11.832673072814941, 12.820706367492676, 12.889819145202637, 10.942434310913086, 11.762184143066406, 11.326437950134277, 11.52390193939209, 12.68715763092041, 11.647974967956543, 12.222878456115723, 12.847556114196777, 11.456191062927246, 11.00538444519043, 13.07313060760498, 12.153509140014648, 11.735456466674805, 11.582781791687012, 11.511950492858887, 11.742563247680664, 12.216673851013184, 13.233985900878906, 12.016383171081543, 11.437435150146484, 11.258716583251953, 11.234895706176758, 11.308910369873047, 11.049388885498047, 11.771132469177246, 11.613200187683105, 12.3709135055542, 11.925002098083496, 11.566619873046875, 11.236372947692871, 11.323427200317383, 10.7474365234375, 12.091015815734863, 10.988969802856445, 11.341439247131348, 10.626617431640625, 11.080612182617188, 12.01597785949707, 11.173516273498535, 12.549162864685059, 12.877419471740723, 11.335562705993652, 12.574689865112305, 12.173027038574219, 12.113130569458008, 11.449688911437988, 11.854418754577637, 11.740822792053223, 11.726789474487305, 11.01537036895752, 11.646723747253418, 11.98829174041748, 11.327327728271484, 12.230243682861328, 11.176844596862793, 11.220671653747559, 10.975865364074707, 11.8718900680542, 11.07929515838623, 12.294509887695312, 11.043869018554688, 12.169328689575195, 12.491753578186035, 11.930602073669434, 11.283695220947266, 11.348450660705566, 11.584794998168945, 11.86661434173584, 11.502801895141602, 11.856060981750488, 11.242671012878418, 11.952475547790527, 12.10287857055664, 12.454861640930176, 11.956103324890137, 11.160823822021484, 12.008925437927246, 12.348816871643066, 12.558282852172852, 12.034212112426758, 12.264669418334961, 12.135515213012695, 12.87528133392334, 11.886293411254883, 11.907655715942383, 12.163637161254883, 11.487685203552246, 12.093606948852539, 12.004951477050781, 12.047521591186523, 11.555238723754883, 12.232034683227539, 11.541744232177734, 11.84511947631836, 11.74787425994873, 13.091365814208984, 11.987183570861816, 11.580976486206055, 11.936895370483398, 11.584346771240234, 11.474020004272461, 11.861005783081055, 11.244211196899414, 13.49241828918457, 12.158714294433594, 13.470157623291016, 11.530672073364258, 12.787436485290527, 12.359545707702637, 11.984081268310547, 12.043946266174316, 12.993999481201172, 12.463126182556152, 13.709211349487305, 12.37270450592041, 13.207287788391113, 12.353092193603516, 12.142745971679688, 11.997353553771973, 12.054204940795898, 14.21560001373291, 11.685389518737793, 12.331332206726074, 11.942038536071777, 11.778017044067383, 11.620626449584961, 13.57744312286377, 12.166464805603027, 12.46090030670166, 12.052436828613281, 12.182313919067383, 12.055066108703613, 13.361214637756348, 14.233363151550293, 12.654383659362793, 11.769096374511719, 13.455140113830566, 13.813253402709961, 13.046969413757324, 12.435920715332031, 11.95014476776123, 12.49013614654541, 12.130139350891113, 12.666730880737305, 13.65566635131836, 13.031986236572266, 12.378698348999023, 11.99386978149414, 12.333657264709473, 12.45445442199707, 12.865537643432617, 13.101882934570312, 11.8773193359375, 12.911092758178711, 12.288792610168457, 11.592909812927246, 12.70609188079834, 12.864989280700684, 12.318450927734375, 12.343355178833008, 13.114388465881348, 11.967293739318848, 12.295519828796387, 12.055949211120605, 12.476758003234863, 12.917137145996094, 11.963841438293457, 12.795958518981934, 12.403682708740234, 12.54181957244873, 12.242690086364746, 11.523839950561523, 12.39751148223877, 13.861413955688477, 11.850130081176758, 12.359943389892578, 12.171908378601074, 12.409845352172852, 12.145503997802734, 12.248382568359375, 11.423556327819824, 13.107321739196777, 12.989941596984863, 11.481966972351074, 11.290060043334961, 11.995676040649414, 12.057088851928711, 12.025115966796875, 12.07421588897705, 13.82894229888916, 12.321887016296387, 12.258593559265137, 11.33262825012207, 12.284439086914062, 12.596409797668457, 12.210738182067871, 12.510027885437012, 13.431418418884277, 11.7371187210083, 11.191588401794434, 11.686205863952637, 13.129549980163574, 12.47350788116455, 13.005919456481934, 12.401232719421387, 12.690978050231934, 12.087031364440918, 12.191452980041504, 13.010565757751465, 12.303869247436523, 12.673845291137695, 11.84611988067627, 12.941457748413086, 12.359907150268555, 12.784175872802734, 12.604153633117676, 11.286115646362305, 12.28475284576416, 12.3054780960083, 11.887277603149414, 13.45650577545166, 12.148330688476562, 12.74523639678955, 13.046831130981445, 13.619283676147461, 12.823071479797363, 12.560866355895996, 13.231152534484863, 12.224902153015137, 12.956116676330566, 12.381465911865234, 13.05886173248291, 12.458929061889648, 12.806892395019531, 12.718463897705078, 13.34468936920166, 13.085113525390625, 12.368629455566406, 11.831232070922852, 12.854411125183105, 12.931045532226562, 14.345948219299316, 13.175799369812012, 12.479352951049805, 12.747629165649414, 12.109341621398926, 12.676748275756836, 12.217257499694824, 12.018675804138184, 12.876238822937012, 12.347135543823242, 12.484803199768066, 12.898555755615234, 12.787144660949707, 12.440994262695312, 12.382043838500977, 12.983665466308594, 14.305893898010254, 13.539579391479492, 12.710195541381836, 12.725333213806152, 12.1069974899292, 12.49753189086914, 13.568341255187988, 12.400233268737793, 12.853646278381348, 12.938066482543945, 12.417691230773926, 12.145825386047363, 12.555933952331543, 13.0384521484375, 12.84461784362793, 12.936866760253906, 12.5680570602417, 14.436944007873535, 13.027597427368164, 13.793111801147461, 12.884644508361816, 12.12132740020752, 12.546256065368652, 12.278935432434082, 12.589116096496582, 12.56836223602295, 15.293858528137207, 12.860860824584961, 14.514464378356934, 13.22309398651123, 12.460908889770508, 12.937243461608887, 12.425308227539062, 12.446466445922852, 12.911543846130371, 12.806558609008789, 12.890336990356445, 12.979998588562012, 13.257265090942383, 12.185681343078613, 14.072463035583496, 13.180567741394043, 14.377691268920898, 13.089241981506348, 12.818111419677734, 12.762094497680664, 12.024992942810059, 12.62463665008545, 13.11818790435791, 12.434906005859375, 12.240144729614258, 11.901756286621094, 12.011937141418457, 11.941238403320312, 12.585326194763184, 12.039730072021484, 12.313719749450684, 12.923199653625488, 11.883369445800781, 11.942042350769043, 12.597236633300781, 13.105253219604492, 12.1739501953125, 12.628376960754395, 12.656773567199707, 13.0269136428833, 12.60413932800293, 11.574803352355957, 12.961974143981934, 12.539795875549316, 11.756698608398438, 12.38802433013916, 13.38720703125, 12.185232162475586, 12.43683910369873, 12.98094654083252, 13.323576927185059, 12.800834655761719, 13.428674697875977, 13.451859474182129, 13.379385948181152, 13.490776062011719, 13.399327278137207, 13.04497241973877, 12.703492164611816, 12.672050476074219, 12.6204252243042, 12.063929557800293, 12.44080924987793, 12.324925422668457, 13.590617179870605, 13.767017364501953, 13.533794403076172, 13.659695625305176, 12.790487289428711, 12.088109016418457, 12.363375663757324, 12.27852725982666, 12.01208782196045, 12.500100135803223, 12.216119766235352, 12.24280071258545, 12.185430526733398, 11.994336128234863, 13.278998374938965, 13.270554542541504, 12.908014297485352, 12.507097244262695, 12.82978343963623, 12.74126148223877, 12.064167022705078, 12.588851928710938, 12.592636108398438, 12.434578895568848, 12.316447257995605, 12.527429580688477, 12.24988842010498, 13.210271835327148, 13.084685325622559, 12.765718460083008, 12.899025917053223, 13.457514762878418, 13.168119430541992, 13.183357238769531, 12.264552116394043, 12.526479721069336, 14.085240364074707, 12.522111892700195, 13.251133918762207, 13.702199935913086, 12.044514656066895, 13.015007019042969, 12.309285163879395, 12.867816925048828, 12.76821517944336, 12.87491512298584, 12.690777778625488, 12.451502799987793, 12.782994270324707, 12.769725799560547, 12.506360054016113, 13.58920669555664, 12.793000221252441, 12.967310905456543, 12.652673721313477, 13.081588745117188, 12.609084129333496], 'val_mean_absolute_error': [4.051966190338135, 3.021864175796509, 2.6839466094970703, 2.658642530441284, 2.878330945968628, 2.686875343322754, 2.7061469554901123, 2.70292592048645, 2.802405595779419, 2.7371485233306885, 2.7388501167297363, 2.6395204067230225, 2.652592658996582, 2.658787727355957, 2.593064069747925, 2.6472902297973633, 2.7169435024261475, 2.5815558433532715, 2.649623155593872, 2.525040626525879, 2.6872012615203857, 2.649116039276123, 2.765939950942993, 2.558328151702881, 2.611558675765991, 2.6552395820617676, 2.7265231609344482, 2.6821670532226562, 2.6179609298706055, 2.4570980072021484, 2.462283134460449, 2.487332582473755, 2.4469239711761475, 2.427168846130371, 2.577646017074585, 2.3954105377197266, 2.6037867069244385, 2.392258644104004, 2.5260555744171143, 2.4552109241485596, 2.652515411376953, 2.524195671081543, 2.4989254474639893, 2.547650098800659, 2.4872517585754395, 2.452800989151001, 2.3207366466522217, 2.4224977493286133, 2.3457701206207275, 2.4771535396575928, 2.5529747009277344, 2.419581174850464, 2.561720132827759, 2.449829578399658, 2.410759210586548, 2.438077211380005, 2.4567737579345703, 2.5124714374542236, 2.556276559829712, 2.374511480331421, 2.389329433441162, 2.4422335624694824, 2.341090202331543, 2.446383476257324, 2.5260229110717773, 2.4683985710144043, 2.6737186908721924, 2.3120362758636475, 2.56742262840271, 2.6016902923583984, 2.51646089553833, 2.4170873165130615, 2.4272994995117188, 2.500523090362549, 2.575029134750366, 2.375269651412964, 2.484051465988159, 2.4294545650482178, 2.4939873218536377, 2.424057722091675, 2.408041477203369, 2.458569288253784, 2.679410934448242, 2.40692138671875, 2.415012836456299, 2.4901158809661865, 2.5106165409088135, 2.428541660308838, 2.4889976978302, 2.4385948181152344, 2.579883337020874, 2.4687395095825195, 2.552508592605591, 2.4966940879821777, 2.476121664047241, 2.5359506607055664, 2.3596267700195312, 2.4459102153778076, 2.387956380844116, 2.435624599456787, 2.605886697769165, 2.434441328048706, 2.4925358295440674, 2.5458738803863525, 2.50903582572937, 2.3780412673950195, 2.583606004714966, 2.4784605503082275, 2.385406255722046, 2.446700096130371, 2.3909356594085693, 2.4238545894622803, 2.525078535079956, 2.5291895866394043, 2.4847593307495117, 2.404207468032837, 2.4052350521087646, 2.428781270980835, 2.406536340713501, 2.478924512863159, 2.375713586807251, 2.483785390853882, 2.4213309288024902, 2.4800519943237305, 2.410917043685913, 2.3907954692840576, 2.443392515182495, 2.349046230316162, 2.430896759033203, 2.4765448570251465, 2.4534811973571777, 2.4570722579956055, 2.3628079891204834, 2.423865556716919, 2.432171106338501, 2.5261292457580566, 2.59224009513855, 2.414414882659912, 2.5538976192474365, 2.4714863300323486, 2.5705196857452393, 2.440242290496826, 2.4220690727233887, 2.4719364643096924, 2.438828229904175, 2.386747360229492, 2.3848512172698975, 2.495044708251953, 2.410727024078369, 2.361598014831543, 2.452995777130127, 2.4239041805267334, 2.375927209854126, 2.498845100402832, 2.4051499366760254, 2.5591681003570557, 2.395526885986328, 2.542818307876587, 2.568803548812866, 2.494196653366089, 2.3772354125976562, 2.424666404724121, 2.457987070083618, 2.44917893409729, 2.457537889480591, 2.4482362270355225, 2.4402503967285156, 2.5323991775512695, 2.4956581592559814, 2.4535834789276123, 2.553607225418091, 2.391575813293457, 2.4742486476898193, 2.4305946826934814, 2.6470487117767334, 2.480942726135254, 2.4724411964416504, 2.444730043411255, 2.55526065826416, 2.461040496826172, 2.51162052154541, 2.528094530105591, 2.4107141494750977, 2.5201637744903564, 2.4887495040893555, 2.4730005264282227, 2.4322478771209717, 2.554192543029785, 2.4575095176696777, 2.486522912979126, 2.4410581588745117, 2.6822283267974854, 2.459794044494629, 2.5147488117218018, 2.495162010192871, 2.4419467449188232, 2.4119086265563965, 2.480170488357544, 2.4250314235687256, 2.6567347049713135, 2.504812002182007, 2.614867925643921, 2.4432125091552734, 2.5194473266601562, 2.543534755706787, 2.5079965591430664, 2.5270321369171143, 2.5568366050720215, 2.5276739597320557, 2.601947784423828, 2.5283913612365723, 2.507479190826416, 2.5816142559051514, 2.473706007003784, 2.4940288066864014, 2.507568836212158, 2.6641299724578857, 2.432865619659424, 2.557330846786499, 2.4893314838409424, 2.3940012454986572, 2.3821074962615967, 2.4908506870269775, 2.5498361587524414, 2.477566957473755, 2.5026779174804688, 2.526501417160034, 2.433924674987793, 2.6065139770507812, 2.696070909500122, 2.553546667098999, 2.465773344039917, 2.6004037857055664, 2.5823512077331543, 2.5596885681152344, 2.475771427154541, 2.414910078048706, 2.4792397022247314, 2.4606308937072754, 2.510082960128784, 2.65948748588562, 2.5053369998931885, 2.4994120597839355, 2.4020256996154785, 2.546783685684204, 2.4923255443573, 2.5179314613342285, 2.584749698638916, 2.4157614707946777, 2.5991220474243164, 2.466681718826294, 2.387045383453369, 2.5171573162078857, 2.587958574295044, 2.4143850803375244, 2.385779619216919, 2.5430567264556885, 2.4051449298858643, 2.423105001449585, 2.4726316928863525, 2.450183153152466, 2.5707321166992188, 2.42145037651062, 2.5427305698394775, 2.4843504428863525, 2.403474807739258, 2.442054271697998, 2.470815896987915, 2.4921295642852783, 2.6542913913726807, 2.363985300064087, 2.448993682861328, 2.4752657413482666, 2.467285394668579, 2.4563686847686768, 2.4648404121398926, 2.392838716506958, 2.5565714836120605, 2.5906105041503906, 2.379696846008301, 2.3182501792907715, 2.4710640907287598, 2.3936078548431396, 2.4219915866851807, 2.3971967697143555, 2.592698574066162, 2.4224283695220947, 2.4528706073760986, 2.368183135986328, 2.3912196159362793, 2.5510499477386475, 2.4213225841522217, 2.491316318511963, 2.519310474395752, 2.4351165294647217, 2.3042564392089844, 2.3540303707122803, 2.5031399726867676, 2.4515202045440674, 2.5023422241210938, 2.5225820541381836, 2.483750820159912, 2.462888717651367, 2.450974464416504, 2.472935914993286, 2.470364809036255, 2.4538066387176514, 2.4538216590881348, 2.523499011993408, 2.5070865154266357, 2.448115587234497, 2.5009186267852783, 2.372299909591675, 2.502546548843384, 2.4485130310058594, 2.393998622894287, 2.56518816947937, 2.4403300285339355, 2.4837396144866943, 2.521611213684082, 2.614198684692383, 2.4468469619750977, 2.5610592365264893, 2.4345569610595703, 2.417043447494507, 2.562453269958496, 2.5096077919006348, 2.507103443145752, 2.5090150833129883, 2.4712650775909424, 2.481797933578491, 2.5296709537506104, 2.542733907699585, 2.480531930923462, 2.413817882537842, 2.4239864349365234, 2.4955763816833496, 2.655308723449707, 2.531452178955078, 2.457578659057617, 2.4887800216674805, 2.4276182651519775, 2.5055055618286133, 2.500814199447632, 2.465449333190918, 2.5337958335876465, 2.5400240421295166, 2.494314432144165, 2.5481507778167725, 2.5088515281677246, 2.486928939819336, 2.43149733543396, 2.5363545417785645, 2.606144666671753, 2.537287950515747, 2.4585466384887695, 2.5131304264068604, 2.480252742767334, 2.4472527503967285, 2.5848827362060547, 2.4688801765441895, 2.522747039794922, 2.553610324859619, 2.4717934131622314, 2.474506378173828, 2.504610061645508, 2.566256046295166, 2.5181498527526855, 2.487295389175415, 2.4643592834472656, 2.6461825370788574, 2.564222574234009, 2.5823357105255127, 2.5217039585113525, 2.4163551330566406, 2.465104103088379, 2.4544644355773926, 2.480910301208496, 2.4021055698394775, 2.8133645057678223, 2.57422137260437, 2.5960285663604736, 2.5019989013671875, 2.4310407638549805, 2.491234302520752, 2.4042325019836426, 2.46051025390625, 2.5258469581604004, 2.44842267036438, 2.5053155422210693, 2.4887704849243164, 2.5243234634399414, 2.3902230262756348, 2.63493275642395, 2.5620226860046387, 2.640749216079712, 2.566671133041382, 2.482942581176758, 2.4813942909240723, 2.4347710609436035, 2.553943395614624, 2.541425943374634, 2.4582509994506836, 2.4511501789093018, 2.3913769721984863, 2.444197654724121, 2.46071457862854, 2.529132127761841, 2.4393606185913086, 2.497774600982666, 2.524174928665161, 2.3868143558502197, 2.3738436698913574, 2.4547550678253174, 2.514042854309082, 2.458172559738159, 2.4527125358581543, 2.4873955249786377, 2.4215922355651855, 2.5179014205932617, 2.3842291831970215, 2.4675512313842773, 2.504033088684082, 2.415071487426758, 2.4156076908111572, 2.560349941253662, 2.42555570602417, 2.425135612487793, 2.484206199645996, 2.530358076095581, 2.4758872985839844, 2.5651190280914307, 2.540440082550049, 2.5313057899475098, 2.487950325012207, 2.4384775161743164, 2.523991107940674, 2.4487404823303223, 2.4639055728912354, 2.4534146785736084, 2.360793113708496, 2.4707891941070557, 2.4245047569274902, 2.5149660110473633, 2.5821003913879395, 2.4970531463623047, 2.527008295059204, 2.4806880950927734, 2.4546637535095215, 2.382796287536621, 2.4142632484436035, 2.357048511505127, 2.4375665187835693, 2.420501470565796, 2.408428430557251, 2.405489444732666, 2.425565004348755, 2.433216094970703, 2.50219464302063, 2.5085160732269287, 2.42903733253479, 2.481674909591675, 2.4814398288726807, 2.3358254432678223, 2.457057476043701, 2.4819278717041016, 2.4218838214874268, 2.4207098484039307, 2.493288278579712, 2.3714518547058105, 2.446272373199463, 2.5207319259643555, 2.455148458480835, 2.516277551651001, 2.5151922702789307, 2.4880199432373047, 2.4788763523101807, 2.408769369125366, 2.400639533996582, 2.6129982471466064, 2.3933331966400146, 2.4865903854370117, 2.5249664783477783, 2.4114830493927, 2.456392765045166, 2.3988893032073975, 2.4767282009124756, 2.4201340675354004, 2.4724438190460205, 2.4826712608337402, 2.4747047424316406, 2.4173383712768555, 2.487795829772949, 2.4631762504577637, 2.601247549057007, 2.466468334197998, 2.489800214767456, 2.4512338638305664, 2.4927918910980225, 2.475761890411377]}\n",
      "처리중인 폴드 # 3\n"
     ]
    },
    {
     "name": "stdout",
     "output_type": "stream",
     "text": [
      "{'loss': [174.65011596679688, 23.580360412597656, 16.493228912353516, 13.266783714294434, 12.77573299407959, 11.28855037689209, 10.804045677185059, 9.478066444396973, 10.098676681518555, 9.25090503692627, 8.961098670959473, 9.094603538513184, 9.322583198547363, 8.744915962219238, 8.48762035369873, 8.424173355102539, 8.05953598022461, 8.212004661560059, 7.645565986633301, 7.707106113433838, 7.479620456695557, 7.215221881866455, 7.062405109405518, 7.407364368438721, 6.68610954284668, 6.531386375427246, 6.4953436851501465, 6.410755157470703, 6.542206287384033, 6.109935760498047, 6.693685054779053, 5.740392208099365, 6.263344764709473, 6.403499603271484, 5.873779773712158, 5.629838943481445, 5.3410539627075195, 5.842158794403076, 5.14682674407959, 5.350622653961182, 5.3283185958862305, 5.305552959442139, 4.961165904998779, 4.672474384307861, 4.691576957702637, 5.100279331207275, 4.822951793670654, 4.378351211547852, 4.423402786254883, 4.51680326461792, 4.388406276702881, 4.191209316253662, 3.991713285446167, 3.9557714462280273, 4.200438976287842, 4.2302751541137695, 4.527417182922363, 3.9972028732299805, 3.8445589542388916, 3.832127094268799, 3.963547706604004, 3.960068941116333, 3.3798677921295166, 3.9119179248809814, 3.5650312900543213, 3.732821464538574, 3.238755941390991, 3.502032518386841, 2.9544286727905273, 3.505215883255005, 3.4405884742736816, 2.9629058837890625, 3.198686361312866, 3.1578195095062256, 3.2864696979522705, 2.8198530673980713, 3.1331377029418945, 3.569920539855957, 3.1264305114746094, 3.3285772800445557, 2.516939640045166, 2.9591739177703857, 2.9903738498687744, 2.5564465522766113, 3.024418592453003, 2.4755330085754395, 2.762861967086792, 2.8300492763519287, 2.479290246963501, 2.490530490875244, 2.326361894607544, 2.4887425899505615, 2.8046963214874268, 2.5576648712158203, 2.476895332336426, 2.16725754737854, 2.4062438011169434, 2.610635995864868, 2.1408164501190186, 2.009052038192749, 2.316976547241211, 2.168026924133301, 2.6281185150146484, 2.2792747020721436, 2.2008209228515625, 2.251586437225342, 2.0510947704315186, 2.1961545944213867, 2.3789238929748535, 2.0827393531799316, 2.016925811767578, 2.1415176391601562, 1.9471335411071777, 2.446807861328125, 2.3199691772460938, 2.082090377807617, 1.8855605125427246, 1.8846009969711304, 2.3966712951660156, 2.0859434604644775, 1.7807605266571045, 1.9672261476516724, 2.056103467941284, 1.6889395713806152, 1.7872729301452637, 2.0224716663360596, 1.9414520263671875, 2.2099530696868896, 1.9617712497711182, 1.8224945068359375, 1.7680754661560059, 1.9181898832321167, 1.9037517309188843, 1.6689821481704712, 1.7963067293167114, 1.5246142148971558, 1.9600880146026611, 1.543325424194336, 1.4824090003967285, 1.6305469274520874, 2.21403431892395, 2.126122236251831, 1.7807786464691162, 1.4840091466903687, 1.5231876373291016, 1.3924459218978882, 1.6040087938308716, 1.9238094091415405, 1.6762529611587524, 1.7672723531723022, 1.6870304346084595, 1.3825057744979858, 1.6705316305160522, 1.3930104970932007, 1.5815720558166504, 1.3602913618087769, 1.3867610692977905, 1.6785937547683716, 1.9088696241378784, 1.6874574422836304, 1.639695644378662, 1.3366705179214478, 1.5531487464904785, 1.4332903623580933, 1.4816482067108154, 1.4975374937057495, 1.368245005607605, 1.3190289735794067, 1.3371695280075073, 1.3166478872299194, 1.4101208448410034, 1.509460687637329, 1.3185343742370605, 1.54429030418396, 1.1476823091506958, 1.4105244874954224, 1.7698644399642944, 1.2419205904006958, 1.2959836721420288, 1.3760592937469482, 1.3572982549667358, 1.378588318824768, 1.678514003753662, 1.465088129043579, 1.3686325550079346, 1.1895880699157715, 1.2017796039581299, 1.0186161994934082, 1.0146063566207886, 1.3125369548797607, 1.7560901641845703, 1.3846404552459717, 1.202160120010376, 1.5428210496902466, 1.6302613019943237, 1.1631230115890503, 1.0385645627975464, 0.9868574738502502, 1.2337090969085693, 1.030774474143982, 1.4838510751724243, 1.126456618309021, 1.359400749206543, 1.4766294956207275, 1.5427082777023315, 1.379055142402649, 1.0981367826461792, 1.0641086101531982, 1.113331913948059, 1.0769423246383667, 1.2966269254684448, 0.8791034817695618, 1.04819917678833, 1.1726317405700684, 1.3346328735351562, 1.4671167135238647, 1.4723485708236694, 1.1347535848617554, 0.9987174272537231, 1.0679270029067993, 1.0440921783447266, 0.9729475378990173, 1.4032174348831177, 1.3292946815490723, 1.3164323568344116, 1.0840412378311157, 1.0105422735214233, 1.0819028615951538, 1.2506448030471802, 1.1009823083877563, 1.0240832567214966, 0.9518077373504639, 0.9633438587188721, 1.1749869585037231, 1.3560289144515991, 1.6424448490142822, 0.8427761197090149, 1.0711238384246826, 0.9743422865867615, 1.3715301752090454, 0.9732701182365417, 1.3851979970932007, 1.4496492147445679, 1.0532346963882446, 0.9551498293876648, 0.8639609217643738, 0.8364155292510986, 1.0648252964019775, 0.8418170213699341, 0.8995830416679382, 0.9992534518241882, 1.2518041133880615, 1.4562941789627075, 1.0840396881103516, 0.9626346826553345, 0.7974650263786316, 0.7947119474411011, 0.8540805578231812, 0.9698176383972168, 1.1985443830490112, 1.4084118604660034, 1.2741754055023193, 0.819794237613678, 0.8672837018966675, 0.8447117805480957, 1.1770799160003662, 0.8683884739875793, 0.9445048570632935, 1.4790030717849731, 1.2433162927627563, 0.9006178379058838, 0.7826511859893799, 0.8958902359008789, 0.8967300057411194, 0.654839277267456, 0.8194994926452637, 1.0407377481460571, 1.0455164909362793, 1.4738308191299438, 0.815739095211029, 1.2283377647399902, 0.9224668145179749, 0.7420867085456848, 0.6448859572410583, 0.8418979048728943, 0.8753455877304077, 0.9342661499977112, 0.9973604679107666, 0.8288236856460571, 1.3714535236358643, 0.8438566327095032, 0.8543887734413147, 0.7194233536720276, 0.9093480706214905, 0.8258308172225952, 0.9428189396858215, 0.7673857808113098, 0.8909687399864197, 0.9797605872154236, 1.1070300340652466, 0.9487721920013428, 0.7250367999076843, 0.800277829170227, 0.8303427696228027, 0.7571820020675659, 0.6925860047340393, 0.7898197770118713, 0.9204719066619873, 0.859655499458313, 0.895215630531311, 0.9398025274276733, 0.8338121771812439, 0.7081231474876404, 0.8313384652137756, 1.1994138956069946, 1.016922950744629, 0.8294890522956848, 0.927879810333252, 0.7726049423217773, 0.8477778434753418, 0.7638485431671143, 0.7764430046081543, 0.6814620494842529, 0.5471377968788147, 0.8773072361946106, 0.7848576307296753, 0.65315842628479, 0.7842177748680115, 1.0275744199752808, 0.8696407079696655, 0.7055217623710632, 0.7017791271209717, 0.9777862429618835, 0.7962294220924377, 0.9741045832633972, 0.6092627644538879, 0.7429895401000977, 0.7520408630371094, 0.8917179703712463, 0.9149985909461975, 0.8473791480064392, 0.629611611366272, 0.6402093172073364, 0.8471072316169739, 0.9108793139457703, 0.5780528783798218, 0.602066695690155, 0.6557868123054504, 0.8943541049957275, 0.8850751519203186, 0.7074843049049377, 0.8639183640480042, 0.7249646782875061, 0.6868142485618591, 0.6222524046897888, 0.8290163278579712, 0.9031791090965271, 0.7253863215446472, 0.8636835217475891, 0.7408419847488403, 0.8592188954353333, 0.8713933825492859, 0.6581757664680481, 0.6252056956291199, 0.7991392612457275, 0.6457738876342773, 0.9487098455429077, 0.5919026136398315, 0.8506901860237122, 0.7942336797714233, 0.7067024111747742, 0.6512764096260071, 0.6175726652145386, 0.9331050515174866, 0.578093945980072, 0.6841729879379272, 0.7709852457046509, 1.0308717489242554, 0.7847733497619629, 0.6100268959999084, 0.5740762948989868, 0.6004400253295898, 0.5465313792228699, 0.6158746480941772, 0.5970332026481628, 0.5152788162231445, 1.1729713678359985, 0.8017871975898743, 0.863935112953186, 0.9763783812522888, 0.46423038840293884, 0.6112754344940186, 0.6719626784324646, 0.5609866380691528, 0.6600400805473328, 0.8729519248008728, 0.620628297328949, 0.7944644093513489, 0.9265505075454712, 0.9935566782951355, 0.616751492023468, 0.5080204010009766, 0.5344595909118652, 0.5839865207672119, 0.5994896292686462, 0.7697853446006775, 0.7421005964279175, 0.5865415334701538, 0.7537381052970886, 0.8373175263404846, 0.675637423992157, 0.8987086415290833, 0.8173075914382935, 0.685350775718689, 0.5294833779335022, 0.6419005393981934, 0.5554762482643127, 0.7959520816802979, 0.5507463812828064, 0.5175616145133972, 0.7017576098442078, 0.6252123713493347, 0.8199188709259033, 0.7687165141105652, 0.6500014066696167, 0.6227619051933289, 0.5459609031677246, 0.7923564314842224, 0.870339572429657, 0.8754205107688904, 0.4340212345123291, 0.5200496912002563, 0.4339444637298584, 0.5687872767448425, 0.8171370029449463, 0.6367095708847046, 0.8239625096321106, 0.6945101022720337, 0.6434388160705566, 0.6014086604118347, 0.728965699672699, 0.6727765202522278, 0.5972951054573059, 0.8053233623504639, 0.7166574597358704, 0.6429540514945984, 0.507769763469696, 0.5275313854217529, 0.5878400802612305, 0.5646330714225769, 0.5768541097640991, 0.5222344994544983, 0.6771534085273743, 0.7457647323608398, 0.6387520432472229, 0.6708508729934692, 0.4701680541038513, 0.7361941337585449, 0.6837435960769653, 0.6775593161582947, 0.5338476896286011, 0.46554118394851685, 0.4767542779445648, 0.4113723337650299, 0.4361497163772583, 0.8051197528839111, 0.7525863647460938, 0.7899457216262817, 0.5768535137176514, 0.3564838767051697, 0.49123868346214294, 0.9443929195404053, 0.9102107286453247, 0.6003850102424622, 0.6124623417854309, 0.5408336520195007, 0.5885520577430725, 0.40629324316978455, 0.4227195084095001, 0.632580578327179, 0.5818517804145813, 0.6773627996444702, 0.7040882706642151, 0.9043251872062683, 0.4807758927345276, 0.5183425545692444, 0.4161154329776764, 0.6264241933822632, 0.5569731593132019, 0.6653031706809998, 0.7529819011688232, 0.5484768748283386, 0.38549819588661194, 0.48299264907836914, 1.0016858577728271, 0.5830214023590088, 0.5319871306419373, 0.5707209706306458, 0.5104033946990967, 0.44227564334869385], 'mean_absolute_error': [9.55766773223877, 3.3401474952697754, 2.72145676612854, 2.409666061401367, 2.4484972953796387, 2.382134437561035, 2.321624994277954, 2.1757781505584717, 2.3000495433807373, 2.158564805984497, 2.141972064971924, 2.1654834747314453, 2.244281530380249, 2.1085853576660156, 2.042208433151245, 2.057833433151245, 1.999490737915039, 2.04384446144104, 1.9390381574630737, 1.9852603673934937, 1.9754207134246826, 1.8974618911743164, 1.902648687362671, 1.9280956983566284, 1.8524137735366821, 1.7961292266845703, 1.801600694656372, 1.7770655155181885, 1.8204466104507446, 1.8249404430389404, 1.7994344234466553, 1.7028238773345947, 1.7123229503631592, 1.8062983751296997, 1.74600088596344, 1.638321876525879, 1.6219754219055176, 1.7062231302261353, 1.5952346324920654, 1.6411694288253784, 1.5876853466033936, 1.6538362503051758, 1.571976900100708, 1.5650525093078613, 1.5388460159301758, 1.6640336513519287, 1.5172463655471802, 1.4891357421875, 1.427578330039978, 1.5197278261184692, 1.4788445234298706, 1.4480806589126587, 1.4007948637008667, 1.4430330991744995, 1.4450956583023071, 1.4931519031524658, 1.518074631690979, 1.3785611391067505, 1.4214707612991333, 1.4015246629714966, 1.3389226198196411, 1.386345624923706, 1.3445793390274048, 1.393798828125, 1.3024671077728271, 1.4103628396987915, 1.2781953811645508, 1.3235960006713867, 1.2386621236801147, 1.3619468212127686, 1.3545736074447632, 1.2645504474639893, 1.3112412691116333, 1.2840583324432373, 1.2719852924346924, 1.222777009010315, 1.2727833986282349, 1.33535897731781, 1.2838108539581299, 1.2859941720962524, 1.1749248504638672, 1.2621129751205444, 1.2955940961837769, 1.1659737825393677, 1.236146330833435, 1.1184872388839722, 1.2037278413772583, 1.2035713195800781, 1.130171537399292, 1.1476691961288452, 1.1170573234558105, 1.1772971153259277, 1.2323774099349976, 1.1474485397338867, 1.1580966711044312, 1.0680253505706787, 1.0679913759231567, 1.179896593093872, 1.0644856691360474, 1.0310819149017334, 1.1031888723373413, 1.0731446743011475, 1.1967121362686157, 1.0824329853057861, 1.0083128213882446, 1.0738800764083862, 1.0113774538040161, 1.0218204259872437, 1.1227742433547974, 1.0318154096603394, 1.0468227863311768, 1.0789278745651245, 1.0423076152801514, 1.1310811042785645, 1.118306040763855, 1.0477031469345093, 1.008415937423706, 0.9984750151634216, 1.1559070348739624, 1.0574923753738403, 0.9459348320960999, 1.0058109760284424, 1.0327491760253906, 0.9662564396858215, 0.9922317862510681, 1.0101902484893799, 0.9909199476242065, 1.0586028099060059, 0.9652050137519836, 0.9879844188690186, 0.9442711472511292, 1.0057843923568726, 1.0147124528884888, 0.9136603474617004, 0.9467955827713013, 0.9012699723243713, 1.0356510877609253, 0.8965017199516296, 0.8740193843841553, 0.9324247241020203, 1.0619885921478271, 1.0785571336746216, 0.9360018968582153, 0.9095743894577026, 0.9534851908683777, 0.8718759417533875, 0.9262282252311707, 0.9701620936393738, 0.9624696969985962, 0.9518536329269409, 0.9420883059501648, 0.8357009291648865, 0.9389585852622986, 0.8529986143112183, 0.893099844455719, 0.8867282271385193, 0.8413038849830627, 0.9913595914840698, 1.021283507347107, 0.9333072304725647, 0.9503861665725708, 0.8414029479026794, 0.868678629398346, 0.8606410026550293, 0.9276260137557983, 0.8966856002807617, 0.8534891605377197, 0.8222624659538269, 0.8480608463287354, 0.8284920454025269, 0.8380003571510315, 0.8742472529411316, 0.8376333713531494, 0.9096009135246277, 0.7780142426490784, 0.8747476935386658, 0.9681124687194824, 0.8241438269615173, 0.8482990264892578, 0.8478764295578003, 0.8467020392417908, 0.8547918200492859, 0.929893970489502, 0.8425009846687317, 0.8526477217674255, 0.8014889359474182, 0.7984507083892822, 0.7397050261497498, 0.7471602559089661, 0.8010170459747314, 0.9551790356636047, 0.8564864993095398, 0.8100332617759705, 0.8526129722595215, 0.8912819027900696, 0.8036686182022095, 0.7293782830238342, 0.7395884990692139, 0.8172318339347839, 0.6994559168815613, 0.8961015343666077, 0.7861140370368958, 0.8451560139656067, 0.8636246919631958, 0.8452661037445068, 0.8498489856719971, 0.7733444571495056, 0.7644867300987244, 0.7603800296783447, 0.7254927754402161, 0.8347578644752502, 0.6777125000953674, 0.7851115465164185, 0.8207030296325684, 0.8765580058097839, 0.8799474835395813, 0.8919052481651306, 0.78070068359375, 0.7215006947517395, 0.7505797743797302, 0.7452197074890137, 0.7198418378829956, 0.8751877546310425, 0.8384019732475281, 0.8146714568138123, 0.7442907691001892, 0.7036706805229187, 0.7602778673171997, 0.8152250051498413, 0.7591725587844849, 0.7402731776237488, 0.7455865144729614, 0.7234480381011963, 0.8258441090583801, 0.8800121545791626, 0.9333828687667847, 0.6763755679130554, 0.7568854689598083, 0.7464285492897034, 0.8623450994491577, 0.7231943607330322, 0.8842196464538574, 0.8214654922485352, 0.7384588122367859, 0.693495512008667, 0.6801174879074097, 0.6767592430114746, 0.7282593250274658, 0.6665820479393005, 0.6899772882461548, 0.7271677851676941, 0.7881692051887512, 0.8408668637275696, 0.7277200818061829, 0.7293855547904968, 0.6201271414756775, 0.6633716225624084, 0.6662997007369995, 0.717756986618042, 0.8010183572769165, 0.8126693964004517, 0.8280156850814819, 0.6474404335021973, 0.6811752319335938, 0.6589058041572571, 0.7843284606933594, 0.680587112903595, 0.6837924122810364, 0.8634161949157715, 0.8115639686584473, 0.6932563185691833, 0.6646755337715149, 0.7183163166046143, 0.6704332828521729, 0.597059428691864, 0.6382030248641968, 0.7407326102256775, 0.7334859371185303, 0.9269098043441772, 0.6530221700668335, 0.7660292387008667, 0.6524611115455627, 0.6250155568122864, 0.6017763018608093, 0.6692944169044495, 0.6739867925643921, 0.6845762729644775, 0.7368390560150146, 0.6418644189834595, 0.8398990035057068, 0.6510943174362183, 0.6491080522537231, 0.6134161353111267, 0.7002722024917603, 0.6471889019012451, 0.713118851184845, 0.6339948773384094, 0.7019633054733276, 0.7295538187026978, 0.7735909223556519, 0.666302502155304, 0.5975781679153442, 0.636824905872345, 0.638032078742981, 0.6451628804206848, 0.6279160976409912, 0.6522921919822693, 0.6974387764930725, 0.697100043296814, 0.7019189596176147, 0.6977275609970093, 0.6130850911140442, 0.6043046712875366, 0.6617698073387146, 0.7888116240501404, 0.7260558009147644, 0.6293959617614746, 0.6913539171218872, 0.6160533428192139, 0.6689289212226868, 0.6319222450256348, 0.6247299909591675, 0.6216436624526978, 0.5457320809364319, 0.6859462261199951, 0.6713646054267883, 0.6057560443878174, 0.6280112862586975, 0.7382627725601196, 0.6582353711128235, 0.6175491809844971, 0.6032257080078125, 0.7205809354782104, 0.6583228707313538, 0.6523674130439758, 0.5547687411308289, 0.6514683961868286, 0.6483039259910583, 0.6736798286437988, 0.7111172676086426, 0.6640682816505432, 0.5835950374603271, 0.5780904293060303, 0.6903568506240845, 0.6817677617073059, 0.5331236720085144, 0.5760327577590942, 0.6180699467658997, 0.6871362924575806, 0.6980926394462585, 0.5730136632919312, 0.6451232433319092, 0.6060587763786316, 0.6019477844238281, 0.5503326654434204, 0.6418497562408447, 0.7007268667221069, 0.6141730546951294, 0.6906597018241882, 0.6025083661079407, 0.644977867603302, 0.6690806150436401, 0.5894692540168762, 0.5599685311317444, 0.6252540946006775, 0.5766525864601135, 0.6993215084075928, 0.5522170662879944, 0.6661955714225769, 0.6305493116378784, 0.6041688323020935, 0.5857640504837036, 0.5716721415519714, 0.6907103657722473, 0.5552082061767578, 0.6094105243682861, 0.6394348740577698, 0.7498190402984619, 0.6606717705726624, 0.5710191130638123, 0.5599889755249023, 0.5608156323432922, 0.5413699746131897, 0.5650339126586914, 0.548069953918457, 0.5051969289779663, 0.7887585759162903, 0.6349063515663147, 0.6542288064956665, 0.6651927828788757, 0.5141833424568176, 0.5426186919212341, 0.5681072473526001, 0.5639867186546326, 0.5602566599845886, 0.6807718276977539, 0.5596356391906738, 0.6700819730758667, 0.6467180252075195, 0.683375895023346, 0.5774694085121155, 0.5165534615516663, 0.4992448687553406, 0.5738915801048279, 0.5369166731834412, 0.6415936946868896, 0.6016285419464111, 0.5422250628471375, 0.6273739337921143, 0.6651294827461243, 0.5721778273582458, 0.6646769046783447, 0.6210790276527405, 0.5981628894805908, 0.5415164232254028, 0.6040106415748596, 0.5358940362930298, 0.6680952310562134, 0.5625579953193665, 0.5285977721214294, 0.6061513423919678, 0.5598652362823486, 0.6492229700088501, 0.6292404532432556, 0.5762930512428284, 0.5778610706329346, 0.5215358138084412, 0.6571119427680969, 0.6302102208137512, 0.6855458617210388, 0.46112367510795593, 0.5191230177879333, 0.4601665139198303, 0.5050591826438904, 0.6795230507850647, 0.5649459958076477, 0.6348908543586731, 0.584566056728363, 0.5874903202056885, 0.5710346698760986, 0.6042287349700928, 0.6038878560066223, 0.577219545841217, 0.6575617790222168, 0.6124664545059204, 0.6029098033905029, 0.5252764225006104, 0.5336795449256897, 0.5692127346992493, 0.5768466591835022, 0.5486510396003723, 0.5144858956336975, 0.6058052778244019, 0.6429697275161743, 0.5736566185951233, 0.6083125472068787, 0.4967019259929657, 0.5838447213172913, 0.6021855473518372, 0.5738607048988342, 0.5548610091209412, 0.4863571226596832, 0.5050353407859802, 0.45303788781166077, 0.46702152490615845, 0.6493077874183655, 0.6382068991661072, 0.6674955487251282, 0.5513396263122559, 0.4406399428844452, 0.5120015740394592, 0.6866706609725952, 0.658831000328064, 0.5250678062438965, 0.5501837730407715, 0.5251091718673706, 0.5615149736404419, 0.4651675522327423, 0.46073979139328003, 0.5656765699386597, 0.5420104265213013, 0.5891448259353638, 0.6246993541717529, 0.6690281629562378, 0.4950668215751648, 0.5058791041374207, 0.46517741680145264, 0.5593816637992859, 0.5761162638664246, 0.6162229776382446, 0.6048423647880554, 0.5117999911308289, 0.45256561040878296, 0.5083654522895813, 0.7221324443817139, 0.5589674711227417, 0.5228273868560791, 0.5440190434455872, 0.5167614817619324, 0.4873958230018616], 'val_loss': [43.244972229003906, 27.280710220336914, 24.294189453125, 18.70482635498047, 16.557104110717773, 14.199191093444824, 13.901424407958984, 14.382872581481934, 14.263911247253418, 13.494068145751953, 14.547210693359375, 12.510027885437012, 14.092496871948242, 13.58776569366455, 13.006529808044434, 11.632550239562988, 12.212371826171875, 12.82993221282959, 13.458539962768555, 13.10326862335205, 11.713427543640137, 11.822427749633789, 17.09575653076172, 11.814895629882812, 12.785922050476074, 12.748703002929688, 12.165718078613281, 11.547327995300293, 12.533893585205078, 13.796077728271484, 11.338693618774414, 11.650300979614258, 11.925210952758789, 11.677048683166504, 10.6973295211792, 10.799905776977539, 14.313272476196289, 11.05078125, 14.363136291503906, 11.446891784667969, 11.885018348693848, 10.885204315185547, 12.00307559967041, 11.493346214294434, 12.2282075881958, 12.206995010375977, 9.974835395812988, 11.349804878234863, 9.948274612426758, 10.453888893127441, 12.040175437927246, 10.845484733581543, 10.467235565185547, 13.432250022888184, 14.060587882995605, 10.887252807617188, 9.868897438049316, 10.841693878173828, 10.789163589477539, 11.66014575958252, 10.635515213012695, 10.269477844238281, 12.098954200744629, 11.198078155517578, 11.790566444396973, 11.026623725891113, 10.177449226379395, 9.517134666442871, 11.605055809020996, 12.115389823913574, 10.999777793884277, 9.639887809753418, 11.448423385620117, 10.848724365234375, 10.674259185791016, 11.840774536132812, 11.650996208190918, 10.73117446899414, 11.013555526733398, 9.924832344055176, 10.253647804260254, 12.121591567993164, 10.524672508239746, 12.019118309020996, 10.58965015411377, 10.465469360351562, 11.142595291137695, 12.083747863769531, 13.015231132507324, 10.268954277038574, 10.053171157836914, 13.450511932373047, 11.598156929016113, 11.939221382141113, 11.457456588745117, 13.52810287475586, 11.958015441894531, 10.656600952148438, 10.518603324890137, 11.35755443572998, 12.442885398864746, 10.620296478271484, 12.193697929382324, 11.212127685546875, 12.852746963500977, 10.985330581665039, 11.055480003356934, 11.573892593383789, 11.382061004638672, 13.508090019226074, 11.275667190551758, 10.682382583618164, 12.155704498291016, 12.141284942626953, 11.97974967956543, 11.138486862182617, 11.278319358825684, 11.241214752197266, 14.334373474121094, 11.117789268493652, 13.724831581115723, 12.361571311950684, 11.489781379699707, 12.30410099029541, 10.615925788879395, 13.391605377197266, 11.499368667602539, 14.064738273620605, 12.14006519317627, 11.969836235046387, 11.631195068359375, 14.055545806884766, 11.30373764038086, 13.194992065429688, 12.497066497802734, 12.02730655670166, 12.452377319335938, 12.899007797241211, 14.062647819519043, 15.544228553771973, 14.249290466308594, 14.035178184509277, 12.433168411254883, 13.917743682861328, 12.11677074432373, 13.488018989562988, 14.174759864807129, 11.911417961120605, 12.443012237548828, 11.559391021728516, 12.499259948730469, 12.394762992858887, 13.220120429992676, 13.326910018920898, 14.974726676940918, 12.173654556274414, 14.695069313049316, 12.896076202392578, 15.404088020324707, 13.604156494140625, 12.914898872375488, 11.813159942626953, 12.553817749023438, 12.067612648010254, 12.953582763671875, 14.36466121673584, 16.688352584838867, 12.6468505859375, 14.423760414123535, 14.082572937011719, 16.363880157470703, 11.946650505065918, 14.001762390136719, 11.576753616333008, 12.44672679901123, 13.51247787475586, 13.676613807678223, 13.800180435180664, 12.089876174926758, 15.246238708496094, 13.733100891113281, 16.70891761779785, 12.879337310791016, 13.195602416992188, 13.695125579833984, 16.69700050354004, 14.015528678894043, 14.470057487487793, 12.75241470336914, 13.802765846252441, 12.664609909057617, 14.49312686920166, 13.010497093200684, 15.86280632019043, 13.69751262664795, 12.069780349731445, 12.984722137451172, 13.07825756072998, 13.045212745666504, 16.478496551513672, 12.91297435760498, 13.126239776611328, 14.908790588378906, 12.940176010131836, 15.03956413269043, 12.886287689208984, 15.291091918945312, 13.926865577697754, 13.616110801696777, 13.422547340393066, 13.005245208740234, 14.678922653198242, 13.88510799407959, 14.292244911193848, 14.307717323303223, 13.570696830749512, 16.338743209838867, 13.494888305664062, 13.08942699432373, 13.027761459350586, 15.735601425170898, 12.853324890136719, 15.478996276855469, 12.936649322509766, 16.5557918548584, 13.545875549316406, 14.35081672668457, 19.830564498901367, 14.242355346679688, 13.359343528747559, 13.883405685424805, 12.989013671875, 13.749852180480957, 14.32844066619873, 20.31873893737793, 13.282255172729492, 13.853541374206543, 14.432965278625488, 13.992290496826172, 15.128436088562012, 13.40795612335205, 15.304422378540039, 13.173949241638184, 15.621441841125488, 13.638854026794434, 13.491354942321777, 14.742020606994629, 14.393133163452148, 14.767687797546387, 13.353219985961914, 13.06826114654541, 13.660959243774414, 15.23509407043457, 13.74914836883545, 12.922540664672852, 13.285980224609375, 14.355630874633789, 14.24230670928955, 13.908540725708008, 14.908509254455566, 13.883445739746094, 16.474092483520508, 13.55970573425293, 15.88420581817627, 14.359066009521484, 14.329859733581543, 13.216764450073242, 16.06155014038086, 13.466682434082031, 14.915761947631836, 14.249014854431152, 13.128457069396973, 13.816882133483887, 14.924257278442383, 14.518377304077148, 14.375782012939453, 14.009697914123535, 15.829268455505371, 12.3717622756958, 18.908594131469727, 13.94887638092041, 14.978534698486328, 13.995460510253906, 13.828709602355957, 14.57945442199707, 13.13642406463623, 14.532748222351074, 14.69826889038086, 15.522052764892578, 13.825394630432129, 15.424229621887207, 13.311951637268066, 14.601391792297363, 13.238531112670898, 12.724030494689941, 14.4259614944458, 13.962615013122559, 15.055463790893555, 13.419137954711914, 15.573234558105469, 13.153582572937012, 13.76291275024414, 13.724255561828613, 13.328865051269531, 15.554279327392578, 13.635210037231445, 16.767229080200195, 14.178352355957031, 15.911747932434082, 13.234037399291992, 14.235718727111816, 13.599900245666504, 16.095596313476562, 13.32187557220459, 16.81122398376465, 13.517133712768555, 16.218957901000977, 13.627047538757324, 15.460028648376465, 13.861538887023926, 15.040759086608887, 13.242026329040527, 15.824447631835938, 14.00385570526123, 16.37015724182129, 13.09070873260498, 15.209670066833496, 13.033681869506836, 14.797734260559082, 14.874903678894043, 13.615667343139648, 14.42670726776123, 13.726482391357422, 16.268959045410156, 14.003963470458984, 14.7310152053833, 13.18027114868164, 12.948213577270508, 15.256274223327637, 14.748513221740723, 14.916159629821777, 13.79053020477295, 15.757604598999023, 13.615009307861328, 14.60836124420166, 14.135053634643555, 15.316527366638184, 14.349440574645996, 15.490840911865234, 13.391092300415039, 14.848135948181152, 13.798126220703125, 13.863476753234863, 14.038620948791504, 14.849886894226074, 14.141053199768066, 15.34096908569336, 13.810468673706055, 16.575786590576172, 13.206512451171875, 16.076919555664062, 12.96481990814209, 15.056715965270996, 14.564886093139648, 14.307245254516602, 16.258821487426758, 14.422810554504395, 14.463423728942871, 13.424821853637695, 14.502522468566895, 14.886016845703125, 14.058432579040527, 14.211250305175781, 14.252230644226074, 13.740374565124512, 15.91219425201416, 14.63061809539795, 13.911117553710938, 13.49881649017334, 13.444257736206055, 14.818256378173828, 14.544264793395996, 13.971457481384277, 14.834848403930664, 14.104541778564453, 14.298519134521484, 13.915688514709473, 15.802897453308105, 12.762320518493652, 14.976602554321289, 13.937273979187012, 13.537442207336426, 13.2288236618042, 16.697725296020508, 14.200186729431152, 15.348258018493652, 13.960827827453613, 15.112395286560059, 14.974246978759766, 14.562671661376953, 14.015817642211914, 14.41440486907959, 13.790670394897461, 15.308136940002441, 13.700164794921875, 12.68517017364502, 15.554457664489746, 14.879819869995117, 14.92250919342041, 12.984705924987793, 16.315065383911133, 13.086477279663086, 15.767325401306152, 14.127641677856445, 14.289151191711426, 13.287678718566895, 14.054759979248047, 15.038052558898926, 13.143302917480469, 14.663546562194824, 13.615608215332031, 14.652885437011719, 13.515225410461426, 14.941965103149414, 13.3621244430542, 14.052021026611328, 13.613306999206543, 15.959329605102539, 12.487128257751465, 14.747395515441895, 12.788036346435547, 13.521940231323242, 13.208065032958984, 14.940977096557617, 13.429116249084473, 15.56555461883545, 14.807746887207031, 14.612367630004883, 13.808096885681152, 14.20168399810791, 14.748918533325195, 14.207342147827148, 15.07017993927002, 15.701236724853516, 14.463071823120117, 14.270380973815918, 14.80764102935791, 14.182817459106445, 14.817190170288086, 13.308292388916016, 15.932971000671387, 13.808440208435059, 15.405783653259277, 13.19853687286377, 17.490968704223633, 13.536466598510742, 16.631662368774414, 13.925165176391602, 15.269211769104004, 15.606770515441895, 14.599831581115723, 17.572954177856445, 14.018966674804688, 13.658917427062988, 15.02159595489502, 13.596301078796387, 15.95096492767334, 14.832304000854492, 14.018793106079102, 14.290541648864746, 12.756378173828125, 15.03420352935791, 13.517341613769531, 16.138662338256836, 13.30679988861084, 13.286115646362305, 12.50852108001709, 13.8390531539917, 15.226531982421875, 15.166938781738281, 13.640658378601074, 16.301973342895508, 13.644017219543457, 14.353509902954102, 14.148880958557129, 14.244330406188965, 15.030810356140137, 13.420549392700195, 15.501834869384766, 13.801702499389648, 13.248981475830078, 15.009690284729004, 14.355209350585938, 12.139163970947266, 14.280367851257324, 14.325222969055176, 13.342032432556152, 13.901433944702148, 13.876338005065918, 15.426237106323242], 'val_mean_absolute_error': [4.689094066619873, 3.526785373687744, 3.241090774536133, 3.2233269214630127, 2.904109001159668, 2.6273701190948486, 2.622499465942383, 2.746903896331787, 2.754227638244629, 2.6597745418548584, 2.6750736236572266, 2.5178496837615967, 2.747666358947754, 2.7556188106536865, 2.618314743041992, 2.471198320388794, 2.5221471786499023, 2.6207756996154785, 2.6037440299987793, 2.638770580291748, 2.4781439304351807, 2.416882038116455, 3.1918530464172363, 2.43442440032959, 2.5407371520996094, 2.58785080909729, 2.5061867237091064, 2.419823169708252, 2.6229915618896484, 2.709247350692749, 2.3777236938476562, 2.449636697769165, 2.5320615768432617, 2.432497978210449, 2.2863900661468506, 2.312479257583618, 2.9056434631347656, 2.3385963439941406, 2.6909213066101074, 2.436753273010254, 2.482954740524292, 2.368521213531494, 2.535088300704956, 2.4130148887634277, 2.586498975753784, 2.46771240234375, 2.1903321743011475, 2.5265796184539795, 2.265289545059204, 2.273261308670044, 2.5795018672943115, 2.352118968963623, 2.2970564365386963, 2.732811450958252, 2.7869274616241455, 2.326603412628174, 2.1809847354888916, 2.347794532775879, 2.2913923263549805, 2.3904104232788086, 2.34985089302063, 2.2553610801696777, 2.5116372108459473, 2.3515424728393555, 2.4549319744110107, 2.2446765899658203, 2.259204387664795, 2.130160093307495, 2.4830739498138428, 2.6190085411071777, 2.3390707969665527, 2.1858246326446533, 2.397275686264038, 2.4055674076080322, 2.336867570877075, 2.4134159088134766, 2.4343223571777344, 2.2757961750030518, 2.35215163230896, 2.139625072479248, 2.2466886043548584, 2.575164794921875, 2.203981876373291, 2.3578715324401855, 2.3530433177948, 2.225022315979004, 2.3665428161621094, 2.498924970626831, 2.593327522277832, 2.1732988357543945, 2.1691339015960693, 2.6079630851745605, 2.554290771484375, 2.3869123458862305, 2.3455991744995117, 2.5709164142608643, 2.4188027381896973, 2.2059361934661865, 2.22538161277771, 2.3424313068389893, 2.447861433029175, 2.1831486225128174, 2.443572998046875, 2.365668535232544, 2.362987756729126, 2.2131383419036865, 2.290842294692993, 2.3122386932373047, 2.3161792755126953, 2.59783673286438, 2.2175498008728027, 2.194885015487671, 2.274221897125244, 2.444620370864868, 2.4526731967926025, 2.3319332599639893, 2.298799991607666, 2.312405586242676, 2.7322115898132324, 2.2815325260162354, 2.6010587215423584, 2.455627918243408, 2.2715628147125244, 2.3358280658721924, 2.150737762451172, 2.4690239429473877, 2.3282270431518555, 2.4989898204803467, 2.426485061645508, 2.391509532928467, 2.2995834350585938, 2.4538848400115967, 2.2963852882385254, 2.539472818374634, 2.329369068145752, 2.275627613067627, 2.345822334289551, 2.468613862991333, 2.664389133453369, 2.566603660583496, 2.673564910888672, 2.5536489486694336, 2.3518154621124268, 2.458505392074585, 2.2979774475097656, 2.410282611846924, 2.4896535873413086, 2.30757737159729, 2.3035919666290283, 2.255707025527954, 2.2972464561462402, 2.3919126987457275, 2.3660385608673096, 2.4196016788482666, 2.7126009464263916, 2.3107855319976807, 2.501760721206665, 2.508361577987671, 2.5518152713775635, 2.654813766479492, 2.3501060009002686, 2.28169322013855, 2.358670234680176, 2.3296961784362793, 2.439417839050293, 2.5426902770996094, 2.851418972015381, 2.4023022651672363, 2.5292606353759766, 2.600809335708618, 2.645557165145874, 2.384809732437134, 2.426239013671875, 2.3132565021514893, 2.3153645992279053, 2.5717244148254395, 2.4734439849853516, 2.5693984031677246, 2.307528257369995, 2.700685739517212, 2.6609737873077393, 2.723007917404175, 2.420072317123413, 2.372347593307495, 2.4642186164855957, 2.7163658142089844, 2.6060545444488525, 2.414807081222534, 2.4518187046051025, 2.420746326446533, 2.391056776046753, 2.4855241775512695, 2.435842752456665, 2.521688222885132, 2.456498146057129, 2.2760493755340576, 2.479390859603882, 2.3719482421875, 2.3782544136047363, 2.8444011211395264, 2.3476572036743164, 2.4528088569641113, 2.561781883239746, 2.429931879043579, 2.4883968830108643, 2.3765804767608643, 2.6024575233459473, 2.41902232170105, 2.4144012928009033, 2.428060293197632, 2.3585755825042725, 2.5554022789001465, 2.4583210945129395, 2.49075984954834, 2.5385818481445312, 2.5237481594085693, 2.5990235805511475, 2.4925670623779297, 2.4226603507995605, 2.3898448944091797, 2.5659146308898926, 2.4475200176239014, 2.5371522903442383, 2.479637622833252, 2.658925771713257, 2.528735876083374, 2.5244088172912598, 3.3474395275115967, 2.568366289138794, 2.471500873565674, 2.3831818103790283, 2.397695302963257, 2.4076969623565674, 2.699108362197876, 3.0415005683898926, 2.3958210945129395, 2.376274585723877, 2.4615166187286377, 2.4640309810638428, 2.5699689388275146, 2.437133312225342, 2.503223180770874, 2.422189474105835, 2.5710248947143555, 2.490920305252075, 2.4956068992614746, 2.5029425621032715, 2.526916027069092, 2.552283763885498, 2.4034388065338135, 2.452681064605713, 2.5217926502227783, 2.5312039852142334, 2.6736764907836914, 2.3175652027130127, 2.4195556640625, 2.634406566619873, 2.490262508392334, 2.4485254287719727, 2.5355701446533203, 2.6364312171936035, 2.73405385017395, 2.455379009246826, 2.738974094390869, 2.603992462158203, 2.4549477100372314, 2.4995205402374268, 2.648082971572876, 2.5162413120269775, 2.548860788345337, 2.545006513595581, 2.4258780479431152, 2.537677764892578, 2.4985077381134033, 2.525097370147705, 2.5279877185821533, 2.5160329341888428, 2.7500557899475098, 2.4415462017059326, 2.955336093902588, 2.5352983474731445, 2.60244083404541, 2.506662130355835, 2.4289932250976562, 2.5035011768341064, 2.4751477241516113, 2.4530422687530518, 2.5612261295318604, 2.669217348098755, 2.5150880813598633, 2.6029112339019775, 2.4391109943389893, 2.51399302482605, 2.5022926330566406, 2.3684089183807373, 2.570004940032959, 2.5788779258728027, 2.515155553817749, 2.452983856201172, 2.6362907886505127, 2.4319896697998047, 2.4583005905151367, 2.431560516357422, 2.544862747192383, 2.580703020095825, 2.4607362747192383, 2.7261738777160645, 2.6407413482666016, 2.6898252964019775, 2.395200252532959, 2.511403799057007, 2.408505916595459, 2.6903650760650635, 2.5443274974823, 2.7497851848602295, 2.4951367378234863, 2.64565110206604, 2.474616289138794, 2.5949959754943848, 2.4767417907714844, 2.5904831886291504, 2.350095272064209, 2.558886766433716, 2.508849859237671, 2.7252073287963867, 2.4659900665283203, 2.5979795455932617, 2.403412103652954, 2.5704822540283203, 2.5701613426208496, 2.42107892036438, 2.4319591522216797, 2.7148191928863525, 2.7598137855529785, 2.5144519805908203, 2.54949688911438, 2.3738996982574463, 2.4569060802459717, 2.57916522026062, 2.597200870513916, 2.620274066925049, 2.5042431354522705, 2.7019972801208496, 2.499488115310669, 2.468679904937744, 2.4488325119018555, 2.5979278087615967, 2.5897984504699707, 2.5366899967193604, 2.426591157913208, 2.5072379112243652, 2.490293502807617, 2.481743812561035, 2.4950950145721436, 2.5956854820251465, 2.52397084236145, 2.5489163398742676, 2.408982038497925, 2.630781650543213, 2.443568706512451, 2.5521671772003174, 2.4303505420684814, 2.492706537246704, 2.490260124206543, 2.502093553543091, 2.7403454780578613, 2.476268768310547, 2.4613466262817383, 2.4625484943389893, 2.531161069869995, 2.5646848678588867, 2.500858783721924, 2.5827629566192627, 2.436718463897705, 2.5220320224761963, 2.613966941833496, 2.6486294269561768, 2.4813449382781982, 2.3926198482513428, 2.421536684036255, 2.561368942260742, 2.608328104019165, 2.417663335800171, 2.5330910682678223, 2.453838586807251, 2.5297746658325195, 2.4419758319854736, 2.5507733821868896, 2.3909034729003906, 2.495704174041748, 2.5123016834259033, 2.419921398162842, 2.3928260803222656, 2.6397881507873535, 2.547825574874878, 2.6197104454040527, 2.4383063316345215, 2.5610575675964355, 2.6691246032714844, 2.47115159034729, 2.4892072677612305, 2.4806158542633057, 2.4523122310638428, 2.54020619392395, 2.5285372734069824, 2.459488868713379, 2.577993631362915, 2.5871453285217285, 2.5622522830963135, 2.4219419956207275, 2.6749813556671143, 2.485008716583252, 2.6625218391418457, 2.472048282623291, 2.5121138095855713, 2.4955711364746094, 2.5069632530212402, 2.506983757019043, 2.4483742713928223, 2.555482864379883, 2.517091751098633, 2.58004093170166, 2.4723715782165527, 2.561586856842041, 2.483733654022217, 2.474776268005371, 2.483241558074951, 2.5366692543029785, 2.501394033432007, 2.5481603145599365, 2.380258798599243, 2.48159122467041, 2.460153102874756, 2.5826549530029297, 2.456779718399048, 2.526899814605713, 2.6899197101593018, 2.5411977767944336, 2.4794185161590576, 2.513519287109375, 2.5916850566864014, 2.508908748626709, 2.5893518924713135, 2.7152609825134277, 2.5601000785827637, 2.5345165729522705, 2.532118082046509, 2.5416388511657715, 2.505570411682129, 2.5355494022369385, 2.5668580532073975, 2.6146962642669678, 2.6988840103149414, 2.4701619148254395, 2.713909387588501, 2.418638229370117, 2.6368064880371094, 2.5398378372192383, 2.612058162689209, 2.6388862133026123, 2.563027858734131, 2.680062770843506, 2.4684059619903564, 2.417144536972046, 2.5576555728912354, 2.482156991958618, 2.578937530517578, 2.61798095703125, 2.5523524284362793, 2.4300384521484375, 2.4754786491394043, 2.5178027153015137, 2.474033832550049, 2.731395721435547, 2.49654221534729, 2.3929641246795654, 2.3427340984344482, 2.422588348388672, 2.7825701236724854, 2.5596415996551514, 2.539757251739502, 2.7936465740203857, 2.4967293739318848, 2.507732629776001, 2.5541787147521973, 2.480976104736328, 2.4986627101898193, 2.4118332862854004, 2.591489553451538, 2.5449538230895996, 2.4320175647735596, 2.625438690185547, 2.514531135559082, 2.4897921085357666, 2.5431087017059326, 2.6055195331573486, 2.392566442489624, 2.4631171226501465, 2.5012052059173584, 2.607311964035034]}\n"
     ]
    }
   ],
   "source": [
    "# epoch 500으로\n",
    "import numpy as np\n",
    "\n",
    "k=4\n",
    "num_val_samples = len(train_data) // k\n",
    "num_epochs = 500\n",
    "all_mae_histories = []\n",
    "for i in range(k):\n",
    "    print('처리중인 폴드 #', i)\n",
    "    val_data = train_data[i * num_val_samples: (i+1) * num_val_samples]\n",
    "    val_targets = train_targets[i * num_val_samples: (i+1) * num_val_samples]\n",
    "    \n",
    "    partial_train_data = np.concatenate(\n",
    "    [train_data[:i * num_val_samples],\n",
    "    train_data[(i+1)*num_val_samples:]],\n",
    "    axis=0)\n",
    "    partial_train_targets = np.concatenate(\n",
    "    [train_targets[:i * num_val_samples],\n",
    "    train_targets[(i+1)*num_val_samples:]],\n",
    "    axis=0)\n",
    "    \n",
    "    model = build_model()\n",
    "    history = model.fit(partial_train_data, partial_train_targets, validation_data=(val_data, val_targets),epochs=num_epochs, batch_size=1, verbose=0) # verbose=0 이므로 훈련 과정이 출력되지 않습니다.\n",
    "    val_mse, val_mae = model.evaluate(val_data, val_targets, verbose=0)\n",
    "    print(history.history)\n",
    "    mae_history = history.history['val_mean_absolute_error']\n",
    "    all_mae_histories.append(mae_history)\n",
    "    "
   ]
  },
  {
   "cell_type": "code",
   "execution_count": null,
   "metadata": {},
   "outputs": [],
   "source": [
    "average_mae_history = [np.mean([x[i] for x in all_mae_histories]) for i in range(num_epochs)]"
   ]
  },
  {
   "cell_type": "code",
   "execution_count": null,
   "metadata": {},
   "outputs": [],
   "source": [
    "import matplotlib.pyplot as plt\n",
    "\n",
    "plt.plot(range(1, len(average_mae_history) + 1), average_mae_history)\n",
    "plt.xlabel('Epochs')\n",
    "plt.ylabel('Validation MAE')\n",
    "plt.show()"
   ]
  },
  {
   "cell_type": "code",
   "execution_count": null,
   "metadata": {},
   "outputs": [],
   "source": [
    "# 부드러운 곡선을 얻기 위해 각 포인트를 이전 포인트의 지수 이동 평균(exponential moving average)으로 대체\n",
    "def smooth_curve(points, factor=0.9):\n",
    "    smoothed_points = []\n",
    "    for point in points:\n",
    "        if smoothed_points:\n",
    "            previous = smoothed_points[-1]\n",
    "        else:\n",
    "            smoothed_points.append(point)\n",
    "    return smoothed_points\n",
    "\n",
    "smooth_mae_history = smooth_curve(average_mae_history[10:])\n",
    "\n",
    "plt.plot(range(1, len(smooth_mae_history) + 1), smooth_mae_history)\n",
    "plt.xlabel('Epochs')\n",
    "plt.ylabel('Validation MAE')\n",
    "plt.show()"
   ]
  },
  {
   "cell_type": "code",
   "execution_count": null,
   "metadata": {},
   "outputs": [],
   "source": [
    "# 그래프를 보게되면 검증 MAE가 80번째 에포크 이후에 줄어드는 것을 멈추었다. 이 지점 이후로는 과대적합이 시작된다.\n",
    "model = build_model()\n",
    "model.fit(train_data, train_targets, epochs=80, batch_size=16, verbose=0)\n",
    "test_mse_score, test_mae_score = model.evaluate(test_data, test_targets)"
   ]
  },
  {
   "cell_type": "code",
   "execution_count": null,
   "metadata": {},
   "outputs": [],
   "source": [
    "test_mae_score"
   ]
  },
  {
   "cell_type": "markdown",
   "metadata": {},
   "source": [
    "# 4.2 머신 러닝 모델 평가"
   ]
  },
  {
   "cell_type": "markdown",
   "metadata": {},
   "source": [
    "## 4.2.1 훈련, 검증, 테스트 세트"
   ]
  },
  {
   "cell_type": "code",
   "execution_count": 177,
   "metadata": {},
   "outputs": [
    {
     "ename": "NameError",
     "evalue": "name 'data' is not defined",
     "output_type": "error",
     "traceback": [
      "\u001b[0;31m---------------------------------------------------------------------------\u001b[0m",
      "\u001b[0;31mNameError\u001b[0m                                 Traceback (most recent call last)",
      "\u001b[0;32m<ipython-input-177-827fd0dbe212>\u001b[0m in \u001b[0;36m<module>\u001b[0;34m\u001b[0m\n\u001b[1;32m      2\u001b[0m \u001b[0mnum_validation_samples\u001b[0m \u001b[0;34m=\u001b[0m \u001b[0;36m10000\u001b[0m\u001b[0;34m\u001b[0m\u001b[0;34m\u001b[0m\u001b[0m\n\u001b[1;32m      3\u001b[0m \u001b[0;34m\u001b[0m\u001b[0m\n\u001b[0;32m----> 4\u001b[0;31m \u001b[0mnp\u001b[0m\u001b[0;34m.\u001b[0m\u001b[0mrandom\u001b[0m\u001b[0;34m.\u001b[0m\u001b[0mshuffle\u001b[0m\u001b[0;34m(\u001b[0m\u001b[0mdata\u001b[0m\u001b[0;34m)\u001b[0m \u001b[0;31m# 데이터를 섞는 것(셔플링)이 일반적으로 좋습니다.\u001b[0m\u001b[0;34m\u001b[0m\u001b[0;34m\u001b[0m\u001b[0m\n\u001b[0m\u001b[1;32m      5\u001b[0m \u001b[0;34m\u001b[0m\u001b[0m\n\u001b[1;32m      6\u001b[0m \u001b[0mvalidation_data\u001b[0m \u001b[0;34m=\u001b[0m \u001b[0mdata\u001b[0m\u001b[0;34m[\u001b[0m\u001b[0;34m:\u001b[0m\u001b[0mnum_validation_samples\u001b[0m\u001b[0;34m]\u001b[0m \u001b[0;31m# 검증 세트를 만듭니다.\u001b[0m\u001b[0;34m\u001b[0m\u001b[0;34m\u001b[0m\u001b[0m\n",
      "\u001b[0;31mNameError\u001b[0m: name 'data' is not defined"
     ]
    }
   ],
   "source": [
    "# 단순 홀드아웃 검증\n",
    "num_validation_samples = 10000\n",
    "\n",
    "np.random.shuffle(data) # 데이터를 섞는 것(셔플링)이 일반적으로 좋습니다.\n",
    "\n",
    "validation_data = data[:num_validation_samples] # 검증 세트를 만듭니다.\n",
    "data = data[num_validation_samples:]\n",
    "\n",
    "training_data = data[:] # 훈련 세트를 만듭니다.\n",
    "\n",
    "model = get_model()\n",
    "model.train(training_data)\n",
    "validation_score = model.evaluate(validation_data) # 훈련 세트에서 모델을 훈련하고 검증 세트로 평가합니다.\n",
    "\n",
    "# 여기에서 모델을 튜닝하고,\n",
    "# 다시 훈련하고, 평가하고, 또 다시 튜닝하고...\n",
    "\n",
    "model = get_model()\n",
    "model.train(np.concatenate([training_data, validation_data]))\n",
    "# 하이퍼파라미터 튜닝이 끝나면 테스트 데이터를 제외한\n",
    "# 모든 데이터를 사용하여 모델을 다시 훈련시킵니다.\n",
    "test_score = model.evaluate(test_data)"
   ]
  },
  {
   "cell_type": "code",
   "execution_count": 178,
   "metadata": {},
   "outputs": [
    {
     "ename": "NameError",
     "evalue": "name 'data' is not defined",
     "output_type": "error",
     "traceback": [
      "\u001b[0;31m---------------------------------------------------------------------------\u001b[0m",
      "\u001b[0;31mNameError\u001b[0m                                 Traceback (most recent call last)",
      "\u001b[0;32m<ipython-input-178-46d291d2e88f>\u001b[0m in \u001b[0;36m<module>\u001b[0;34m\u001b[0m\n\u001b[1;32m      1\u001b[0m \u001b[0;31m# K-겹 교차 검증 구현\u001b[0m\u001b[0;34m\u001b[0m\u001b[0;34m\u001b[0m\u001b[0;34m\u001b[0m\u001b[0m\n\u001b[1;32m      2\u001b[0m \u001b[0mk\u001b[0m \u001b[0;34m=\u001b[0m \u001b[0;36m4\u001b[0m\u001b[0;34m\u001b[0m\u001b[0;34m\u001b[0m\u001b[0m\n\u001b[0;32m----> 3\u001b[0;31m \u001b[0mnum_validation_samples\u001b[0m \u001b[0;34m=\u001b[0m \u001b[0mlen\u001b[0m\u001b[0;34m(\u001b[0m\u001b[0mdata\u001b[0m\u001b[0;34m)\u001b[0m \u001b[0;34m//\u001b[0m \u001b[0mk\u001b[0m\u001b[0;34m\u001b[0m\u001b[0;34m\u001b[0m\u001b[0m\n\u001b[0m\u001b[1;32m      4\u001b[0m \u001b[0;34m\u001b[0m\u001b[0m\n\u001b[1;32m      5\u001b[0m \u001b[0mnp\u001b[0m\u001b[0;34m.\u001b[0m\u001b[0mrandom\u001b[0m\u001b[0;34m.\u001b[0m\u001b[0mshuffle\u001b[0m\u001b[0;34m(\u001b[0m\u001b[0mdata\u001b[0m\u001b[0;34m)\u001b[0m\u001b[0;34m\u001b[0m\u001b[0;34m\u001b[0m\u001b[0m\n",
      "\u001b[0;31mNameError\u001b[0m: name 'data' is not defined"
     ]
    }
   ],
   "source": [
    "# K-겹 교차 검증 구현\n",
    "k = 4\n",
    "num_validation_samples = len(data) // k\n",
    "\n",
    "np.random.shuffle(data)\n",
    "\n",
    "validtaion_scores = []\n",
    "for fold in range(k):\n",
    "    validation_data = data[num_validation_samples * fold:num_validation_samples*(fold+1)]\n",
    "    training_data = data[:num_validation_samples] * data[fold:num_validation_samples*(fold+1):]\n",
    "    \n",
    "    model = get_model() # 훈련되지 않은 새로운 모델을 만듭니다.\n",
    "    model.train(training_data)\n",
    "    validation_score = model.evaluate(validation_data)\n",
    "    validation_score.append(validation_score)\n",
    "    \n",
    "    validation_score = np.average(validation_scores) # 검증 점수 : K개 폴드의 검증 점수 평균\n",
    "    \n",
    "    model = get_model()\n",
    "    model.train(data)\n",
    "    test_score = model.evaluate(test_data) # 테스트 데이터를 제외한 전체 데이터로 최종 모델을 훈련합니다."
   ]
  },
  {
   "cell_type": "code",
   "execution_count": 179,
   "metadata": {},
   "outputs": [],
   "source": [
    "## 셔플링을 사용한 반복 K-겹 교차 검증 : 이 방법은 비교적 가용 데이터가 적고 가능한 정확하게 모델을 평가하고자 할 때 사용합니다."
   ]
  },
  {
   "cell_type": "code",
   "execution_count": 180,
   "metadata": {},
   "outputs": [],
   "source": [
    "# 누락된 값 다루기\n",
    "# 일반적으로 신경망에서 0이 사전에 정의된 의미 있는 값이 아니라면 누락된 값을 0으로 입력해도 괜찮습니다."
   ]
  },
  {
   "cell_type": "markdown",
   "metadata": {},
   "source": [
    "## 4.3.2 특성 공학"
   ]
  },
  {
   "cell_type": "markdown",
   "metadata": {},
   "source": [
    ": 다행히 최근 딥러닝은 대부분 특성 공학이 필요하지 않습니다. 신경망이 자동으로 원본 데이터에서 유용한 특성을 추출할 수 있기 때문입니다. 그렇다면 심층 신경망을 사용할 때는 특성 공학에 대해 신경 쓰지 않아도 될까요? 두 가지 이유로 그렇지 않습니다."
   ]
  },
  {
   "cell_type": "markdown",
   "metadata": {},
   "source": [
    "1. 좋은 특성은 적은 자원을 사용하여 문제를 더 멋지게 풀어낼 수 있습니다. 예를 들어 시계 바늘을 읽는 문제에 합성곱 신경망을 사용하는 것은 어울리지 않습니다."
   ]
  },
  {
   "cell_type": "markdown",
   "metadata": {},
   "source": [
    "2. 좋은 특성은 더 적은 데이터로 문제를 풀 수 있습니다. 딥러닝 모델이 스스로 특성을 학습하는 능력은 가용한 훈련 데이터가 많을 때 발휘됩니다. 샘플의 개수가 적다면 특성에 있는 정보가 매우 중요해집니다."
   ]
  },
  {
   "cell_type": "markdown",
   "metadata": {},
   "source": [
    "# 4.4 과대적합과 과소적합"
   ]
  },
  {
   "cell_type": "markdown",
   "metadata": {},
   "source": [
    ": 모델이 관련성이 없고 좋지 못한 패턴을 훈련 데이터에서 학습하지 못하도록 하려면 가장 좋은 방법은 더 많은 훈련 데이터를 모으는 것입니다."
   ]
  },
  {
   "cell_type": "markdown",
   "metadata": {},
   "source": [
    ": 네트워크가 적은 수의 패턴만 기억할 수 있다면 최적화 과정에서 가장 중요한 패턴에 집중하게 될 것입니다. 이런 패턴은 더 나은 일반화 성능을 제공할 수 있습니다. 이런 식으로 과대적합을 피하는 처리 과정을 규제(regularization)라고 합니다."
   ]
  },
  {
   "cell_type": "markdown",
   "metadata": {},
   "source": [
    "## 4.4.1 네트워크 크기 축소"
   ]
  },
  {
   "cell_type": "markdown",
   "metadata": {},
   "source": [
    ": 너무 많은 용량과 충분하지 않은 용량 사이의 절충점을 찾아야 합니다."
   ]
  },
  {
   "cell_type": "code",
   "execution_count": 185,
   "metadata": {},
   "outputs": [],
   "source": [
    "# 기본 네트워크\n",
    "from keras import models\n",
    "from keras import layers\n",
    "\n",
    "model = models.Sequential()\n",
    "model.add(layers.Dense(16, activation='relu', input_shape=(10000,)))\n",
    "model.add(layers.Dense(16, activation='relu'))\n",
    "model.add(layers.Dense(1, activation='sigmoid'))"
   ]
  },
  {
   "cell_type": "code",
   "execution_count": 186,
   "metadata": {},
   "outputs": [],
   "source": [
    "# 작은 네트워크\n",
    "model = models.Sequential()\n",
    "model.add(layers.Dense(6, activation='relu', input_shape=(10000,)))\n",
    "model.add(layers.Dense(6, activation='relu'))\n",
    "model.add(layers.Dense(1, activation='sigmoid'))"
   ]
  },
  {
   "cell_type": "code",
   "execution_count": 188,
   "metadata": {},
   "outputs": [],
   "source": [
    "# 큰 네트워크\n",
    "model = models.Sequential()\n",
    "model.add(layers.Dense(1024, activation='relu', input_shape=(10000,)))\n",
    "model.add(layers.Dense(1024, activation='relu'))\n",
    "model.add(layers.Dense(1, activation='sigmoid'))"
   ]
  },
  {
   "cell_type": "markdown",
   "metadata": {},
   "source": [
    "## 4.4.2 가중치 규제 추가"
   ]
  },
  {
   "cell_type": "markdown",
   "metadata": {},
   "source": [
    ": 오캄의 면도날(Occam's razor) 이론, 어떤 것에 대한 두 가지의 설명이 있다면 더 적은 가정이 필요한 간단한 설명이 옳을 것이라는 이론"
   ]
  },
  {
   "cell_type": "markdown",
   "metadata": {},
   "source": [
    "1. L1 규제 : 가중치의 절댓값에 비례하는 비용이 추가됩니다(가중치의 L1 노름(norm))\n",
    "2. L2 규제 : 가중치의 제곱에 비례하는 비용이 추가됩니다(가중치의 L2 노름(norm)). L2 규제는 신경망에서 `가중치 감쇠(weight decay)`라고도 부릅니다."
   ]
  },
  {
   "cell_type": "code",
   "execution_count": 189,
   "metadata": {},
   "outputs": [],
   "source": [
    "from keras import regularizers\n",
    "\n",
    "model = models.Sequential()\n",
    "model.add(layers.Dense(16, kernel_regularizer=regularizers.l2(0.001), activation='relu', input_shape=(10000,)))\n",
    "model.add(layers.Dense(16, kernel_regularizer=regularizers.l2(0.001), activation='relu'))\n",
    "model.add(layers.Dense(1, activation='sigmoid'))"
   ]
  },
  {
   "cell_type": "code",
   "execution_count": 190,
   "metadata": {},
   "outputs": [
    {
     "data": {
      "text/plain": [
       "<keras.regularizers.L1L2 at 0x7f9d9d95d100>"
      ]
     },
     "execution_count": 190,
     "metadata": {},
     "output_type": "execute_result"
    }
   ],
   "source": [
    "from keras import regularizers\n",
    "\n",
    "regularizers.l1(0.001) # L1 규제\n",
    "regularizers.l1_l2(l1=0.001, l2=0.001) # L1과 L2 규제 병행"
   ]
  },
  {
   "cell_type": "markdown",
   "metadata": {},
   "source": [
    "## 4.4.3 드롭아웃 추가"
   ]
  },
  {
   "cell_type": "markdown",
   "metadata": {},
   "source": [
    ": 드롭아웃(dropout)은 토론토 대학의 제프리 힌튼과 그의 학생들이 개발했습니다."
   ]
  },
  {
   "cell_type": "code",
   "execution_count": 191,
   "metadata": {},
   "outputs": [],
   "source": [
    "model = models.Sequential()\n",
    "model.add(layers.Dense(16, activation='relu', input_shape=(10000,)))\n",
    "model.add(layers.Dropout(0.5))\n",
    "model.add(layers.Dense(16, activation='relu'))\n",
    "model.add(layers.Dropout(0.5))\n",
    "model.add(layers.Dense(1, activation='sigmoid'))"
   ]
  },
  {
   "cell_type": "markdown",
   "metadata": {},
   "source": [
    ": 2개의 가설이 있다는 것을 기억하세요.\n",
    "1. 주어진 입력으로 출력을 예측할 수 있다고 가설을 세웁니다.\n",
    "2. 가용한 데이터에 입력과 출력 사이의 관계를 학습하는 데 충분한 정보가 있다고 가설을 세웁니다."
   ]
  },
  {
   "cell_type": "markdown",
   "metadata": {},
   "source": [
    "일이 잘 진행된다고 가정하면 첫 번째 모델을 만들기 위해 세 가지 중요한 선택을 해야 합니다.\n",
    "1. 마지막 층의 활성화 함수 : 네트워크의 출력에 필요한 제한을 가합니다. 예를 들어 IMDB 분류 예는 마지막 층에 시그모이드 함수를 사용합니다. 회귀 예에서는 마지막 층에 활성화 함수를 사용하지 않습니다.\n",
    "2. 손실 함수 : 풀려고 하는 문제의 종류에 적합해야 합니다. 예를 들어 IMDB 예제는 binary_corssntropy를 사용하고, 회귀 예제는 mse를 사용하는 식입니다.\n",
    "3. 최적화 설정 : 어떤 옵티마이저를 사용하나요? 학습률은 얼마인가요? 대부분의 경우 rmsprop과 기본 학습률을 사용하는 것이 무난합니다."
   ]
  },
  {
   "cell_type": "markdown",
   "metadata": {},
   "source": [
    "### 모델의 맞는 마지막 층의 활성화 함수와 손실 함수 선택\n",
    "1. 이진분류 - 시그모이드 - binary_crossentropy\n",
    "2. 단일 레이블 다중 분류 - 소프트맥스 - categorical_crossentropy\n",
    "3. 다중 레이블 다중 분류 - 시그모이드 - binary_crossentropy\n",
    "4. 임의 값에 대한 회귀 - 없음 - mse\n",
    "5. 0과 1 사이 값에 대한 회귀 - 시그모이드 - mse 또는 binary_crossentropy"
   ]
  },
  {
   "cell_type": "markdown",
   "metadata": {},
   "source": [
    "1. 다중 클래스 분류(Multi-class classification) : 다중 클래스 분류 (Multi-class single-label classification)"
   ]
  },
  {
   "cell_type": "code",
   "execution_count": 192,
   "metadata": {},
   "outputs": [],
   "source": [
    "# 두 개 이상의 클래스를 가진 분류 작업\n",
    "# 오렌지, 사과 또는 배\n",
    "# 중복 선택 불가 -> [1,0,0] 가능, [1,1,0] 불가"
   ]
  },
  {
   "cell_type": "markdown",
   "metadata": {},
   "source": [
    "2. 다중 라벨 분류(Multi-label classification) : 다중 클래스 다중 라벨 분류 (Multi-class multi-label classification)"
   ]
  },
  {
   "cell_type": "code",
   "execution_count": 193,
   "metadata": {},
   "outputs": [],
   "source": [
    "# 상호 배타적이지 않은 속성을 예측\n",
    "# 중복 선택 가능한 분류 -> [1 1 0] 가능\n",
    "# 신문 기사 분류: 야구 선수 - 연예인 결혼 -> 스포츠/연애\n",
    "# 스 연 정\n",
    "#[1 1 0]\n",
    "#[1 0 1]"
   ]
  },
  {
   "cell_type": "code",
   "execution_count": null,
   "metadata": {},
   "outputs": [],
   "source": []
  }
 ],
 "metadata": {
  "kernelspec": {
   "display_name": "Python 3",
   "language": "python",
   "name": "python3"
  },
  "language_info": {
   "codemirror_mode": {
    "name": "ipython",
    "version": 3
   },
   "file_extension": ".py",
   "mimetype": "text/x-python",
   "name": "python",
   "nbconvert_exporter": "python",
   "pygments_lexer": "ipython3",
   "version": "3.8.3"
  }
 },
 "nbformat": 4,
 "nbformat_minor": 4
}
