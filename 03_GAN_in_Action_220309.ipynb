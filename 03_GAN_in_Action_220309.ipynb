{
 "cells": [
  {
   "cell_type": "code",
   "execution_count": 3,
   "metadata": {},
   "outputs": [],
   "source": [
    "from tensorflow.keras.layers import Input, Dense, Lambda\n",
    "from tensorflow.keras.models import Model\n",
    "from tensorflow.keras import backend as K\n",
    "from tensorflow.keras import metrics\n",
    "from tensorflow.keras.datasets import mnist\n",
    "import numpy as np"
   ]
  },
  {
   "cell_type": "code",
   "execution_count": 4,
   "metadata": {},
   "outputs": [],
   "source": [
    "# 58p\n",
    "batch_size = 100\n",
    "original_dim = 784\n",
    "latent_dim = 2\n",
    "intermediate_dim = 256\n",
    "epochs = 50\n",
    "epsilon_std = 1.0"
   ]
  },
  {
   "cell_type": "code",
   "execution_count": 7,
   "metadata": {},
   "outputs": [],
   "source": [
    "def sampling(args: tuple):\n",
    "    z_mean, z_log_var = args\n",
    "    epsilon = K.random_normal(shape=(K.shape(z_mean)[0], latent_dim), mean=0, stddev=epsilon_std)\n",
    "    \n",
    "    return z_mean + K.exp(z_log_var / 2) * epsilon"
   ]
  },
  {
   "cell_type": "code",
   "execution_count": 8,
   "metadata": {},
   "outputs": [],
   "source": [
    "# 인코더 만들기\n",
    "x = Input(shape=(original_dim), name=\"input\") # 인코더 입력\n",
    "h = Dense(intermediate_dim, activation=\"relu\", name=\"encoding\")(x) # 중간층\n",
    "z_mean = Dense(latent_dim, name=\"mean\")(h) # 잠재 공간의 평균을 정의합니다.\n",
    "z_log_var = Dense(latent_dim, name=\"log-variance\")(h) # 잠재 공간의 로그 분산을 정의합니다.\n",
    "\n",
    "z = Lambda(sampling, output_shape=(latent_dim,))([z_mean, z_log_var]) # 텐서플로 백엔드를 사용할 때는 output_shape이 꼭 필요한 것은 아닙니다.\n",
    "\n",
    "encoder = Model(x, [z_mean, z_log_var, z], name=\"encoder\") # 케라스 모델로 인코더를 정의합니다."
   ]
  },
  {
   "cell_type": "code",
   "execution_count": 9,
   "metadata": {},
   "outputs": [],
   "source": [
    "# 디코더 만들기\n",
    "input_decoder = Input(shape=(latent_dim,), name=\"decoder_input\") # 디코더 입력\n",
    "decoder_h = Dense(intermediate_dim, activation='relu', name=\"decoder_h\")(input_decoder) # 잠재 공간을 중간층의 차원으로 변환합니다.\n",
    "x_decoded = Dense(original_dim, activation='sigmoid', name=\"flat_decoded\")(decoder_h) # 원본 차원으로 변환합니다.\n",
    "decoder = Model(input_decoder, x_decoded, name=\"decoder\") # 케라스 모델로 디코더를 정의합니다."
   ]
  },
  {
   "cell_type": "code",
   "execution_count": 10,
   "metadata": {},
   "outputs": [
    {
     "name": "stdout",
     "output_type": "stream",
     "text": [
      "Model: \"model\"\n",
      "_________________________________________________________________\n",
      " Layer (type)                Output Shape              Param #   \n",
      "=================================================================\n",
      " input (InputLayer)          [(None, 784)]             0         \n",
      "                                                                 \n",
      " encoder (Functional)        [(None, 2),               201988    \n",
      "                              (None, 2),                         \n",
      "                              (None, 2)]                         \n",
      "                                                                 \n",
      " decoder (Functional)        (None, 784)               202256    \n",
      "                                                                 \n",
      "=================================================================\n",
      "Total params: 404,244\n",
      "Trainable params: 404,244\n",
      "Non-trainable params: 0\n",
      "_________________________________________________________________\n"
     ]
    }
   ],
   "source": [
    "# 모델 결합\n",
    "output_combined = decoder(encoder(x)[2]) # 인코더의 출력을 디코더에 사용합니다. 인코더의 3번쨰 반환 값이 z입니다.\n",
    "vae = Model(x, output_combined) # 입력과 출력을 연결합니다.\n",
    "vae.summary() # 모델 구조를 출력합니다."
   ]
  },
  {
   "cell_type": "code",
   "execution_count": 11,
   "metadata": {},
   "outputs": [],
   "source": [
    "# 이제부터는 익숙한 부분. 오토인코더를 훈련하기 위해 손실 함수를 정의\n",
    "kl_loss = -0.5 * K.sum(1 + z_log_var - K.exp(z_log_var) - K.square(z_mean), axis=-1)\n",
    "\n",
    "vae.add_loss(K.mean(kl_loss) / 784.)\n",
    "vae.compile(optimizer='rmsprop', loss=\"binary_crossentropy\") # 마지막으로 모델을 컴파일합니다."
   ]
  },
  {
   "cell_type": "code",
   "execution_count": 14,
   "metadata": {},
   "outputs": [],
   "source": [
    "(x_train, y_train),(x_test, y_test) = mnist.load_data()\n",
    "\n",
    "x_train = x_train.astype('float32')/255.\n",
    "x_test = x_test.astype('float32')/255.\n",
    "x_train = x_train.reshape((len(x_train), np.prod(x_train.shape[1:])))\n",
    "x_test = x_test.reshape((len(x_test), np.prod(x_test.shape[1:])))"
   ]
  },
  {
   "cell_type": "code",
   "execution_count": 15,
   "metadata": {},
   "outputs": [
    {
     "name": "stdout",
     "output_type": "stream",
     "text": [
      "Epoch 1/50\n",
      "600/600 [==============================] - 2s 3ms/step - loss: 0.2432\n",
      "Epoch 2/50\n",
      "600/600 [==============================] - 2s 3ms/step - loss: 0.2163\n",
      "Epoch 3/50\n",
      "600/600 [==============================] - 2s 3ms/step - loss: 0.2122\n",
      "Epoch 4/50\n",
      "600/600 [==============================] - 2s 3ms/step - loss: 0.2095\n",
      "Epoch 5/50\n",
      "600/600 [==============================] - 2s 3ms/step - loss: 0.2075\n",
      "Epoch 6/50\n",
      "600/600 [==============================] - 2s 3ms/step - loss: 0.2059\n",
      "Epoch 7/50\n",
      "600/600 [==============================] - 2s 3ms/step - loss: 0.2043\n",
      "Epoch 8/50\n",
      "600/600 [==============================] - 2s 3ms/step - loss: 0.2029\n",
      "Epoch 9/50\n",
      "600/600 [==============================] - 2s 3ms/step - loss: 0.2016\n",
      "Epoch 10/50\n",
      "600/600 [==============================] - 2s 3ms/step - loss: 0.2006\n",
      "Epoch 11/50\n",
      "600/600 [==============================] - 2s 3ms/step - loss: 0.1997\n",
      "Epoch 12/50\n",
      "600/600 [==============================] - 2s 3ms/step - loss: 0.1990\n",
      "Epoch 13/50\n",
      "600/600 [==============================] - 2s 3ms/step - loss: 0.1984\n",
      "Epoch 14/50\n",
      "600/600 [==============================] - 2s 3ms/step - loss: 0.1978\n",
      "Epoch 15/50\n",
      "600/600 [==============================] - 2s 3ms/step - loss: 0.1973\n",
      "Epoch 16/50\n",
      "600/600 [==============================] - 2s 3ms/step - loss: 0.1968\n",
      "Epoch 17/50\n",
      "600/600 [==============================] - 2s 3ms/step - loss: 0.1964\n",
      "Epoch 18/50\n",
      "600/600 [==============================] - 2s 3ms/step - loss: 0.1960\n",
      "Epoch 19/50\n",
      "600/600 [==============================] - 2s 3ms/step - loss: 0.1956\n",
      "Epoch 20/50\n",
      "600/600 [==============================] - 2s 3ms/step - loss: 0.1953\n",
      "Epoch 21/50\n",
      "600/600 [==============================] - 2s 3ms/step - loss: 0.1950\n",
      "Epoch 22/50\n",
      "600/600 [==============================] - 2s 3ms/step - loss: 0.1947\n",
      "Epoch 23/50\n",
      "600/600 [==============================] - 2s 3ms/step - loss: 0.1944\n",
      "Epoch 24/50\n",
      "600/600 [==============================] - 2s 4ms/step - loss: 0.1941\n",
      "Epoch 25/50\n",
      "600/600 [==============================] - 2s 4ms/step - loss: 0.1939\n",
      "Epoch 26/50\n",
      "600/600 [==============================] - 2s 3ms/step - loss: 0.1937\n",
      "Epoch 27/50\n",
      "600/600 [==============================] - 2s 4ms/step - loss: 0.1934\n",
      "Epoch 28/50\n",
      "600/600 [==============================] - 2s 4ms/step - loss: 0.1932\n",
      "Epoch 29/50\n",
      "600/600 [==============================] - 2s 4ms/step - loss: 0.1930\n",
      "Epoch 30/50\n",
      "600/600 [==============================] - 2s 3ms/step - loss: 0.1928\n",
      "Epoch 31/50\n",
      "600/600 [==============================] - 2s 3ms/step - loss: 0.1926\n",
      "Epoch 32/50\n",
      "600/600 [==============================] - 2s 3ms/step - loss: 0.1924\n",
      "Epoch 33/50\n",
      "600/600 [==============================] - 2s 3ms/step - loss: 0.1923\n",
      "Epoch 34/50\n",
      "600/600 [==============================] - 2s 3ms/step - loss: 0.1921\n",
      "Epoch 35/50\n",
      "600/600 [==============================] - 2s 3ms/step - loss: 0.1919\n",
      "Epoch 36/50\n",
      "600/600 [==============================] - 2s 3ms/step - loss: 0.1918\n",
      "Epoch 37/50\n",
      "600/600 [==============================] - 2s 3ms/step - loss: 0.1916\n",
      "Epoch 38/50\n",
      "600/600 [==============================] - 2s 3ms/step - loss: 0.1915\n",
      "Epoch 39/50\n",
      "600/600 [==============================] - 2s 3ms/step - loss: 0.1913\n",
      "Epoch 40/50\n",
      "600/600 [==============================] - 2s 3ms/step - loss: 0.1912\n",
      "Epoch 41/50\n",
      "600/600 [==============================] - 2s 3ms/step - loss: 0.1911\n",
      "Epoch 42/50\n",
      "600/600 [==============================] - 2s 3ms/step - loss: 0.1910\n",
      "Epoch 43/50\n",
      "600/600 [==============================] - 2s 3ms/step - loss: 0.1908\n",
      "Epoch 44/50\n",
      "600/600 [==============================] - 2s 3ms/step - loss: 0.1907\n",
      "Epoch 45/50\n",
      "600/600 [==============================] - 2s 3ms/step - loss: 0.1905\n",
      "Epoch 46/50\n",
      "600/600 [==============================] - 2s 3ms/step - loss: 0.1904\n",
      "Epoch 47/50\n",
      "600/600 [==============================] - 2s 3ms/step - loss: 0.1903\n",
      "Epoch 48/50\n",
      "600/600 [==============================] - 2s 3ms/step - loss: 0.1902\n",
      "Epoch 49/50\n",
      "600/600 [==============================] - 2s 3ms/step - loss: 0.1901\n",
      "Epoch 50/50\n",
      "600/600 [==============================] - 2s 3ms/step - loss: 0.1900\n"
     ]
    },
    {
     "data": {
      "text/plain": [
       "<keras.callbacks.History at 0x7fe26e203b20>"
      ]
     },
     "execution_count": 15,
     "metadata": {},
     "output_type": "execute_result"
    }
   ],
   "source": [
    "vae.fit(x_train, x_train, shuffle=True, epochs=epochs, batch_size=batch_size)"
   ]
  },
  {
   "cell_type": "code",
   "execution_count": null,
   "metadata": {},
   "outputs": [],
   "source": []
  }
 ],
 "metadata": {
  "kernelspec": {
   "display_name": "Python 3",
   "language": "python",
   "name": "python3"
  },
  "language_info": {
   "codemirror_mode": {
    "name": "ipython",
    "version": 3
   },
   "file_extension": ".py",
   "mimetype": "text/x-python",
   "name": "python",
   "nbconvert_exporter": "python",
   "pygments_lexer": "ipython3",
   "version": "3.8.3"
  }
 },
 "nbformat": 4,
 "nbformat_minor": 4
}
